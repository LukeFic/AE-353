{
 "cells": [
  {
   "cell_type": "markdown",
   "id": "middle-acoustic",
   "metadata": {},
   "source": [
    "# Quadrotor (aka \"the drone\")"
   ]
  },
  {
   "cell_type": "markdown",
   "id": "future-divide",
   "metadata": {},
   "source": [
    "## Example of how to set everything up (do this only once)"
   ]
  },
  {
   "cell_type": "markdown",
   "id": "faced-least",
   "metadata": {},
   "source": [
    "Import modules."
   ]
  },
  {
   "cell_type": "code",
   "execution_count": 35,
   "id": "informed-qatar",
   "metadata": {},
   "outputs": [],
   "source": [
    "import numpy as np\n",
    "import matplotlib.pyplot as plt\n",
    "from scipy import linalg\n",
    "import sympy as sym\n",
    "from sympy import *\n",
    "import secrets\n",
    "import ae353_drone\n",
    "\n",
    "# Suppress the use of scientific notation when printing small numbers\n",
    "np.set_printoptions(suppress=True)"
   ]
  },
  {
   "cell_type": "markdown",
   "id": "final-distinction",
   "metadata": {},
   "source": [
    "Create and print a seed for the random number generator so it is possible to reproduce the results. Here are a few best practices:\n",
    "\n",
    "* By default, keep this code unchanged.\n",
    "* When producing final results for your report, (1) run this cell once to create a seed, (2) copy/paste this seed into the line of code that creates a simulator, and (3) replace the code cell that creates a seed with a markdown cell saying that you took this approach to choose a seed for testing."
   ]
  },
  {
   "cell_type": "code",
   "execution_count": 2,
   "id": "ceramic-evanescence",
   "metadata": {},
   "outputs": [
    {
     "name": "stdout",
     "output_type": "stream",
     "text": [
      "1792842405\n"
     ]
    }
   ],
   "source": [
    "seed = secrets.randbits(32)\n",
    "print(seed)"
   ]
  },
  {
   "cell_type": "markdown",
   "id": "environmental-refrigerator",
   "metadata": {},
   "source": [
    "Create simulator with seed.\n",
    "\n",
    "If your simulator runs much slower than real-time, then you can try adding the optional argument `display_pybullet=True` (instead of using meshcat views)."
   ]
  },
  {
   "cell_type": "code",
   "execution_count": 3,
   "id": "needed-motion",
   "metadata": {},
   "outputs": [],
   "source": [
    "simulator = ae353_drone.Simulator(seed=seed)"
   ]
  },
  {
   "cell_type": "markdown",
   "id": "c3c358c6",
   "metadata": {},
   "source": [
    "Add a camera view. This view will be displayed in its own browser window."
   ]
  },
  {
   "cell_type": "code",
   "execution_count": 4,
   "id": "3a92a1ff",
   "metadata": {},
   "outputs": [
    {
     "name": "stdout",
     "output_type": "stream",
     "text": [
      "You can open the visualizer by visiting the following URL:\n",
      "http://127.0.0.1:7000/static/\n"
     ]
    }
   ],
   "source": [
    "simulator.add_view(\n",
    "    'my_start_view',  # name of view (must be unique)\n",
    "    'start',          # type of view (start, top, right, left, or back)\n",
    ")"
   ]
  },
  {
   "cell_type": "markdown",
   "id": "5fae9a1a-cc7e-46c7-9dbc-64b929a4b42f",
   "metadata": {},
   "source": [
    "## Dynamic model\n",
    "Define physical parameters."
   ]
  },
  {
   "cell_type": "code",
   "execution_count": 5,
   "id": "8940fbdb-dbf3-49d1-ae57-84724381d6db",
   "metadata": {},
   "outputs": [],
   "source": [
    "params = {\n",
    "    'm': 0.5,\n",
    "    'Jx': 0.0023,\n",
    "    'Jy': 0.0023,\n",
    "    'Jz': 0.0040,\n",
    "    'l': 0.175,\n",
    "    'g': 9.81,\n",
    "}"
   ]
  },
  {
   "cell_type": "markdown",
   "id": "6ea5ebbe-9c03-407e-825f-9ce6be8272df",
   "metadata": {},
   "source": [
    "Derive the equations of motion:"
   ]
  },
  {
   "cell_type": "code",
   "execution_count": 6,
   "id": "8df3efac-2abd-44d8-955d-b73e13621394",
   "metadata": {},
   "outputs": [],
   "source": [
    "# components of position (meters)\n",
    "p_x, p_y, p_z = sym.symbols('p_x, p_y, p_z')\n",
    "\n",
    "# yaw, pitch, roll angles (radians)\n",
    "psi, theta, phi = sym.symbols('psi, theta, phi')\n",
    "\n",
    "# components of linear velocity (meters / second)\n",
    "v_x, v_y, v_z = sym.symbols('v_x, v_y, v_z')\n",
    "v_in_body = sym.Matrix([v_x, v_y, v_z])\n",
    "\n",
    "# components of angular velocity (radians / second)\n",
    "w_x, w_y, w_z = sym.symbols('w_x, w_y, w_z')\n",
    "w_in_body = sym.Matrix([w_x, w_y, w_z])\n",
    "\n",
    "# components of net rotor torque\n",
    "tau_x, tau_y, tau_z = sym.symbols('tau_x, tau_y, tau_z')\n",
    "\n",
    "# net rotor force\n",
    "f_z = sym.symbols('f_z')\n",
    "\n",
    "# parameters\n",
    "m = sym.nsimplify(params['m'])\n",
    "Jx = sym.nsimplify(params['Jx'])\n",
    "Jy = sym.nsimplify(params['Jy'])\n",
    "Jz = sym.nsimplify(params['Jz'])\n",
    "l = sym.nsimplify(params['l'])\n",
    "g = sym.nsimplify(params['g'])\n",
    "J = sym.diag(Jx, Jy, Jz)\n",
    "\n",
    "# rotation matrices\n",
    "Rz = sym.Matrix([[sym.cos(psi), -sym.sin(psi), 0], [sym.sin(psi), sym.cos(psi), 0], [0, 0, 1]])\n",
    "Ry = sym.Matrix([[sym.cos(theta), 0, sym.sin(theta)], [0, 1, 0], [-sym.sin(theta), 0, sym.cos(theta)]])\n",
    "Rx = sym.Matrix([[1, 0, 0], [0, sym.cos(phi), -sym.sin(phi)], [0, sym.sin(phi), sym.cos(phi)]])\n",
    "R_body_in_world = Rz @ Ry @ Rx\n",
    "\n",
    "# angular velocity to angular rates\n",
    "ex = sym.Matrix([[1], [0], [0]])\n",
    "ey = sym.Matrix([[0], [1], [0]])\n",
    "ez = sym.Matrix([[0], [0], [1]])\n",
    "M = sym.simplify(sym.Matrix.hstack((Ry @ Rx).T @ ez, Rx.T @ ey, ex).inv(), full=True)\n",
    "\n",
    "# applied forces\n",
    "f_in_body = R_body_in_world.T @ sym.Matrix([[0], [0], [-m * g]]) + sym.Matrix([[0], [0], [f_z]])\n",
    "\n",
    "# applied torques\n",
    "tau_in_body = sym.Matrix([[tau_x], [tau_y], [tau_z]])\n",
    "\n",
    "# equations of motion\n",
    "f = sym.Matrix.vstack(\n",
    "    R_body_in_world @ v_in_body,\n",
    "    M @ w_in_body,\n",
    "    (1 / m) * (f_in_body - w_in_body.cross(m * v_in_body)),\n",
    "    J.inv() @ (tau_in_body - w_in_body.cross(J @ w_in_body)),\n",
    ")\n",
    "\n",
    "f = sym.simplify(f, full=True)"
   ]
  },
  {
   "cell_type": "code",
   "execution_count": 7,
   "id": "af61c355-90bc-4ac0-b8f5-57af5c942823",
   "metadata": {},
   "outputs": [
    {
     "data": {
      "text/plain": [
       "array([[ 0.  ,  0.  ,  0.  ,  0.  ,  0.  ,  0.  ,  1.  ,  0.  ,  0.  ,\n",
       "         0.  ,  0.  ,  0.  ],\n",
       "       [ 0.  ,  0.  ,  0.  ,  0.  ,  0.  ,  0.  ,  0.  ,  1.  ,  0.  ,\n",
       "         0.  ,  0.  ,  0.  ],\n",
       "       [ 0.  ,  0.  ,  0.  ,  0.  ,  0.  ,  0.  , -0.  ,  0.  ,  1.  ,\n",
       "         0.  ,  0.  ,  0.  ],\n",
       "       [ 0.  ,  0.  ,  0.  ,  0.  ,  0.  ,  0.  ,  0.  ,  0.  ,  0.  ,\n",
       "         0.  ,  0.  ,  1.  ],\n",
       "       [ 0.  ,  0.  ,  0.  ,  0.  ,  0.  ,  0.  ,  0.  ,  0.  ,  0.  ,\n",
       "         0.  ,  1.  , -0.  ],\n",
       "       [ 0.  ,  0.  ,  0.  ,  0.  ,  0.  ,  0.  ,  0.  ,  0.  ,  0.  ,\n",
       "         1.  ,  0.  ,  0.  ],\n",
       "       [ 0.  ,  0.  ,  0.  ,  0.  ,  9.81,  0.  ,  0.  ,  0.  ,  0.  ,\n",
       "         0.  ,  0.  ,  0.  ],\n",
       "       [ 0.  ,  0.  ,  0.  ,  0.  ,  0.  , -9.81,  0.  ,  0.  ,  0.  ,\n",
       "         0.  ,  0.  ,  0.  ],\n",
       "       [ 0.  ,  0.  ,  0.  ,  0.  ,  0.  ,  0.  ,  0.  ,  0.  ,  0.  ,\n",
       "         0.  ,  0.  ,  0.  ],\n",
       "       [ 0.  ,  0.  ,  0.  ,  0.  ,  0.  ,  0.  ,  0.  ,  0.  ,  0.  ,\n",
       "         0.  , -0.  , -0.  ],\n",
       "       [ 0.  ,  0.  ,  0.  ,  0.  ,  0.  ,  0.  ,  0.  ,  0.  ,  0.  ,\n",
       "         0.  ,  0.  ,  0.  ],\n",
       "       [ 0.  ,  0.  ,  0.  ,  0.  ,  0.  ,  0.  ,  0.  ,  0.  ,  0.  ,\n",
       "         0.  ,  0.  ,  0.  ]])"
      ]
     },
     "execution_count": 7,
     "metadata": {},
     "output_type": "execute_result"
    }
   ],
   "source": [
    "anum = lambdify((p_x, p_y, p_z, psi, theta, phi,v_x, v_y, v_z,w_x, w_y, w_z,tau_x, tau_y, tau_z, f_z), f.jacobian([p_x, p_y, p_z, psi, theta, phi,v_x, v_y, v_z,w_x, w_y, w_z]))\n",
    "A = anum(0,0,0,0,0,0,0,0,0,0,0,0,0,0,0,0)\n",
    "A.shape\n"
   ]
  },
  {
   "cell_type": "code",
   "execution_count": 12,
   "id": "199fc2c8-0079-4a41-bba3-1717a6040662",
   "metadata": {},
   "outputs": [
    {
     "data": {
      "text/plain": [
       "(12, 4)"
      ]
     },
     "execution_count": 12,
     "metadata": {},
     "output_type": "execute_result"
    }
   ],
   "source": [
    "bnum = lambdify((p_x, p_y, p_z, psi, theta, phi,v_x, v_y, v_z,w_x, w_y, w_z,tau_x, tau_y, tau_z, f_z), f.jacobian([tau_x, tau_y, tau_z, f_z]))\n",
    "B = bnum(0,0,0,0,0,0,0,0,0,0,0,0,0,0,0,0)\n",
    "B.shape"
   ]
  },
  {
   "cell_type": "markdown",
   "id": "10c3edb0-5bfa-426c-a8c1-c9b193020a60",
   "metadata": {},
   "source": [
    "## Sensor model\n",
    "Define the sensor model."
   ]
  },
  {
   "cell_type": "code",
   "execution_count": 13,
   "id": "c8cc2a4b-f993-4637-b74b-0a155bed6c33",
   "metadata": {},
   "outputs": [
    {
     "data": {
      "text/latex": [
       "$\\displaystyle \\left[\\begin{matrix}p_{x} + \\frac{7 \\sin{\\left(\\phi \\right)} \\sin{\\left(\\theta \\right)} \\cos{\\left(\\psi \\right)}}{40} - \\frac{7 \\sin{\\left(\\psi \\right)} \\cos{\\left(\\phi \\right)}}{40}\\\\p_{y} + \\frac{7 \\sin{\\left(\\phi \\right)} \\sin{\\left(\\psi \\right)} \\sin{\\left(\\theta \\right)}}{40} + \\frac{7 \\cos{\\left(\\phi \\right)} \\cos{\\left(\\psi \\right)}}{40}\\\\p_{z} + \\frac{7 \\sin{\\left(\\phi \\right)} \\cos{\\left(\\theta \\right)}}{40}\\\\p_{x} - \\frac{7 \\sin{\\left(\\phi \\right)} \\sin{\\left(\\theta \\right)} \\cos{\\left(\\psi \\right)}}{40} + \\frac{7 \\sin{\\left(\\psi \\right)} \\cos{\\left(\\phi \\right)}}{40}\\\\p_{y} - \\frac{7 \\sin{\\left(\\phi \\right)} \\sin{\\left(\\psi \\right)} \\sin{\\left(\\theta \\right)}}{40} - \\frac{7 \\cos{\\left(\\phi \\right)} \\cos{\\left(\\psi \\right)}}{40}\\\\p_{z} - \\frac{7 \\sin{\\left(\\phi \\right)} \\cos{\\left(\\theta \\right)}}{40}\\end{matrix}\\right]$"
      ],
      "text/plain": [
       "Matrix([\n",
       "[p_x + 7*sin(phi)*sin(theta)*cos(psi)/40 - 7*sin(psi)*cos(phi)/40],\n",
       "[p_y + 7*sin(phi)*sin(psi)*sin(theta)/40 + 7*cos(phi)*cos(psi)/40],\n",
       "[                                  p_z + 7*sin(phi)*cos(theta)/40],\n",
       "[p_x - 7*sin(phi)*sin(theta)*cos(psi)/40 + 7*sin(psi)*cos(phi)/40],\n",
       "[p_y - 7*sin(phi)*sin(psi)*sin(theta)/40 - 7*cos(phi)*cos(psi)/40],\n",
       "[                                  p_z - 7*sin(phi)*cos(theta)/40]])"
      ]
     },
     "execution_count": 13,
     "metadata": {},
     "output_type": "execute_result"
    }
   ],
   "source": [
    "# Position of drone in world frame\n",
    "p_in_world = sym.Matrix([p_x, p_y, p_z])\n",
    "\n",
    "# Position of markers in body frame\n",
    "a_in_body = sym.Matrix([0, l, 0])  # <-- marker on left rotor\n",
    "b_in_body = sym.Matrix([0, -l, 0]) # <-- marker on right rotor\n",
    "\n",
    "# Position of markers in world frame\n",
    "a_in_world = p_in_world + R_body_in_world @ a_in_body\n",
    "b_in_world = p_in_world + R_body_in_world @ b_in_body\n",
    "\n",
    "# Sensor model\n",
    "g = sym.simplify(sym.Matrix.vstack(a_in_world, b_in_world))\n",
    "g"
   ]
  },
  {
   "cell_type": "markdown",
   "id": "394746aa-106c-48b5-bef5-b140b93760a0",
   "metadata": {},
   "source": [
    "The sensor model has this form:\n",
    "\n",
    "$$o = g(p_x, p_y, p_z, \\psi, \\theta, \\phi)$$\n",
    "\n",
    "Here is the function $g$:"
   ]
  },
  {
   "cell_type": "code",
   "execution_count": 43,
   "id": "1d53e552-dff2-474d-aa49-157fc08f792e",
   "metadata": {},
   "outputs": [
    {
     "data": {
      "text/plain": [
       "(6, 12)"
      ]
     },
     "execution_count": 43,
     "metadata": {},
     "output_type": "execute_result"
    }
   ],
   "source": [
    "cnum = lambdify((p_x, p_y, p_z, psi, theta, phi,v_x, v_y, v_z,w_x, w_y, w_z,tau_x, tau_y, tau_z, f_z),g.jacobian((p_x,p_y,p_z,psi,theta,phi,v_x, v_y, v_z,w_x, w_y, w_z)))\n",
    "C = cnum(0,0,0,0,0,0,0,0,0,0,0,0,0,0,0,0)\n",
    "C.shape"
   ]
  },
  {
   "cell_type": "code",
   "execution_count": 23,
   "id": "7aeda0e3-b0e7-468b-8263-355a766d9262",
   "metadata": {},
   "outputs": [
    {
     "data": {
      "text/plain": [
       "np.True_"
      ]
     },
     "execution_count": 23,
     "metadata": {},
     "output_type": "execute_result"
    }
   ],
   "source": [
    "Wc = B\n",
    "for i in range(1,A.shape[0]):\n",
    "    col = np.linalg.matrix_power(A,i) @ B\n",
    "    Wc = np.block([Wc,col])\n",
    "np.linalg.matrix_rank(Wc) == A.shape[0]"
   ]
  },
  {
   "cell_type": "code",
   "execution_count": 32,
   "id": "babded7a-9458-4c3d-b30d-ea96868d4c6f",
   "metadata": {},
   "outputs": [
    {
     "data": {
      "text/plain": [
       "np.True_"
      ]
     },
     "execution_count": 32,
     "metadata": {},
     "output_type": "execute_result"
    }
   ],
   "source": [
    "Wo = C.T\n",
    "for i in range(1,A.shape[0]):\n",
    "    col = np.linalg.matrix_power(A.T,i) @ C.T\n",
    "    Wo = np.block([Wo,col])\n",
    "np.linalg.matrix_rank(Wo) == A.shape[0]"
   ]
  },
  {
   "cell_type": "code",
   "execution_count": 33,
   "id": "c3ddc7f7-d9c8-4035-95bd-8caccb818706",
   "metadata": {},
   "outputs": [],
   "source": [
    "def lqr(A, B, Q, R):\n",
    "    # Find the cost matrix\n",
    "    P = linalg.solve_continuous_are(A, B, Q, R)\n",
    "    # Find the gain matrix\n",
    "    K = linalg.inv(R) @ B.T @ P\n",
    "    return K"
   ]
  },
  {
   "cell_type": "code",
   "execution_count": 46,
   "id": "9ac04565-8e4d-4ac7-a982-4ea9163b0fc0",
   "metadata": {},
   "outputs": [
    {
     "data": {
      "text/plain": [
       "array([[ 0.        , -1.        ,  0.        ,  0.        ,  0.        ,\n",
       "         5.46213218, -0.        , -1.45381723,  0.        ,  1.01248497,\n",
       "         0.        ,  0.        ],\n",
       "       [ 1.        ,  0.        ,  0.        ,  0.        ,  5.46213218,\n",
       "         0.        ,  1.45381723,  0.        ,  0.        ,  0.        ,\n",
       "         1.01248497,  0.        ],\n",
       "       [ 0.        , -0.        , -0.        ,  1.        ,  0.        ,\n",
       "         0.        , -0.        , -0.        , -0.        ,  0.        ,\n",
       "         0.        ,  1.00399203],\n",
       "       [ 0.        ,  0.        ,  1.        , -0.        ,  0.        ,\n",
       "        -0.        ,  0.        ,  0.        ,  1.41421356,  0.        ,\n",
       "         0.        , -0.        ]])"
      ]
     },
     "execution_count": 46,
     "metadata": {},
     "output_type": "execute_result"
    }
   ],
   "source": [
    "Qc = np.eye(12) \n",
    "Rc = np.eye(4)\n",
    "\n",
    "K = lqr(A,B,Qc,Rc)\n"
   ]
  },
  {
   "cell_type": "code",
   "execution_count": 45,
   "id": "5c978bd4-ff6c-4f7a-9e78-5fea80c4bc05",
   "metadata": {},
   "outputs": [
    {
     "data": {
      "text/plain": [
       "array([[ 2.97537602,  0.        ,  0.        , -2.13087076,  1.30543174,\n",
       "        -0.        ,  8.35286245,  0.        , -0.        , -0.        ,\n",
       "         0.70710678, -0.70710678],\n",
       "       [ 0.        ,  2.92711379,  0.        , -0.        ,  0.        ,\n",
       "        -1.25581808,  0.        ,  8.1162932 ,  0.        , -0.67683134,\n",
       "         0.        , -0.        ],\n",
       "       [-0.        , -0.21976816,  1.09868411, -0.        , -0.        ,\n",
       "         0.30429738, -0.        , -1.19153357,  0.70710678,  0.20469329,\n",
       "        -0.        ,  0.        ],\n",
       "       [ 2.97537602,  0.        , -0.        ,  2.13087076,  1.30543174,\n",
       "        -0.        ,  8.35286245,  0.        ,  0.        , -0.        ,\n",
       "         0.70710678,  0.70710678],\n",
       "       [ 0.        ,  2.92711379,  0.        , -0.        ,  0.        ,\n",
       "        -1.25581808,  0.        ,  8.1162932 ,  0.        , -0.67683134,\n",
       "         0.        , -0.        ],\n",
       "       [ 0.        ,  0.21976816,  1.09868411,  0.        ,  0.        ,\n",
       "        -0.30429738,  0.        ,  1.19153357,  0.70710678, -0.20469329,\n",
       "         0.        ,  0.        ]])"
      ]
     },
     "execution_count": 45,
     "metadata": {},
     "output_type": "execute_result"
    }
   ],
   "source": [
    "Qo = np.eye(6)\n",
    "Ro = np.eye(12)\n",
    "\n",
    "L = lqr(A.T,C.T,linalg.inv(Ro),linalg.inv(Qo))\n"
   ]
  },
  {
   "cell_type": "markdown",
   "id": "strategic-moore",
   "metadata": {},
   "source": [
    "## Example of how to add a drone and run a simulation"
   ]
  },
  {
   "cell_type": "markdown",
   "id": "f0f1d092",
   "metadata": {},
   "source": [
    "Clear all drones (there aren't any yet, if you are running this notebook from the start, but we call this function just in case)."
   ]
  },
  {
   "cell_type": "code",
   "execution_count": 70,
   "id": "69d0a794",
   "metadata": {},
   "outputs": [],
   "source": [
    "simulator.clear_drones()"
   ]
  },
  {
   "cell_type": "markdown",
   "id": "electronic-repository",
   "metadata": {},
   "source": [
    "Define a controller for the drone."
   ]
  },
  {
   "cell_type": "code",
   "execution_count": 71,
   "id": "mathematical-emphasis",
   "metadata": {},
   "outputs": [],
   "source": [
    "class Controller:\n",
    "    def __init__(self):\n",
    "        \"\"\"\n",
    "        List all class variables you want the simulator to log. For\n",
    "        example, if you want the simulator to log \"self.xhat\", then\n",
    "        do this:\n",
    "        \n",
    "            self.variables_to_log = ['xhat']\n",
    "        \n",
    "        Similarly, if you want the simulator to log \"self.xhat\" and\n",
    "        \"self.y\", then do this:\n",
    "        \n",
    "            self.variables_to_log = ['xhat', 'y']\n",
    "        \n",
    "        Etc. These variables have to exist in order to be logged.\n",
    "        \"\"\"\n",
    "        self.A = A\n",
    "        self.B = B\n",
    "        self.C = C\n",
    "        self.K = K\n",
    "        self.L = L\n",
    "        #self.xhat = np.array([0,0,0,0,0,0,0,0,0,0,0,0])\n",
    "        self.variables_to_log = []\n",
    "\n",
    "    def get_color(self):\n",
    "        \"\"\"\n",
    "        If desired, change these three numbers - RGB values between\n",
    "        0 and 1 - to change the color of your drone.\n",
    "        \"\"\"\n",
    "        return [\n",
    "            0., # <-- how much red (between 0 and 1)\n",
    "            1., # <-- how much green (between 0 and 1)\n",
    "            0., # <-- how much blue (between 0 and 1)\n",
    "        ]\n",
    "\n",
    "    def reset(\n",
    "            self,\n",
    "            p_x, p_y, p_z, # <-- approximate initial position of drone (meters)\n",
    "            yaw,           # <-- approximate initial yaw angle of drone (radians)\n",
    "        ):\n",
    "        \"\"\"\n",
    "        Replace the following line (a placeholder) with your\n",
    "        own code.\n",
    "        \"\"\"\n",
    "        self.xhat = np.array([p_x,p_y,p_z,0,0,yaw,0,0,0,0,0,0])\n",
    "        pass\n",
    "\n",
    "    def run(\n",
    "            self,\n",
    "            pos_markers,\n",
    "            pos_ring,\n",
    "            dir_ring,\n",
    "            is_last_ring,\n",
    "            pos_others,\n",
    "        ):\n",
    "        \"\"\"\n",
    "        pos_markers is a 1d array of length 6:\n",
    "        \n",
    "            [\n",
    "                measured x position of marker on left rotor (meters),\n",
    "                measured y position of marker on left rotor (meters),\n",
    "                measured z position of marker on left rotor (meters),\n",
    "                measured x position of marker on right rotor (meters),\n",
    "                measured y position of marker on right rotor (meters),\n",
    "                measured z position of marker on right rotor (meters),\n",
    "            ]\n",
    "        \n",
    "        pos_ring is a 1d array of length 3:\n",
    "        \n",
    "            [\n",
    "                x position of next ring center (meters),\n",
    "                y position of next ring center (meters),\n",
    "                z position of next ring center (meters),\n",
    "            ]\n",
    "        \n",
    "        dir_ring is a 1d array of length 3:\n",
    "        \n",
    "            [\n",
    "                x component of vector normal to next ring (meters),\n",
    "                y component of vector normal to next ring (meters),\n",
    "                z component of vector normal to next ring (meters),\n",
    "            ]\n",
    "        \n",
    "        is_last_ring is a boolean that is True if the next ring is the\n",
    "                     last ring, and False otherwise\n",
    "        \n",
    "        pos_others is a 2d array of size n x 3, where n is the number of\n",
    "                   all other active drones:\n",
    "            \n",
    "            [\n",
    "                [x_1, y_1, z_1], # <-- position of 1st drone (meters)\n",
    "                [x_2, y_2, z_2], # <-- position of 2nd drone (meters)\n",
    "                \n",
    "                ...\n",
    "                \n",
    "                [x_n, y_n, z_n], # <-- position of nth drone (meters)\n",
    "            ]      \n",
    "        \"\"\"\n",
    "        pm = np.block([pos_markers,0,0,0,0,0,0])\n",
    "        y = (self.xhat - pm) # measures - equilibrium points\n",
    "        u = -self.K@self.xhat\n",
    "\n",
    "        self.xhat += self.A @ self.xhat + self.B @ u - self.L @ (self.C @ self.xhat - y)\n",
    "        tau_x = u[0]\n",
    "        tau_y = u[1]\n",
    "        tau_z = u[2]\n",
    "        f_z = u[3]\n",
    "\n",
    "        return tau_x, tau_y, tau_z, f_z"
   ]
  },
  {
   "cell_type": "markdown",
   "id": "9f1dd2ee",
   "metadata": {},
   "source": [
    "Add the drone to the simulator. There are three arguments:\n",
    "\n",
    "* `Controller` is the class definition\n",
    "* `'template'` is the name of the drone\n",
    "* `'template.png'` is the name of an image to use as a label (can be `None`, can be a file path)\n",
    "\n",
    "You can call this function more than once, so long as you call it with a different drone name each time. An exception will be raised if you try to add two drones of the same name to the simulator."
   ]
  },
  {
   "cell_type": "code",
   "execution_count": 72,
   "id": "164c306e",
   "metadata": {},
   "outputs": [],
   "source": [
    "simulator.add_drone(Controller, 'template', 'template.png')"
   ]
  },
  {
   "cell_type": "markdown",
   "id": "basic-variance",
   "metadata": {},
   "source": [
    "Reset the drone (i.e., place it at a random location in the start ring)."
   ]
  },
  {
   "cell_type": "code",
   "execution_count": 73,
   "id": "scientific-friendly",
   "metadata": {},
   "outputs": [],
   "source": [
    "simulator.reset()"
   ]
  },
  {
   "cell_type": "markdown",
   "id": "dress-product",
   "metadata": {},
   "source": [
    "Run simulation until `max_time` is reached or until the drone has either reached the finish ring or been disqualified."
   ]
  },
  {
   "cell_type": "code",
   "execution_count": 74,
   "id": "streaming-narrative",
   "metadata": {},
   "outputs": [
    {
     "name": "stdout",
     "output_type": "stream",
     "text": [
      "\n",
      "==========\n",
      "error on run of drone template (turning it off):\n",
      "==========\n",
      "Traceback (most recent call last):\n",
      "  File \"C:\\Users\\lafic\\OneDrive\\Desktop\\AE 353\\ae353-sp25\\projects\\04_drone\\ae353_drone.py\", line 974, in step\n",
      "    ) = drone['controller'].run(\n",
      "        ~~~~~~~~~~~~~~~~~~~~~~~^\n",
      "        pos_markers,\n",
      "        ^^^^^^^^^^^^\n",
      "    ...<3 lines>...\n",
      "        np.delete(all_pos, np.union1d(index_inactive, index).astype(int), axis=0),\n",
      "        ^^^^^^^^^^^^^^^^^^^^^^^^^^^^^^^^^^^^^^^^^^^^^^^^^^^^^^^^^^^^^^^^^^^^^^^^^^\n",
      "    )\n",
      "    ^\n",
      "  File \"C:\\Users\\lafic\\AppData\\Local\\Temp\\ipykernel_2456\\1281869515.py\", line 103, in run\n",
      "    self.xhat += self.A @ self.xhat + self.B @ u - self.L @ (self.C @ self.xhat - y)\n",
      "                                                             ~~~~~~~~~~~~~~~~~~~^~~\n",
      "ValueError: operands could not be broadcast together with shapes (6,) (12,) \n",
      "==========\n",
      "\n",
      "Simulated 2 time steps in 0.0833 seconds (24.0118 time steps per second)\n"
     ]
    }
   ],
   "source": [
    "simulator.run(\n",
    "    max_time=5.,       # <-- if None, then simulation will run until all drones fail or finish\n",
    "    print_debug=True,  # <-- if False, then nothing will be printed (good for data collection)\n",
    ")"
   ]
  },
  {
   "cell_type": "markdown",
   "id": "registered-faith",
   "metadata": {},
   "source": [
    "## Example of how to get and plot results\n",
    "\n",
    "Assume that we already did two things:\n",
    "\n",
    "* Added a drone with the name `template` to the simulator\n",
    "* Ran the simulation"
   ]
  },
  {
   "cell_type": "markdown",
   "id": "ec57964f",
   "metadata": {},
   "source": [
    "Get result."
   ]
  },
  {
   "cell_type": "code",
   "execution_count": null,
   "id": "e41d5a61",
   "metadata": {},
   "outputs": [],
   "source": [
    "(\n",
    "    did_it_fail,\n",
    "    did_it_finish,\n",
    "    what_time_did_it_finish,\n",
    ") = simulator.get_result('template')"
   ]
  },
  {
   "cell_type": "markdown",
   "id": "8967e6bd",
   "metadata": {},
   "source": [
    "Show result."
   ]
  },
  {
   "cell_type": "code",
   "execution_count": null,
   "id": "7d2272c6",
   "metadata": {},
   "outputs": [],
   "source": [
    "if did_it_fail:\n",
    "    print('The drone failed before finishing.')\n",
    "elif did_it_finish:\n",
    "    print(f'The drone finished at time {what_time_did_it_finish}')\n",
    "else:\n",
    "    print('The drone did not finish (yet).')"
   ]
  },
  {
   "cell_type": "markdown",
   "id": "polished-advisory",
   "metadata": {},
   "source": [
    "Get data."
   ]
  },
  {
   "cell_type": "code",
   "execution_count": null,
   "id": "liked-handle",
   "metadata": {},
   "outputs": [],
   "source": [
    "data = simulator.get_data('template')"
   ]
  },
  {
   "cell_type": "markdown",
   "id": "cognitive-nomination",
   "metadata": {},
   "source": [
    "Plot data."
   ]
  },
  {
   "cell_type": "code",
   "execution_count": null,
   "id": "57d41980",
   "metadata": {},
   "outputs": [],
   "source": [
    "# Create a figure with subplots that all share the same x-axis\n",
    "fig, (ax_meas, ax_pos, ax_ori, ax_act) = plt.subplots(4, 1, figsize=(12, 12), sharex=True)\n",
    "\n",
    "# Measurements\n",
    "ax_meas.plot(data['t'], data['pos_markers'][:, 0], '.', markersize=4, label=r'$p_{L, x}$')\n",
    "ax_meas.plot(data['t'], data['pos_markers'][:, 1], '.', markersize=4, label=r'$p_{L, y}$')\n",
    "ax_meas.plot(data['t'], data['pos_markers'][:, 2], '.', markersize=4, label=r'$p_{L, z}$')\n",
    "ax_meas.plot(data['t'], data['pos_markers'][:, 3], '.', markersize=4, label=r'$p_{R, x}$')\n",
    "ax_meas.plot(data['t'], data['pos_markers'][:, 4], '.', markersize=4, label=r'$p_{R, y}$')\n",
    "ax_meas.plot(data['t'], data['pos_markers'][:, 5], '.', markersize=4, label=r'$p_{R, z}$')\n",
    "ax_meas.grid()\n",
    "ax_meas.legend(fontsize=16, bbox_to_anchor=(1., 1.))\n",
    "ax_meas.tick_params(labelsize=14)\n",
    "\n",
    "# Position\n",
    "ax_pos.plot(data['t'], data['p_x'], label='x (m)', linewidth=3, color='C0')\n",
    "ax_pos.plot(data['t'], data['p_y'], label='y (m)', linewidth=3, color='C1')\n",
    "ax_pos.plot(data['t'], data['p_z'], label='z (m)', linewidth=3, color='C2')\n",
    "ax_pos.grid()\n",
    "ax_pos.legend(fontsize=16, bbox_to_anchor=(1., 1.))\n",
    "ax_pos.tick_params(labelsize=14)\n",
    "\n",
    "# Orientation\n",
    "ax_ori.plot(data['t'], data['yaw'], label='yaw (rad)', linewidth=3)\n",
    "ax_ori.plot(data['t'], data['pitch'], label='pitch (rad)', linewidth=3)\n",
    "ax_ori.plot(data['t'], data['roll'], label='roll (rad)', linewidth=3)\n",
    "ax_ori.grid()\n",
    "ax_ori.legend(fontsize=16, bbox_to_anchor=(1., 1.))\n",
    "ax_ori.tick_params(labelsize=14)\n",
    "\n",
    "# Actuator commands\n",
    "ax_act.plot(data['t'], data['tau_x'], label='tau_x (N-m)', linewidth=4)\n",
    "ax_act.plot(data['t'], data['tau_x_cmd'], '--', label='commanded tau_x (N-m)', linewidth=4)\n",
    "ax_act.plot(data['t'], data['tau_y'], label='tau_y (N-m)', linewidth=4)\n",
    "ax_act.plot(data['t'], data['tau_y_cmd'], '--', label='commanded tau_y (N-m)', linewidth=4)\n",
    "ax_act.plot(data['t'], data['tau_z'], label='tau_z (N-m)', linewidth=4)\n",
    "ax_act.plot(data['t'], data['tau_z_cmd'], '--', label='commanded tau_z (N-m)', linewidth=4)\n",
    "ax_act.plot(data['t'], data['f_z'] - (0.5 * 9.81), label='f_z - m g (N)', linewidth=4) # <-- FIXME\n",
    "ax_act.plot(data['t'], data['f_z_cmd'] - (0.5 * 9.81), '--', label='commanded f_z - m g (N)', linewidth=4) # <-- FIXME\n",
    "ax_act.grid()\n",
    "ax_act.legend(fontsize=16, bbox_to_anchor=(1., 1.))\n",
    "ax_act.tick_params(labelsize=14)\n",
    "\n",
    "# Set shared x-axis properties\n",
    "ax_act.set_xlabel('time (s)', fontsize=20)\n",
    "ax_act.set_xlim([data['t'][0], data['t'][-1]])\n",
    "\n",
    "# Make the arrangement of subplots look nice\n",
    "fig.tight_layout()\n",
    "plt.show()"
   ]
  },
  {
   "cell_type": "markdown",
   "id": "03d089f6",
   "metadata": {},
   "source": [
    "Save the figure (without transparent background). Here are some best practices:\n",
    "\n",
    "* Use the extension `.png` for rasterized, low-res images (e.g., to include in a notebook or on a website).\n",
    "* Use the extension `.pdf` for vectorized, high-res images (e.g., to include in a report)."
   ]
  },
  {
   "cell_type": "code",
   "execution_count": null,
   "id": "8a97dcec",
   "metadata": {},
   "outputs": [],
   "source": [
    "fig.savefig('my_figure.png', facecolor='white', transparent=False)"
   ]
  },
  {
   "cell_type": "markdown",
   "id": "0439cf3a",
   "metadata": {},
   "source": [
    "Plot histogram of controller run times."
   ]
  },
  {
   "cell_type": "code",
   "execution_count": null,
   "id": "4921eddc",
   "metadata": {},
   "outputs": [],
   "source": [
    "plt.hist(data['run_time'])\n",
    "plt.ticklabel_format(style='scientific', scilimits=(0, 0), axis='x')\n",
    "plt.tick_params(labelsize=14)\n",
    "plt.xlabel('run time (s)', fontsize=14)\n",
    "plt.ylabel('count', fontsize=14)\n",
    "plt.tight_layout()\n",
    "plt.show()"
   ]
  },
  {
   "cell_type": "markdown",
   "id": "9155e43b",
   "metadata": {},
   "source": [
    "Note that it is required to also plot state estimates (in comparison to states) in order to check that your observer is working - no example is provided here, since no state estimates are being generated by the template `Controller` class."
   ]
  },
  {
   "cell_type": "markdown",
   "id": "secondary-condition",
   "metadata": {},
   "source": [
    "## Example of how to load drones from the \"students\" directory"
   ]
  },
  {
   "cell_type": "markdown",
   "id": "2cb89282",
   "metadata": {},
   "source": [
    "Clear all drones."
   ]
  },
  {
   "cell_type": "code",
   "execution_count": null,
   "id": "9658851c",
   "metadata": {},
   "outputs": [],
   "source": [
    "simulator.clear_drones()"
   ]
  },
  {
   "cell_type": "markdown",
   "id": "proprietary-camel",
   "metadata": {},
   "source": [
    "Load drones from `students` directory."
   ]
  },
  {
   "cell_type": "code",
   "execution_count": null,
   "id": "adolescent-anime",
   "metadata": {},
   "outputs": [],
   "source": [
    "failures = simulator.load_drones()"
   ]
  },
  {
   "cell_type": "markdown",
   "id": "progressive-catch",
   "metadata": {},
   "source": [
    "Reset drones (places drones at random positions within the start ring)."
   ]
  },
  {
   "cell_type": "code",
   "execution_count": null,
   "id": "noted-filter",
   "metadata": {},
   "outputs": [],
   "source": [
    "simulator.reset()"
   ]
  },
  {
   "cell_type": "markdown",
   "id": "broke-water",
   "metadata": {},
   "source": [
    "Run simulation for `max_time` seconds or until all drones finish."
   ]
  },
  {
   "cell_type": "code",
   "execution_count": null,
   "id": "russian-thunder",
   "metadata": {},
   "outputs": [],
   "source": [
    "simulator.run(max_time=5.0)"
   ]
  },
  {
   "cell_type": "markdown",
   "id": "small-nation",
   "metadata": {},
   "source": [
    "## Example of how to show results and keep running"
   ]
  },
  {
   "cell_type": "markdown",
   "id": "engaged-award",
   "metadata": {},
   "source": [
    "Show results (so far)."
   ]
  },
  {
   "cell_type": "code",
   "execution_count": null,
   "id": "exclusive-orlando",
   "metadata": {},
   "outputs": [],
   "source": [
    "simulator.show_results()"
   ]
  },
  {
   "cell_type": "markdown",
   "id": "american-corpus",
   "metadata": {},
   "source": [
    "Continue running simulation from same point for `max_time` seconds or until all drones either finish or are disqualified."
   ]
  },
  {
   "cell_type": "code",
   "execution_count": null,
   "id": "known-retail",
   "metadata": {},
   "outputs": [],
   "source": [
    "simulator.run(max_time=10.0)"
   ]
  },
  {
   "cell_type": "markdown",
   "id": "engaged-indonesian",
   "metadata": {},
   "source": [
    "Show results (so far)."
   ]
  },
  {
   "cell_type": "code",
   "execution_count": null,
   "id": "minor-superintendent",
   "metadata": {},
   "outputs": [],
   "source": [
    "simulator.show_results()"
   ]
  },
  {
   "cell_type": "markdown",
   "id": "earned-somewhere",
   "metadata": {},
   "source": [
    "## Example of how to clear and reload drones"
   ]
  },
  {
   "cell_type": "markdown",
   "id": "civilian-interface",
   "metadata": {},
   "source": [
    "Clear all drones."
   ]
  },
  {
   "cell_type": "code",
   "execution_count": null,
   "id": "economic-miller",
   "metadata": {},
   "outputs": [],
   "source": [
    "simulator.clear_drones()"
   ]
  },
  {
   "cell_type": "markdown",
   "id": "smoking-animation",
   "metadata": {},
   "source": [
    "Load drones again from `students` directory."
   ]
  },
  {
   "cell_type": "code",
   "execution_count": null,
   "id": "rental-member",
   "metadata": {},
   "outputs": [],
   "source": [
    "failures = simulator.load_drones()"
   ]
  },
  {
   "cell_type": "markdown",
   "id": "democratic-advocacy",
   "metadata": {},
   "source": [
    "Reset drones (places drones at random positions within the start ring)."
   ]
  },
  {
   "cell_type": "code",
   "execution_count": null,
   "id": "every-times",
   "metadata": {},
   "outputs": [],
   "source": [
    "simulator.reset()"
   ]
  },
  {
   "cell_type": "markdown",
   "id": "special-camel",
   "metadata": {},
   "source": [
    "Run simulation until `max_time` is reached or until all drones finish."
   ]
  },
  {
   "cell_type": "code",
   "execution_count": null,
   "id": "present-analyst",
   "metadata": {},
   "outputs": [],
   "source": [
    "simulator.run(max_time=5.0)"
   ]
  },
  {
   "cell_type": "markdown",
   "id": "aquatic-saint",
   "metadata": {},
   "source": [
    "## Example of how to rearrange the rings"
   ]
  },
  {
   "cell_type": "markdown",
   "id": "natural-drunk",
   "metadata": {},
   "source": [
    "Rearrange the rings."
   ]
  },
  {
   "cell_type": "code",
   "execution_count": null,
   "id": "premium-mexico",
   "metadata": {},
   "outputs": [],
   "source": [
    "simulator.place_rings()"
   ]
  },
  {
   "cell_type": "markdown",
   "id": "allied-genealogy",
   "metadata": {},
   "source": [
    "Reset drones (places drones at random positions within the start ring)."
   ]
  },
  {
   "cell_type": "code",
   "execution_count": null,
   "id": "reasonable-writer",
   "metadata": {},
   "outputs": [],
   "source": [
    "simulator.reset()"
   ]
  },
  {
   "cell_type": "markdown",
   "id": "strange-provision",
   "metadata": {},
   "source": [
    "Run simulation until `max_time` is reached or until all drones finish."
   ]
  },
  {
   "cell_type": "code",
   "execution_count": null,
   "id": "narrative-worse",
   "metadata": {},
   "outputs": [],
   "source": [
    "simulator.run(max_time=5.0)"
   ]
  },
  {
   "cell_type": "markdown",
   "id": "dbf26e86",
   "metadata": {},
   "source": [
    "## Example of how to add and remove views"
   ]
  },
  {
   "cell_type": "markdown",
   "id": "53f8c9ec",
   "metadata": {},
   "source": [
    "Add another static view in a new browser window."
   ]
  },
  {
   "cell_type": "code",
   "execution_count": null,
   "id": "6c1a883d",
   "metadata": {},
   "outputs": [],
   "source": [
    "simulator.add_view(\n",
    "    'my_top_view',  # name of view (must be unique)\n",
    "    'top',          # type of view (start, top, right, left, or back)\n",
    ")"
   ]
  },
  {
   "cell_type": "markdown",
   "id": "3f5b7684",
   "metadata": {},
   "source": [
    "Add a view of a ring in a new browser window."
   ]
  },
  {
   "cell_type": "code",
   "execution_count": null,
   "id": "cac98247",
   "metadata": {},
   "outputs": [],
   "source": [
    "simulator.add_ring_view(\n",
    "    'my_ring_view', # name of view (must be unique)\n",
    "    1,              # index of ring (between 1 and 14)\n",
    "    yaw=180.,       # yaw angle in degrees (0 looks forward, 180 looks backward, etc.)\n",
    "    distance=2.5,   # how far away the camera is from the center of the ring\n",
    ")"
   ]
  },
  {
   "cell_type": "markdown",
   "id": "fff1f55e",
   "metadata": {},
   "source": [
    "Add a view of a drone in a new browser window."
   ]
  },
  {
   "cell_type": "code",
   "execution_count": null,
   "id": "28484af9",
   "metadata": {},
   "outputs": [],
   "source": [
    "simulator.add_drone_view(\n",
    "    'my_drone_view',    # name of view (must be unique)\n",
    "    'template',         # name of drone\n",
    "    yaw=0.,             # yaw angle in degrees (0 looks forward, 180 looks backward, etc.)\n",
    "    pitch=15.,          # pitch angle in degrees,\n",
    "    distance=2.,        # how far away the camera is from the center of the drone\n",
    ")"
   ]
  },
  {
   "cell_type": "markdown",
   "id": "97b08885",
   "metadata": {},
   "source": [
    "Reset drones (places drones at random positions within the start ring)."
   ]
  },
  {
   "cell_type": "code",
   "execution_count": null,
   "id": "18b19a39",
   "metadata": {},
   "outputs": [],
   "source": [
    "simulator.reset()"
   ]
  },
  {
   "cell_type": "markdown",
   "id": "037da711",
   "metadata": {},
   "source": [
    "Run simulation until `max_time` is reached or until all drones finish."
   ]
  },
  {
   "cell_type": "code",
   "execution_count": null,
   "id": "11dcfd91",
   "metadata": {},
   "outputs": [],
   "source": [
    "simulator.run(max_time=5.0)"
   ]
  },
  {
   "cell_type": "markdown",
   "id": "b02a9e79",
   "metadata": {},
   "source": [
    "Remove the top view. The browser window that contains this view will no longer be updated."
   ]
  },
  {
   "cell_type": "code",
   "execution_count": null,
   "id": "4ac5248f",
   "metadata": {},
   "outputs": [],
   "source": [
    "simulator.remove_view(\n",
    "    'my_top_view',      # name of view to remove\n",
    ")"
   ]
  },
  {
   "cell_type": "markdown",
   "id": "c83d18e7",
   "metadata": {},
   "source": [
    "Reset drones (places drones at random positions within the start ring). Notice that the top view isn't updated, because it no longer exists."
   ]
  },
  {
   "cell_type": "code",
   "execution_count": null,
   "id": "210c07b6",
   "metadata": {},
   "outputs": [],
   "source": [
    "simulator.reset()"
   ]
  },
  {
   "cell_type": "markdown",
   "id": "2fa8cb7b",
   "metadata": {},
   "source": [
    "Add another static view — from the right this time instead of from the top. This new view should appear in the same browser window that formerly contained the top view."
   ]
  },
  {
   "cell_type": "code",
   "execution_count": null,
   "id": "b379db25",
   "metadata": {},
   "outputs": [],
   "source": [
    "simulator.add_view(\n",
    "    'my_right_view',    # name of view (must be unique)\n",
    "    'right',            # type of view (start, top, right, left, or back)\n",
    ")"
   ]
  },
  {
   "cell_type": "markdown",
   "id": "b29937fd",
   "metadata": {},
   "source": [
    "Reset drones (places drones at random positions within the start ring). Notice that the (new) right view *is* updated,"
   ]
  },
  {
   "cell_type": "code",
   "execution_count": null,
   "id": "471253cf",
   "metadata": {},
   "outputs": [],
   "source": [
    "simulator.reset()"
   ]
  },
  {
   "cell_type": "markdown",
   "id": "realistic-virgin",
   "metadata": {},
   "source": [
    "## Example of how to take a snapshot"
   ]
  },
  {
   "cell_type": "markdown",
   "id": "instant-scott",
   "metadata": {},
   "source": [
    "Display a snapshot."
   ]
  },
  {
   "cell_type": "code",
   "execution_count": null,
   "id": "thrown-harvard",
   "metadata": {},
   "outputs": [],
   "source": [
    "# Set the width and height of the snapshot (must be multiples of 16)\n",
    "simulator.set_snapshot_size(\n",
    "    640, # <-- width\n",
    "    480, # <-- height\n",
    ")\n",
    "\n",
    "# Get snapshot as height x width x 4 numpy array of RGBA values\n",
    "rgba = simulator.snapshot(\n",
    "    'my_start_view',    # name of view from which to take a snapshot\n",
    ")\n",
    "\n",
    "# Display snapshot\n",
    "plt.figure(figsize=(8, 8))\n",
    "plt.imshow(rgba)"
   ]
  },
  {
   "cell_type": "markdown",
   "id": "frequent-housing",
   "metadata": {},
   "source": [
    "Save the snapshot."
   ]
  },
  {
   "cell_type": "code",
   "execution_count": null,
   "id": "serial-tampa",
   "metadata": {},
   "outputs": [],
   "source": [
    "plt.imsave('my_snapshot.png', rgba)"
   ]
  },
  {
   "cell_type": "markdown",
   "id": "preliminary-washington",
   "metadata": {},
   "source": [
    "## Example of how to record a movie"
   ]
  },
  {
   "cell_type": "markdown",
   "id": "missing-administrator",
   "metadata": {},
   "source": [
    "Reset drones (places drones at random positions within the start ring)."
   ]
  },
  {
   "cell_type": "code",
   "execution_count": null,
   "id": "economic-tribe",
   "metadata": {},
   "outputs": [],
   "source": [
    "simulator.reset()"
   ]
  },
  {
   "cell_type": "markdown",
   "id": "cutting-guide",
   "metadata": {},
   "source": [
    "Run simulation until `max_time` is reached or until all drones finish, saving movies from two different views. You can add or remove elements to the list of `videos` to save more or fewer movies."
   ]
  },
  {
   "cell_type": "code",
   "execution_count": null,
   "id": "comprehensive-taxation",
   "metadata": {},
   "outputs": [],
   "source": [
    "simulator.run(\n",
    "    max_time=1.0,\n",
    "    videos=[\n",
    "        {\n",
    "            'view_name': 'my_start_view',       # name of view from which to record a video\n",
    "            'file_name': 'my_start_video.mp4',  # name of file to which video will be saved\n",
    "        },\n",
    "        {\n",
    "            'view_name': 'my_drone_view',       # name of view from which to record a video\n",
    "            'file_name': 'my_drone_video.mp4',  # name of file to which video will be saved\n",
    "        }\n",
    "    ],\n",
    "    print_debug=True,   # this option is recommended when saving videos to track progress\n",
    ")"
   ]
  },
  {
   "cell_type": "markdown",
   "id": "190e07f5",
   "metadata": {},
   "source": [
    "## Example of how to allow print statements, long run times, and inactivity"
   ]
  },
  {
   "cell_type": "markdown",
   "id": "c686ae49",
   "metadata": {},
   "source": [
    "By default, your controller will fail if any of the following conditions is met:\n",
    "\n",
    "* It prints something to `stdout`.\n",
    "* It exceeds the maximum runtime of `1` second for `init`, `1` second for `reset`, and `1e-2` seconds for `run` (on more than 10 occasions).\n",
    "* It moves less than `0.1` meters in `10.0` seconds.\n",
    "\n",
    "You can relax these rules for the purpose of development if you want, as follows."
   ]
  },
  {
   "cell_type": "code",
   "execution_count": null,
   "id": "6b070406",
   "metadata": {},
   "outputs": [],
   "source": [
    "simulator.set_rules(\n",
    "    error_on_print=False,    # <-- allow print statements in controller code\n",
    "    error_on_timeout=False,  # <-- allow long runtimes in controller code\n",
    "    error_on_inactive=False, # <-- allow inactivity\n",
    ")"
   ]
  },
  {
   "cell_type": "markdown",
   "id": "07868924",
   "metadata": {},
   "source": [
    "## Example of how to find the position, orientation, and radius of each ring"
   ]
  },
  {
   "cell_type": "markdown",
   "id": "58365d59",
   "metadata": {},
   "source": [
    "This information should only be used for analysis."
   ]
  },
  {
   "cell_type": "code",
   "execution_count": null,
   "id": "53e0118c",
   "metadata": {},
   "outputs": [],
   "source": [
    "for i, ring in enumerate(simulator.rings):\n",
    "    p = ring['p']        # <--- position of ring\n",
    "    v = ring['R'][:, 0]  # <--- unit vector normal to ring (pointing through it)\n",
    "    r = ring['radius']   # <--- radius of ring\n",
    "    s = f'ring {i:2d}' + \\\n",
    "        f' : p ({p[0]:6.2f}, {p[1]:6.2f}, {p[2]:6.2f})' + \\\n",
    "        f' : v ({v[0]:6.2f}, {v[1]:6.2f}, {v[2]:6.2f})' + \\\n",
    "        f' : r ({r:6.2f})'\n",
    "    print(s)"
   ]
  },
  {
   "cell_type": "markdown",
   "id": "721be42f",
   "metadata": {},
   "source": [
    "## Example of how to specify initial conditions"
   ]
  },
  {
   "cell_type": "markdown",
   "id": "c6019bb7",
   "metadata": {},
   "source": [
    "Reset the simulator with given initial conditions. The argument `initial_conditions` must be a dictionary. This dictionary must have an key/value pair for each drone in the simulator. The key must be the name of the corresponding drone. The value must, itself, be a dictionary with a key/value pair for each initial state and each initial measurement."
   ]
  },
  {
   "cell_type": "code",
   "execution_count": null,
   "id": "6ddb776b",
   "metadata": {},
   "outputs": [],
   "source": [
    "simulator.reset(\n",
    "    initial_conditions={\n",
    "        'template': {\n",
    "            'p_x': 0.,\n",
    "            'p_y': 0.,\n",
    "            'p_z': 0.5,\n",
    "            'yaw': 0.,\n",
    "            'pitch': 0.,\n",
    "            'roll': 0.,\n",
    "            'v_x': 0.,\n",
    "            'v_y': 0.,\n",
    "            'v_z': 0.,\n",
    "            'w_x': 0.,\n",
    "            'w_y': 0.,\n",
    "            'w_z': 0.,\n",
    "            'p_x_meas': 0.,\n",
    "            'p_y_meas': 0.,\n",
    "            'p_z_meas': 0.5,\n",
    "            'yaw_meas': 0.,\n",
    "        },\n",
    "    },\n",
    ")"
   ]
  },
  {
   "cell_type": "markdown",
   "id": "ae8346ee",
   "metadata": {},
   "source": [
    "Run simulation for `max_time` seconds or until all drones finish."
   ]
  },
  {
   "cell_type": "code",
   "execution_count": null,
   "id": "f4a6d547",
   "metadata": {},
   "outputs": [],
   "source": [
    "simulator.run(max_time=5.0)"
   ]
  },
  {
   "cell_type": "markdown",
   "id": "b5362c7c",
   "metadata": {},
   "source": [
    "## Example of how to disable and enable views"
   ]
  },
  {
   "cell_type": "markdown",
   "id": "bffd94e5",
   "metadata": {},
   "source": [
    "Disable views so they aren't updated while running simulations. These simulations will then run as fast as possible (much faster than real time), so this option is a good choice when collecting lots of data."
   ]
  },
  {
   "cell_type": "code",
   "execution_count": null,
   "id": "ac530300",
   "metadata": {},
   "outputs": [],
   "source": [
    "simulator.disable_views()"
   ]
  },
  {
   "cell_type": "markdown",
   "id": "64220135",
   "metadata": {},
   "source": [
    "Reset drones (places drones at random positions within the start ring). Note that views are still updated — it is only when running simulations that views aren't updated."
   ]
  },
  {
   "cell_type": "code",
   "execution_count": null,
   "id": "8775f465",
   "metadata": {},
   "outputs": [],
   "source": [
    "simulator.reset()"
   ]
  },
  {
   "cell_type": "markdown",
   "id": "28dad5e5",
   "metadata": {},
   "source": [
    "Run simulation for `max_time` seconds or until all drones finish (should take much less than `max_time` seconds to run)."
   ]
  },
  {
   "cell_type": "code",
   "execution_count": null,
   "id": "9ff2bfe4",
   "metadata": {},
   "outputs": [],
   "source": [
    "simulator.run(max_time=5.0)"
   ]
  },
  {
   "cell_type": "markdown",
   "id": "d1aa1607",
   "metadata": {},
   "source": [
    "Enable views again."
   ]
  },
  {
   "cell_type": "code",
   "execution_count": null,
   "id": "46867ce9",
   "metadata": {},
   "outputs": [],
   "source": [
    "simulator.enable_views()"
   ]
  },
  {
   "cell_type": "markdown",
   "id": "419345f3",
   "metadata": {},
   "source": [
    "Run simulation for `max_time` seconds or until all drones finish (should take about `max_time` seconds to run)."
   ]
  },
  {
   "cell_type": "code",
   "execution_count": null,
   "id": "14b95205",
   "metadata": {},
   "outputs": [],
   "source": [
    "simulator.run(max_time=5.0)"
   ]
  }
 ],
 "metadata": {
  "kernelspec": {
   "display_name": "Python 3 (ipykernel)",
   "language": "python",
   "name": "python3"
  },
  "language_info": {
   "codemirror_mode": {
    "name": "ipython",
    "version": 3
   },
   "file_extension": ".py",
   "mimetype": "text/x-python",
   "name": "python",
   "nbconvert_exporter": "python",
   "pygments_lexer": "ipython3",
   "version": "3.13.1"
  }
 },
 "nbformat": 4,
 "nbformat_minor": 5
}
