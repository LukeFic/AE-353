{
 "cells": [
  {
   "cell_type": "markdown",
   "id": "middle-acoustic",
   "metadata": {},
   "source": [
    "# Collision avoidance — drone"
   ]
  },
  {
   "cell_type": "markdown",
   "id": "future-divide",
   "metadata": {},
   "source": [
    "## Setup"
   ]
  },
  {
   "cell_type": "markdown",
   "id": "faced-least",
   "metadata": {},
   "source": [
    "Import modules."
   ]
  },
  {
   "cell_type": "code",
   "execution_count": 112,
   "id": "informed-qatar",
   "metadata": {},
   "outputs": [],
   "source": [
    "import numpy as np\n",
    "from sympy import *\n",
    "import sympy as sym\n",
    "import matplotlib.pyplot as plt\n",
    "import scipy.linalg as linalg\n",
    "\n",
    "import secrets\n",
    "import ae353_drone\n",
    "#import ae353_dronecontrol           # <--- must have a working controller\n",
    "\n",
    "# Suppress the use of scientific notation when printing small numbers\n",
    "np.set_printoptions(suppress=True)"
   ]
  },
  {
   "cell_type": "markdown",
   "id": "final-distinction",
   "metadata": {},
   "source": [
    "Create and print a seed for the random number generator so it is possible to reproduce the results."
   ]
  },
  {
   "cell_type": "code",
   "execution_count": 113,
   "id": "ceramic-evanescence",
   "metadata": {},
   "outputs": [
    {
     "name": "stdout",
     "output_type": "stream",
     "text": [
      "2846658556\n"
     ]
    }
   ],
   "source": [
    "seed = secrets.randbits(32)\n",
    "print(seed)"
   ]
  },
  {
   "cell_type": "markdown",
   "id": "environmental-refrigerator",
   "metadata": {},
   "source": [
    "Create simulator with seed."
   ]
  },
  {
   "cell_type": "code",
   "execution_count": 114,
   "id": "needed-motion",
   "metadata": {},
   "outputs": [],
   "source": [
    "simulator = ae353_drone.Simulator(seed=seed)"
   ]
  },
  {
   "cell_type": "markdown",
   "id": "c3c358c6",
   "metadata": {},
   "source": [
    "Add camera views, displayed in their own browser windows."
   ]
  },
  {
   "cell_type": "code",
   "execution_count": 115,
   "id": "3a92a1ff",
   "metadata": {},
   "outputs": [
    {
     "name": "stdout",
     "output_type": "stream",
     "text": [
      "You can open the visualizer by visiting the following URL:\n",
      "http://127.0.0.1:7004/static/\n"
     ]
    }
   ],
   "source": [
    "# Start view\n",
    "simulator.add_view('my_start_view', 'start')\n",
    "\n",
    "# Ring 1 view\n",
    "#simulator.add_ring_view('my_ring_view', 1)\n",
    "\n",
    "# Top view\n",
    "#simulator.add_view('my_top_view', 'top')"
   ]
  },
  {
   "cell_type": "markdown",
   "id": "b8a4c13b",
   "metadata": {},
   "source": [
    "Allow print statements and long computation times (only for development)."
   ]
  },
  {
   "cell_type": "code",
   "execution_count": 116,
   "id": "31e51dec",
   "metadata": {},
   "outputs": [],
   "source": [
    "simulator.set_rules(\n",
    "    error_on_print=False,\n",
    "    error_on_timeout=False,\n",
    "    error_on_inactive=False,\n",
    ")"
   ]
  },
  {
   "cell_type": "code",
   "execution_count": 117,
   "id": "923e09c2",
   "metadata": {},
   "outputs": [],
   "source": [
    "params = {\n",
    "    'm': 0.5,\n",
    "    'Jx': 0.0023,\n",
    "    'Jy': 0.0023,\n",
    "    'Jz': 0.0040,\n",
    "    'l': 0.175,\n",
    "    'g': 9.81,\n",
    "}"
   ]
  },
  {
   "cell_type": "code",
   "execution_count": 118,
   "id": "bd737560",
   "metadata": {},
   "outputs": [],
   "source": [
    "# components of position (meters)\n",
    "p_x, p_y, p_z = sym.symbols('p_x, p_y, p_z')\n",
    "\n",
    "# yaw, pitch, roll angles (radians)\n",
    "psi, theta, phi = sym.symbols('psi, theta, phi')\n",
    "\n",
    "# components of linear velocity (meters / second)\n",
    "v_x, v_y, v_z = sym.symbols('v_x, v_y, v_z')\n",
    "v_in_body = sym.Matrix([v_x, v_y, v_z])\n",
    "\n",
    "# components of angular velocity (radians / second)\n",
    "w_x, w_y, w_z = sym.symbols('w_x, w_y, w_z')\n",
    "w_in_body = sym.Matrix([w_x, w_y, w_z])\n",
    "\n",
    "# components of net rotor torque\n",
    "tau_x, tau_y, tau_z = sym.symbols('tau_x, tau_y, tau_z')\n",
    "\n",
    "# net rotor force\n",
    "f_z = sym.symbols('f_z')\n",
    "\n",
    "# parameters\n",
    "m = sym.nsimplify(params['m'])\n",
    "Jx = sym.nsimplify(params['Jx'])\n",
    "Jy = sym.nsimplify(params['Jy'])\n",
    "Jz = sym.nsimplify(params['Jz'])\n",
    "l = sym.nsimplify(params['l'])\n",
    "g = sym.nsimplify(params['g'])\n",
    "J = sym.diag(Jx, Jy, Jz)\n",
    "\n",
    "# rotation matrices\n",
    "Rz = sym.Matrix([[sym.cos(psi), -sym.sin(psi), 0], [sym.sin(psi), sym.cos(psi), 0], [0, 0, 1]])\n",
    "Ry = sym.Matrix([[sym.cos(theta), 0, sym.sin(theta)], [0, 1, 0], [-sym.sin(theta), 0, sym.cos(theta)]])\n",
    "Rx = sym.Matrix([[1, 0, 0], [0, sym.cos(phi), -sym.sin(phi)], [0, sym.sin(phi), sym.cos(phi)]])\n",
    "R_body_in_world = Rz @ Ry @ Rx\n",
    "\n",
    "# angular velocity to angular rates\n",
    "ex = sym.Matrix([[1], [0], [0]])\n",
    "ey = sym.Matrix([[0], [1], [0]])\n",
    "ez = sym.Matrix([[0], [0], [1]])\n",
    "M = sym.simplify(sym.Matrix.hstack((Ry @ Rx).T @ ez, Rx.T @ ey, ex).inv(), full=True)\n",
    "\n",
    "# applied forces\n",
    "f_in_body = R_body_in_world.T @ sym.Matrix([[0], [0], [-m * g]]) + sym.Matrix([[0], [0], [f_z]])\n",
    "\n",
    "# applied torques\n",
    "tau_in_body = sym.Matrix([[tau_x], [tau_y], [tau_z]])\n",
    "\n",
    "# equations of motion\n",
    "f = sym.Matrix.vstack(\n",
    "    R_body_in_world @ v_in_body,\n",
    "    M @ w_in_body,\n",
    "    (1 / m) * (f_in_body - w_in_body.cross(m * v_in_body)),\n",
    "    J.inv() @ (tau_in_body - w_in_body.cross(J @ w_in_body)),\n",
    ")\n",
    "\n",
    "f = sym.simplify(f, full=True)"
   ]
  },
  {
   "cell_type": "code",
   "execution_count": 119,
   "id": "3d530d23",
   "metadata": {},
   "outputs": [],
   "source": [
    "# Position of drone in world frame\n",
    "p_in_world = sym.Matrix([p_x, p_y, p_z])\n",
    "\n",
    "# Position of markers in body frame\n",
    "a_in_body = sym.Matrix([0, l, 0])  # <-- marker on left rotor\n",
    "b_in_body = sym.Matrix([0, -l, 0]) # <-- marker on right rotor\n",
    "\n",
    "# Position of markers in world frame\n",
    "a_in_world = p_in_world + R_body_in_world @ a_in_body\n",
    "b_in_world = p_in_world + R_body_in_world @ b_in_body\n",
    "\n",
    "# Sensor model\n",
    "g = sym.simplify(sym.Matrix.vstack(a_in_world, b_in_world))"
   ]
  },
  {
   "cell_type": "code",
   "execution_count": 120,
   "id": "89a3fc3a",
   "metadata": {},
   "outputs": [
    {
     "name": "stdout",
     "output_type": "stream",
     "text": [
      "[[ 0.    0.    0.    0.    0.    0.    1.    0.    0.    0.    0.    0.  ]\n",
      " [ 0.    0.    0.    0.    0.    0.    0.    1.    0.    0.    0.    0.  ]\n",
      " [ 0.    0.    0.    0.    0.    0.    0.    0.    1.    0.    0.    0.  ]\n",
      " [ 0.    0.    0.    0.    0.    0.    0.    0.    0.    0.    0.    1.  ]\n",
      " [ 0.    0.    0.    0.    0.    0.    0.    0.    0.    0.    1.    0.  ]\n",
      " [ 0.    0.    0.    0.    0.    0.    0.    0.    0.    1.    0.    0.  ]\n",
      " [ 0.    0.    0.    0.    9.81  0.    0.    0.    0.    0.    0.    0.  ]\n",
      " [ 0.    0.    0.    0.    0.   -9.81  0.    0.    0.    0.    0.    0.  ]\n",
      " [ 0.    0.    0.    0.    0.    0.    0.    0.    0.    0.    0.    0.  ]\n",
      " [ 0.    0.    0.    0.    0.    0.    0.    0.    0.    0.    0.    0.  ]\n",
      " [ 0.    0.    0.    0.    0.    0.    0.    0.    0.    0.    0.    0.  ]\n",
      " [ 0.    0.    0.    0.    0.    0.    0.    0.    0.    0.    0.    0.  ]]\n",
      "[[  0.          0.          0.          0.       ]\n",
      " [  0.          0.          0.          0.       ]\n",
      " [  0.          0.          0.          0.       ]\n",
      " [  0.          0.          0.          0.       ]\n",
      " [  0.          0.          0.          0.       ]\n",
      " [  0.          0.          0.          0.       ]\n",
      " [  0.          0.          0.          0.       ]\n",
      " [  0.          0.          0.          0.       ]\n",
      " [  0.          0.          0.          2.       ]\n",
      " [434.7826087   0.          0.          0.       ]\n",
      " [  0.        434.7826087   0.          0.       ]\n",
      " [  0.          0.        250.          0.       ]]\n",
      "W_c rank: 12, col num: 12\n"
     ]
    }
   ],
   "source": [
    "m = np.array([p_x,p_y,p_z,psi,theta,phi,v_x, v_y,v_z,w_x,w_y,w_z])\n",
    "n = np.array([tau_x,tau_y,tau_z,f_z])\n",
    "\n",
    "p_xe = p_ye = p_ze = psi_e = theta_e = phi_e = v_xe = v_ye = v_ze =  w_xe = w_ye = w_ze = 0.\n",
    "tau_xe = tau_ye = tau_ze = f_ze = 0.\n",
    "\n",
    "A = np.array(f.jacobian(m).subs({p_x:p_xe,p_y:p_ye,p_z:p_ze,psi:psi_e,theta:theta_e,phi:phi_e,v_x:v_xe,v_y:v_ye,v_z:v_ze,w_x:w_xe,w_y:w_ye,w_z:w_ze,\\\n",
    "                        tau_x:tau_xe,tau_y:tau_ye,tau_z:tau_ze,f_z:f_ze})).astype(np.float64)\n",
    "B = np.array(f.jacobian(n).subs({p_x:p_xe,p_y:p_ye,p_z:p_ze,psi:psi_e,theta:theta_e,phi:phi_e,v_x:v_xe,v_y:v_ye,v_z:v_ze,w_x:w_xe,w_y:w_ye,w_z:w_ze,\\\n",
    "                        tau_x:tau_xe,tau_y:tau_ye,tau_z:tau_ze,f_z:f_ze})).astype(np.float64)\n",
    "print(A)\n",
    "print(B)\n",
    "W_c = np.block([B,A@B,np.linalg.matrix_power(A,2)@B,np.linalg.matrix_power(A,3)@B,\n",
    "                np.linalg.matrix_power(A,4)@B,np.linalg.matrix_power(A,5)@B,np.linalg.matrix_power(A,6)@B,np.linalg.matrix_power(A,7)@B,\n",
    "                np.linalg.matrix_power(A,8)@B,np.linalg.matrix_power(A,9)@B,np.linalg.matrix_power(A,10)@B,np.linalg.matrix_power(A,11)@B])\n",
    "print(f'W_c rank: {np.linalg.matrix_rank(W_c)}, col num: {A.shape[0]}')"
   ]
  },
  {
   "cell_type": "code",
   "execution_count": 121,
   "id": "dc5dcf3c",
   "metadata": {},
   "outputs": [
    {
     "name": "stdout",
     "output_type": "stream",
     "text": [
      "[[ 1.     0.     0.    -0.175  0.     0.     0.     0.     0.     0.\n",
      "   0.     0.   ]\n",
      " [ 0.     1.     0.     0.     0.     0.     0.     0.     0.     0.\n",
      "   0.     0.   ]\n",
      " [ 0.     0.     1.     0.     0.     0.175  0.     0.     0.     0.\n",
      "   0.     0.   ]\n",
      " [ 1.     0.     0.     0.175  0.     0.     0.     0.     0.     0.\n",
      "   0.     0.   ]\n",
      " [ 0.     1.     0.     0.     0.     0.     0.     0.     0.     0.\n",
      "   0.     0.   ]\n",
      " [ 0.     0.     1.     0.     0.    -0.175  0.     0.     0.     0.\n",
      "   0.     0.   ]]\n",
      "[[0. 0. 0. 0.]\n",
      " [0. 0. 0. 0.]\n",
      " [0. 0. 0. 0.]\n",
      " [0. 0. 0. 0.]\n",
      " [0. 0. 0. 0.]\n",
      " [0. 0. 0. 0.]]\n",
      "W_o rank: 12, col num: 12\n"
     ]
    }
   ],
   "source": [
    "m = sym.Matrix([p_x,p_y,p_z,psi,theta,phi,v_x, v_y,v_z,w_x,w_y,w_z])\n",
    "n = sym.Matrix([tau_x,tau_y,tau_z,f_z])\n",
    "C_sym = g.jacobian(m)\n",
    "D_sym = g.jacobian(n)\n",
    "\n",
    "subs_dict = {\n",
    "    p_x: 0.0, p_y: 0.0, p_z: 0.0,\n",
    "    psi: 0.0, theta: 0.0, phi: 0.0,\n",
    "    v_x: 0.0, v_y: 0.0, v_z: 0.0,\n",
    "    w_x: 0.0, w_y: 0.0, w_z: 0.0\n",
    "}\n",
    "C_eval = C_sym.evalf(subs=subs_dict)\n",
    "D_eval = D_sym.evalf(subs=subs_dict)\n",
    "\n",
    "C = np.array(C_eval.tolist()).astype(np.float64)\n",
    "D = np.array(D_eval.tolist()).astype(np.float64)\n",
    "print(C)\n",
    "print(D)\n",
    "\n",
    "W_o = np.block([[C],[C@A], [C@np.linalg.matrix_power(A,2)],[C@np.linalg.matrix_power(A,3)],\\\n",
    "                 [C@np.linalg.matrix_power(A,4)],[C@np.linalg.matrix_power(A,5)], [C@np.linalg.matrix_power(A,6)],\n",
    "                 [C@np.linalg.matrix_power(A,7)], [C@np.linalg.matrix_power(A,8)], [C@np.linalg.matrix_power(A,9)],\n",
    "                 [C@np.linalg.matrix_power(A,10)], [C@np.linalg.matrix_power(A,11)]])\n",
    "print(f'W_o rank: {np.linalg.matrix_rank(W_o)}, col num: {A.shape[0]}')"
   ]
  },
  {
   "cell_type": "code",
   "execution_count": 222,
   "id": "1402b6c2",
   "metadata": {},
   "outputs": [
    {
     "name": "stdout",
     "output_type": "stream",
     "text": [
      "K matrix\n",
      "[[-0.         -1.          0.         -0.         -0.          1.10672658\n",
      "  -0.         -0.48541975 -0.          0.1228452  -0.         -0.        ]\n",
      " [ 1.          0.          0.         -0.          1.10672658 -0.\n",
      "   0.48541975  0.          0.         -0.          0.1228452   0.        ]\n",
      " [ 0.          0.          0.          0.31622777  0.         -0.\n",
      "   0.          0.          0.         -0.          0.          0.11193669]\n",
      " [-0.         -0.          1.          0.          0.          0.\n",
      "   0.          0.          1.00498756 -0.          0.          0.        ]]\n",
      "L matrix\n",
      "[[ 2.97537602 -0.          0.          2.97537602 -0.         -0.        ]\n",
      " [-0.          2.92711379 -0.21976816 -0.          2.92711379  0.21976816]\n",
      " [ 0.          0.          1.09868411 -0.          0.          1.09868411]\n",
      " [-2.13087076  0.         -0.          2.13087076  0.          0.        ]\n",
      " [ 1.30543174 -0.          0.          1.30543174 -0.         -0.        ]\n",
      " [ 0.         -1.25581808  0.30429738  0.         -1.25581808 -0.30429738]\n",
      " [ 8.35286245 -0.          0.          8.35286245 -0.         -0.        ]\n",
      " [-0.          8.1162932  -1.19153357 -0.          8.1162932   1.19153357]\n",
      " [-0.          0.          0.70710678  0.          0.          0.70710678]\n",
      " [ 0.         -0.67683134  0.20469329  0.         -0.67683134 -0.20469329]\n",
      " [ 0.70710678 -0.          0.          0.70710678 -0.         -0.        ]\n",
      " [-0.70710678  0.         -0.          0.70710678  0.          0.        ]]\n"
     ]
    }
   ],
   "source": [
    "Qc = np.array([[100,0,0,0,0,0,0,0,0,0,0,0],\n",
    "               [0,100,0,0,0,0,0,0,0,0,0,0],\n",
    "               [0,0,100,0,0,0,0,0,0,0,0,0],\n",
    "               [0,0,0,10,0,0,0,0,0,0,0,0],\n",
    "               [0,0,0,0,10,0,0,0,0,0,0,0],\n",
    "               [0,0,0,0,0,10,0,0,0,0,0,0],\n",
    "               [0,0,0,0,0,0,1,0,0,0,0,0],\n",
    "               [0,0,0,0,0,0,0,1,0,0,0,0],\n",
    "               [0,0,0,0,0,0,0,0,1,0,0,0],\n",
    "               [0,0,0,0,0,0,0,0,0,1,0,0],\n",
    "               [0,0,0,0,0,0,0,0,0,0,1,0],\n",
    "               [0,0,0,0,0,0,0,0,0,0,0,1]])\n",
    "Rc = np.array([[1,0,0,0],\n",
    "               [0,1,0,0],\n",
    "               [0,0,1,0],\n",
    "               [0,0,0,1]])*100\n",
    "\n",
    "Pc = linalg.solve_continuous_are(A,B,Qc,Rc)\n",
    "K = linalg.inv(Rc)@B.T@Pc\n",
    "\n",
    "Qo = np.array([[1,0,0,0,0,0,0,0,0,0,0,0],\n",
    "               [0,1,0,0,0,0,0,0,0,0,0,0],\n",
    "               [0,0,1,0,0,0,0,0,0,0,0,0],\n",
    "               [0,0,0,1,0,0,0,0,0,0,0,0],\n",
    "               [0,0,0,0,1,0,0,0,0,0,0,0],\n",
    "               [0,0,0,0,0,1,0,0,0,0,0,0],\n",
    "               [0,0,0,0,0,0,1,0,0,0,0,0],\n",
    "               [0,0,0,0,0,0,0,1,0,0,0,0],\n",
    "               [0,0,0,0,0,0,0,0,1,0,0,0],\n",
    "               [0,0,0,0,0,0,0,0,0,1,0,0],\n",
    "               [0,0,0,0,0,0,0,0,0,0,1,0],\n",
    "               [0,0,0,0,0,0,0,0,0,0,0,1]])\n",
    "Ro = np.array([[1,0,0,0,0,0],\n",
    "               [0,1,0,0,0,0],\n",
    "               [0,0,1,0,0,0],\n",
    "               [0,0,0,1,0,0],\n",
    "               [0,0,0,0,1,0],\n",
    "               [0,0,0,0,0,1]])\n",
    "\n",
    "Po = linalg.solve_continuous_are(A.T, C.T, Qo, Ro)\n",
    "L = Po @ C.T @ np.linalg.inv(Ro)\n",
    "\n",
    "print(f'K matrix')\n",
    "print(K)\n",
    "print(f'L matrix')\n",
    "print(L)"
   ]
  },
  {
   "cell_type": "markdown",
   "id": "c4348369",
   "metadata": {},
   "source": [
    "Show controller template. The actual controller used in this example comes from `ae353_dronecontrol.py`.\n",
    "\n",
    "**NOTE. I didn't publish the version of `ae353_dronecontrol.py` that was used in class, rather just the template version. If you want this notebook to work, you'll need to modify `ae353_dronecontrol.py` so that it works!**"
   ]
  },
  {
   "cell_type": "markdown",
   "id": "a1408665",
   "metadata": {},
   "source": [
    "## With Collision Avoidance?? Edited Too Much To Decifer"
   ]
  },
  {
   "cell_type": "code",
   "execution_count": 225,
   "id": "e60435ad",
   "metadata": {},
   "outputs": [],
   "source": [
    "import numpy as np\n",
    "\n",
    "class Controller:\n",
    "    def __init__(self, K_att=1.0, K_rep=1.0, K_des=1.0, r_drone=0.25):\n",
    "        # System matrices and LQR/Observer gains\n",
    "        self.A = A\n",
    "        self.B = B\n",
    "        self.C = C\n",
    "        self.K = K\n",
    "        self.L = L\n",
    "\n",
    "        # Equilibrium states and inputs\n",
    "        self.me = np.zeros(12)                      \n",
    "        self.ne = np.array([0., 0., 0., 4.905])  # Corrected equilibrium thrust (m*g = 0.5*9.81)\n",
    "\n",
    "        # Potential field parameters\n",
    "        self.K_att = K_att\n",
    "        self.K_rep = K_rep\n",
    "        self.K_des = K_des\n",
    "        self.r_drone = r_drone\n",
    "        self.r_ring = 1.0  # radius of the small ring\n",
    "\n",
    "        # Internal variables\n",
    "        self.xhat = np.zeros(12)\n",
    "        self.xdes = np.zeros(12)\n",
    "        self.ring = np.zeros(3)\n",
    "        self.emax = 1.0  # maximum step size for pdes update\n",
    "\n",
    "        self.variables_to_log = ['xhat', 'xdes', 'ring']\n",
    "\n",
    "    def get_color(self):\n",
    "        return [1., 0., 0.]  # Red drone color\n",
    "\n",
    "    def reset(self, p_x, p_y, p_z, yaw):\n",
    "        self.xhat = np.zeros(12)\n",
    "        self.xhat[0] = p_x\n",
    "        self.xhat[1] = p_y\n",
    "        self.xhat[2] = p_z\n",
    "        self.xhat[3] = yaw\n",
    "\n",
    "    def run(self, pos_markers, pos_ring, dir_ring, is_last_ring, pos_others):\n",
    "        self.ring = np.array(pos_ring)\n",
    "\n",
    "    # Get desired state\n",
    "        self.xdes = self.get_xdes(self.xhat, pos_ring, dir_ring, is_last_ring, pos_others)\n",
    "\n",
    "    # Controller input\n",
    "        u = -self.K @ (self.xhat - self.xdes)\n",
    "\n",
    "    # Add equilibrium thrust to f_z\n",
    "        u[3] += self.ne[3]\n",
    "\n",
    "    # Use pos_markers for measurement\n",
    "        y_meas = np.array(pos_markers).flatten()  # Flatten to 1D if needed\n",
    "        y_hat = self.C @ self.xhat                # Predicted sensor output\n",
    "\n",
    "    # Observer update\n",
    "        dt = 0.01\n",
    "        dxhat = self.A @ (self.xhat - self.me) + self.B @ (u - self.ne) + self.L @ (y_meas - y_hat)\n",
    "        self.xhat += dxhat * dt\n",
    "\n",
    "    # Motor outputs\n",
    "        tau_x = u[0]\n",
    "        tau_y = u[1]\n",
    "        tau_z = u[2]\n",
    "        f_z = u[3]\n",
    "\n",
    "        return tau_x, tau_y, tau_z, f_z\n",
    "\n",
    "# Measurement model (corrected)\n",
    "        #y = self.C @ self.xhat\n",
    "\n",
    "        # Observer update\n",
    "        #dt = 0.01\n",
    "        #dxhat = self.A @ (self.xhat - self.me) + self.B @ (u - self.ne) + self.L @ (y - self.C @ (self.xhat - self.me))\n",
    "        #self.xhat += dxhat * dt\n",
    "\n",
    "    def get_xdes(self, xhat, pos_ring, dir_ring, is_last_ring, pos_others):\n",
    "        phat = xhat[0:3]  # Estimated 3D position\n",
    "\n",
    "        epsilon = 1e-3  # small value to prevent division by near zero\n",
    "\n",
    "    # --- Goal selection ---\n",
    "        if not is_last_ring:\n",
    "        # Normal operation: goal is next ring center\n",
    "            pgoal = np.array(pos_ring)\n",
    "        else:\n",
    "        # After last ring: goal is starting position, descend slowly\n",
    "            pgoal = self.start_pos.copy()\n",
    "\n",
    "        # Gradually lower the altitude\n",
    "            if phat[2] > 0.15:\n",
    "        # High enough: descend slowly\n",
    "                pgoal[2] = phat[2] - 0.01\n",
    "            else:\n",
    "        # Close to ground: stop commanding descent\n",
    "                pgoal[2] = phat[2]\n",
    "\n",
    "    # --- Step size limiter ---\n",
    "        p_err = pgoal - phat\n",
    "        norm_p_err = np.linalg.norm(p_err)\n",
    "\n",
    "        if norm_p_err > self.emax:\n",
    "            pgoal = phat + self.emax * (p_err / norm_p_err)\n",
    "\n",
    "    ##############################\n",
    "    # Attractive gradient\n",
    "        grad_h_att = self.K_att * (phat - pgoal) / np.linalg.norm(phat - pgoal)\n",
    "\n",
    "    # Initialize repulsive gradient\n",
    "        grad_h_rep = np.zeros(3)\n",
    "\n",
    "    # Repulsion from other drones\n",
    "        for q in pos_others:\n",
    "            pobst = q + self.r_drone * (phat - q) / np.linalg.norm(phat - q)\n",
    "            d = np.linalg.norm(phat - pobst) - self.r_drone\n",
    "            if d < epsilon:\n",
    "                d = epsilon\n",
    "            grad_d = (phat - pobst) / np.linalg.norm(phat - pobst)\n",
    "            grad_h_rep += -self.K_rep * (1 / d**2) * grad_d\n",
    "\n",
    "    # Repulsion from ring plane (except at hole)\n",
    "        plane_normal = dir_ring / np.linalg.norm(dir_ring)\n",
    "        q_plane = np.array(pos_ring)\n",
    "\n",
    "        v_rel = phat - q_plane\n",
    "        v_n = np.dot(v_rel, plane_normal) * plane_normal\n",
    "        v_t = v_rel - v_n\n",
    "\n",
    "        if np.linalg.norm(v_t) > self.r_ring:\n",
    "            d_plane = np.abs(np.dot(phat - q_plane, plane_normal))\n",
    "            if d_plane < epsilon:\n",
    "                d_plane = epsilon\n",
    "            grad_h_rep += self.K_rep * (plane_normal / (d_plane**2))\n",
    "\n",
    "    # Repulsion from ground\n",
    "        d_ground = phat[2]\n",
    "        if d_ground > 0:\n",
    "            if d_ground < epsilon:\n",
    "                d_ground = epsilon\n",
    "            grad_h_rep[2] += self.K_rep * (1 / d_ground**2)\n",
    "\n",
    "    ##############################\n",
    "    # Total gradient\n",
    "        grad_h = grad_h_att + grad_h_rep\n",
    "\n",
    "    # Desired position update\n",
    "        pdes = phat - self.K_des * grad_h\n",
    "\n",
    "    # Step size limit after gradient\n",
    "        delta_p = pdes - phat\n",
    "        if np.linalg.norm(delta_p) > self.emax:\n",
    "            pdes = phat + self.emax * (delta_p / np.linalg.norm(delta_p))\n",
    "\n",
    "    # Build desired state\n",
    "        xdes = np.zeros(12)\n",
    "        xdes[0:3] = pdes\n",
    "\n",
    "        return xdes\n"
   ]
  },
  {
   "cell_type": "markdown",
   "id": "8a15ea6d",
   "metadata": {},
   "source": [
    "## Trying Without Collision Avoidance"
   ]
  },
  {
   "cell_type": "code",
   "execution_count": 238,
   "id": "c7dfc907",
   "metadata": {},
   "outputs": [],
   "source": [
    "import numpy as np\n",
    "\n",
    "class Controller:\n",
    "    def __init__(self, K_att=1.0, K_des=1.0):\n",
    "        self.A = A\n",
    "        self.B = B\n",
    "        self.C = C\n",
    "        self.K = K\n",
    "        self.L = L\n",
    "\n",
    "        self.me = np.zeros(12)\n",
    "        self.ne = np.array([0., 0., 0., 4.905])\n",
    "\n",
    "        self.K_att = K_att\n",
    "        self.K_des = K_des\n",
    "        self.emax = 1.0\n",
    "\n",
    "        self.variables_to_log = ['xhat', 'xdes', 'ring']\n",
    "\n",
    "    def get_color(self):\n",
    "        return [1., 0., 0.]\n",
    "\n",
    "    def reset(self, p_x, p_y, p_z, yaw):\n",
    "        self.xhat = np.zeros(12)\n",
    "        self.xhat[0] = p_x\n",
    "        self.xhat[1] = p_y\n",
    "        self.xhat[2] = p_z\n",
    "        self.xhat[3] = yaw\n",
    "        self.start_pos = np.array([p_x, p_y, p_z])\n",
    "\n",
    "    def run(self, pos_markers, pos_ring, dir_ring, is_last_ring, pos_others):\n",
    "        ring = np.array(pos_ring)\n",
    "\n",
    "        # Use midpoint of markers as position measurement\n",
    "        pos_left = np.array(pos_markers[:3])\n",
    "        pos_right = np.array(pos_markers[3:])\n",
    "        pos_meas = 0.5 * (pos_left + pos_right)\n",
    "        y_meas = np.concatenate([pos_meas, [0, 0, 0]])  # yaw/pitch/roll = 0\n",
    "\n",
    "        # Update xhat[0:3] to current position measurement\n",
    "        self.xhat[0:3] = pos_meas\n",
    "\n",
    "        # Get desired state\n",
    "        self.xdes = self.get_xdes(self.xhat, pos_ring, dir_ring, is_last_ring, pos_others)\n",
    "\n",
    "        # Controller\n",
    "        u = -self.K @ (self.xhat - self.xdes)\n",
    "        u[3] += self.ne[3]\n",
    "\n",
    "        # Observer update\n",
    "        dt = 0.04\n",
    "        y_hat = self.C @ self.xhat\n",
    "        dxhat = self.A @ (self.xhat - self.me) + self.B @ (u - self.ne) + self.L @ (y_meas - y_hat)\n",
    "        self.xhat += dxhat * dt\n",
    "\n",
    "        tau_x = u[0]\n",
    "        tau_y = u[1]\n",
    "        tau_z = u[2]\n",
    "        f_z = u[3]\n",
    "\n",
    "        return tau_x, tau_y, tau_z, f_z\n",
    "\n",
    "    def get_xdes(self, xhat, pos_ring, dir_ring, is_last_ring, pos_others):\n",
    "        phat = xhat[0:3]\n",
    "\n",
    "        if not is_last_ring:\n",
    "            pgoal = np.array(pos_ring)\n",
    "        else:\n",
    "            pgoal = self.start_pos.copy()  # Return to starting position\n",
    "            pgoal[2] = phat[2] - 0.01 if phat[2] > 0.15 else phat[2]  # Slowly descend\n",
    "\n",
    "        p_err = pgoal - phat\n",
    "        if np.linalg.norm(p_err) > self.emax:\n",
    "            pdes = phat + self.emax * (p_err / np.linalg.norm(p_err))\n",
    "        else:\n",
    "            pdes = pgoal\n",
    "\n",
    "        xdes = np.zeros(12)\n",
    "        xdes[0:3] = pdes\n",
    "        return xdes\n"
   ]
  },
  {
   "cell_type": "markdown",
   "id": "ec385b4a",
   "metadata": {},
   "source": [
    "Rearrange the rings."
   ]
  },
  {
   "cell_type": "code",
   "execution_count": 239,
   "id": "4242f8a2",
   "metadata": {},
   "outputs": [],
   "source": [
    "simulator.place_rings()"
   ]
  },
  {
   "cell_type": "markdown",
   "id": "3c6c501b",
   "metadata": {},
   "source": [
    "## Without collision avoidance"
   ]
  },
  {
   "cell_type": "markdown",
   "id": "057d1740",
   "metadata": {},
   "source": [
    "This controller is what we might start with before adding a planner with collision avoidance."
   ]
  },
  {
   "cell_type": "code",
   "execution_count": 224,
   "id": "f9ef1bed",
   "metadata": {},
   "outputs": [
    {
     "ename": "IndentationError",
     "evalue": "unexpected indent (3786192098.py, line 2)",
     "output_type": "error",
     "traceback": [
      "\u001b[1;36m  Cell \u001b[1;32mIn[224], line 2\u001b[1;36m\u001b[0m\n\u001b[1;33m    def get_color(self):\u001b[0m\n\u001b[1;37m    ^\u001b[0m\n\u001b[1;31mIndentationError\u001b[0m\u001b[1;31m:\u001b[0m unexpected indent\n"
     ]
    }
   ],
   "source": [
    "#class Controller(ae353_dronecontrol.Controller):\n",
    "    def get_color(self):\n",
    "        return [1., 0., 0.]\n",
    "    \n",
    "    def get_xdes(self, t, xhat, pos_ring, dir_ring, is_last_ring, pos_others):\n",
    "        # Get estimated position\n",
    "        phat = xhat[0:3]\n",
    "       \n",
    "       # Get desired position\n",
    "        pdes = pos_ring\n",
    "        \n",
    "        # Make sure desired position is not too far away\n",
    "        emax = 1.\n",
    "        if np.linalg.norm(pdes - phat) > emax:\n",
    "            pdes = phat + emax * ((pdes - phat) / np.linalg.norm(pdes - phat))\n",
    "        \n",
    "        # Get desired state\n",
    "        xdes = np.zeros(12)\n",
    "        xdes[0:3] = pdes\n",
    "        return xdes"
   ]
  },
  {
   "cell_type": "markdown",
   "id": "4b05a4da",
   "metadata": {},
   "source": [
    "Clear all drones."
   ]
  },
  {
   "cell_type": "code",
   "execution_count": 240,
   "id": "4627ccc1",
   "metadata": {},
   "outputs": [],
   "source": [
    "simulator.clear_drones()"
   ]
  },
  {
   "cell_type": "markdown",
   "id": "6592519f",
   "metadata": {},
   "source": [
    "Add drones to simulator."
   ]
  },
  {
   "cell_type": "code",
   "execution_count": 241,
   "id": "5f31a4c0",
   "metadata": {},
   "outputs": [],
   "source": [
    "num_drones = 1\n",
    "for i in range(num_drones):\n",
    "    simulator.add_drone(Controller, f'test_{i + 1}', 'template.png')"
   ]
  },
  {
   "cell_type": "markdown",
   "id": "5a3542fe",
   "metadata": {},
   "source": [
    "Reset the simulator."
   ]
  },
  {
   "cell_type": "code",
   "execution_count": 242,
   "id": "42819485",
   "metadata": {},
   "outputs": [],
   "source": [
    "simulator.reset()"
   ]
  },
  {
   "cell_type": "markdown",
   "id": "961d3dc0",
   "metadata": {},
   "source": [
    "Run the simulator."
   ]
  },
  {
   "cell_type": "code",
   "execution_count": 243,
   "id": "38bb3770",
   "metadata": {},
   "outputs": [
    {
     "ename": "KeyboardInterrupt",
     "evalue": "",
     "output_type": "error",
     "traceback": [
      "\u001b[1;31m---------------------------------------------------------------------------\u001b[0m",
      "\u001b[1;31mKeyboardInterrupt\u001b[0m                         Traceback (most recent call last)",
      "Cell \u001b[1;32mIn[243], line 1\u001b[0m\n\u001b[1;32m----> 1\u001b[0m \u001b[43msimulator\u001b[49m\u001b[38;5;241;43m.\u001b[39;49m\u001b[43mrun\u001b[49m\u001b[43m(\u001b[49m\u001b[43mmax_time\u001b[49m\u001b[38;5;241;43m=\u001b[39;49m\u001b[38;5;241;43m25.\u001b[39;49m\u001b[43m,\u001b[49m\u001b[43m \u001b[49m\u001b[43mprint_debug\u001b[49m\u001b[38;5;241;43m=\u001b[39;49m\u001b[38;5;28;43;01mTrue\u001b[39;49;00m\u001b[43m)\u001b[49m\n",
      "File \u001b[1;32mc:\\Users\\ellay\\OneDrive\\Desktop\\AE_353\\ae353-sp25\\projects\\04_drone\\ae353_drone.py:839\u001b[0m, in \u001b[0;36mSimulator.run\u001b[1;34m(self, max_time, videos, print_debug)\u001b[0m\n\u001b[0;32m    836\u001b[0m         video[\u001b[38;5;124m'\u001b[39m\u001b[38;5;124mwriter\u001b[39m\u001b[38;5;124m'\u001b[39m]\u001b[38;5;241m.\u001b[39mappend_data(rgba)\n\u001b[0;32m    838\u001b[0m \u001b[38;5;28;01mwhile\u001b[39;00m \u001b[38;5;28;01mTrue\u001b[39;00m:\n\u001b[1;32m--> 839\u001b[0m     all_done \u001b[38;5;241m=\u001b[39m \u001b[38;5;28;43mself\u001b[39;49m\u001b[38;5;241;43m.\u001b[39;49m\u001b[43mstep\u001b[49m\u001b[43m(\u001b[49m\u001b[43mprint_debug\u001b[49m\u001b[38;5;241;43m=\u001b[39;49m\u001b[43mprint_debug\u001b[49m\u001b[43m)\u001b[49m\n\u001b[0;32m    841\u001b[0m     \u001b[38;5;28;01mif\u001b[39;00m \u001b[38;5;28mself\u001b[39m\u001b[38;5;241m.\u001b[39mdisplay_meshcat:\n\u001b[0;32m    842\u001b[0m         \u001b[38;5;28mself\u001b[39m\u001b[38;5;241m.\u001b[39mmeshcat_update()\n",
      "File \u001b[1;32mc:\\Users\\ellay\\OneDrive\\Desktop\\AE_353\\ae353-sp25\\projects\\04_drone\\ae353_drone.py:1107\u001b[0m, in \u001b[0;36mSimulator.step\u001b[1;34m(self, print_debug)\u001b[0m\n\u001b[0;32m   1105\u001b[0m     time_to_wait \u001b[38;5;241m=\u001b[39m t \u001b[38;5;241m-\u001b[39m time\u001b[38;5;241m.\u001b[39mtime()\n\u001b[0;32m   1106\u001b[0m     \u001b[38;5;28;01mwhile\u001b[39;00m time_to_wait \u001b[38;5;241m>\u001b[39m \u001b[38;5;241m0\u001b[39m:\n\u001b[1;32m-> 1107\u001b[0m         \u001b[43mtime\u001b[49m\u001b[38;5;241;43m.\u001b[39;49m\u001b[43msleep\u001b[49m\u001b[43m(\u001b[49m\u001b[38;5;241;43m0.9\u001b[39;49m\u001b[43m \u001b[49m\u001b[38;5;241;43m*\u001b[39;49m\u001b[43m \u001b[49m\u001b[43mtime_to_wait\u001b[49m\u001b[43m)\u001b[49m\n\u001b[0;32m   1108\u001b[0m         time_to_wait \u001b[38;5;241m=\u001b[39m t \u001b[38;5;241m-\u001b[39m time\u001b[38;5;241m.\u001b[39mtime()\n\u001b[0;32m   1110\u001b[0m \u001b[38;5;66;03m# take a simulation step\u001b[39;00m\n",
      "\u001b[1;31mKeyboardInterrupt\u001b[0m: "
     ]
    }
   ],
   "source": [
    "simulator.run(max_time=25., print_debug=True)"
   ]
  },
  {
   "cell_type": "markdown",
   "id": "c2e4c17f",
   "metadata": {},
   "source": [
    "## With collision avoidance"
   ]
  },
  {
   "cell_type": "markdown",
   "id": "f67d625a",
   "metadata": {},
   "source": [
    "This controller is a template for adding a planner with collision avoidance."
   ]
  },
  {
   "cell_type": "code",
   "execution_count": 23,
   "id": "b85b62c5",
   "metadata": {},
   "outputs": [
    {
     "ename": "NameError",
     "evalue": "name 'ae353_dronecontrol' is not defined",
     "output_type": "error",
     "traceback": [
      "\u001b[1;31m---------------------------------------------------------------------------\u001b[0m",
      "\u001b[1;31mNameError\u001b[0m                                 Traceback (most recent call last)",
      "Cell \u001b[1;32mIn[23], line 1\u001b[0m\n\u001b[1;32m----> 1\u001b[0m \u001b[38;5;28;01mclass\u001b[39;00m\u001b[38;5;250m \u001b[39m\u001b[38;5;21;01mAvoidanceController\u001b[39;00m(\u001b[43mae353_dronecontrol\u001b[49m\u001b[38;5;241m.\u001b[39mController):\n\u001b[0;32m      2\u001b[0m     \u001b[38;5;28;01mdef\u001b[39;00m\u001b[38;5;250m \u001b[39m\u001b[38;5;21mget_color\u001b[39m(\u001b[38;5;28mself\u001b[39m):\n\u001b[0;32m      3\u001b[0m         \u001b[38;5;28;01mreturn\u001b[39;00m [\u001b[38;5;241m0.\u001b[39m, \u001b[38;5;241m1.\u001b[39m, \u001b[38;5;241m0.\u001b[39m]\n",
      "\u001b[1;31mNameError\u001b[0m: name 'ae353_dronecontrol' is not defined"
     ]
    }
   ],
   "source": [
    "class AvoidanceController(ae353_dronecontrol.Controller):\n",
    "    def get_color(self):\n",
    "        return [0., 1., 0.]\n",
    "    \n",
    "    def get_xdes(self, t, xhat, pos_ring, dir_ring, is_last_ring, pos_others):\n",
    "        # Get estimated position\n",
    "        phat = xhat[0:3]\n",
    "\n",
    "        # Choose goal\n",
    "        pgoal = pos_ring\n",
    "        \n",
    "        ##############################\n",
    "        \n",
    "        # Define parameters\n",
    "        k_att = 1.0\n",
    "        k_rep = 1.0\n",
    "        k_des = 1.0\n",
    "        r_drone = 0.25  # <-- radius of a sphere that would completely contain each drone\n",
    "        r_ring = 1.0    # <-- radius of each small ring\n",
    "        \n",
    "        # Get attractive part\n",
    "        grad_h_att = k_att * ((phat - pgoal) / np.linalg.norm(phat - pgoal))\n",
    "        \n",
    "        # Get repulsive part\n",
    "        # - Initialize the gradient\n",
    "        grad_h_rep = np.zeros(3)\n",
    "        # - Add repulsive part for each other drone\n",
    "        for q in pos_others:\n",
    "            pobst = q + r_drone * ((phat - q) / np.linalg.norm(phat - q))\n",
    "            dgrad = (phat - pobst) / np.linalg.norm(phat - pobst)\n",
    "            d = np.linalg.norm(phat - pobst) - r_drone\n",
    "            grad_h_rep += - k_rep * (1 / d**2) * dgrad\n",
    "        # - Add repulsive part for next ring\n",
    "        grad_h_rep += np.zeros(3)           # <-- REPLACE WITH YOUR CODE\n",
    "        # - Add repulsive part for ground\n",
    "        grad_h_rep += np.zeros(3)           # <-- REPLACE WITH YOUR CODE\n",
    "        \n",
    "        # Get desired position\n",
    "        pdes = phat - k_des * (grad_h_att + grad_h_rep)\n",
    "        \n",
    "        ##############################\n",
    "        \n",
    "        # Make sure desired position is not too far away\n",
    "        emax = 1.\n",
    "        if np.linalg.norm(pdes - phat) > emax:\n",
    "            pdes = phat + emax * ((pdes - phat) / np.linalg.norm(pdes - phat))\n",
    "        \n",
    "        # Get desired state\n",
    "        xdes = np.zeros(12)\n",
    "        xdes[0:3] = pdes\n",
    "        return xdes"
   ]
  },
  {
   "cell_type": "markdown",
   "id": "cfdf8464",
   "metadata": {},
   "source": [
    "Clear all drones."
   ]
  },
  {
   "cell_type": "code",
   "execution_count": 92,
   "id": "a469752f",
   "metadata": {},
   "outputs": [],
   "source": [
    "simulator.clear_drones()"
   ]
  },
  {
   "cell_type": "markdown",
   "id": "3b4361aa",
   "metadata": {},
   "source": [
    "Add drones to simulator."
   ]
  },
  {
   "cell_type": "code",
   "execution_count": 41,
   "id": "68b7514c",
   "metadata": {},
   "outputs": [
    {
     "ename": "NameError",
     "evalue": "name 'AvoidanceController' is not defined",
     "output_type": "error",
     "traceback": [
      "\u001b[1;31m---------------------------------------------------------------------------\u001b[0m",
      "\u001b[1;31mNameError\u001b[0m                                 Traceback (most recent call last)",
      "Cell \u001b[1;32mIn[41], line 3\u001b[0m\n\u001b[0;32m      1\u001b[0m num_drones \u001b[38;5;241m=\u001b[39m \u001b[38;5;241m5\u001b[39m\n\u001b[0;32m      2\u001b[0m \u001b[38;5;28;01mfor\u001b[39;00m i \u001b[38;5;129;01min\u001b[39;00m \u001b[38;5;28mrange\u001b[39m(num_drones):\n\u001b[1;32m----> 3\u001b[0m     simulator\u001b[38;5;241m.\u001b[39madd_drone(\u001b[43mAvoidanceController\u001b[49m, \u001b[38;5;124mf\u001b[39m\u001b[38;5;124m'\u001b[39m\u001b[38;5;124mtest_\u001b[39m\u001b[38;5;132;01m{\u001b[39;00mi\u001b[38;5;250m \u001b[39m\u001b[38;5;241m+\u001b[39m\u001b[38;5;250m \u001b[39m\u001b[38;5;241m1\u001b[39m\u001b[38;5;132;01m}\u001b[39;00m\u001b[38;5;124m'\u001b[39m, \u001b[38;5;124m'\u001b[39m\u001b[38;5;124mtemplate.png\u001b[39m\u001b[38;5;124m'\u001b[39m)\n",
      "\u001b[1;31mNameError\u001b[0m: name 'AvoidanceController' is not defined"
     ]
    }
   ],
   "source": [
    "num_drones = 5\n",
    "for i in range(num_drones):\n",
    "    simulator.add_drone(AvoidanceController, f'test_{i + 1}', 'template.png')"
   ]
  },
  {
   "cell_type": "markdown",
   "id": "1d36a2fa",
   "metadata": {},
   "source": [
    "Reset the simulator."
   ]
  },
  {
   "cell_type": "code",
   "execution_count": 44,
   "id": "37d87af5",
   "metadata": {},
   "outputs": [],
   "source": [
    "simulator.reset()"
   ]
  },
  {
   "cell_type": "markdown",
   "id": "4ccc3158",
   "metadata": {},
   "source": [
    "Run the simulator."
   ]
  },
  {
   "cell_type": "code",
   "execution_count": 45,
   "id": "93d43d57",
   "metadata": {},
   "outputs": [
    {
     "name": "stdout",
     "output_type": "stream",
     "text": [
      "\n",
      "==========\n",
      "drone test_1 is out of bounds (turning it off)\n",
      "==========\n",
      "\n",
      "Simulated 51 time steps in 2.0431 seconds (24.9619 time steps per second)\n"
     ]
    }
   ],
   "source": [
    "simulator.run(max_time=5., print_debug=True)"
   ]
  },
  {
   "cell_type": "markdown",
   "id": "c2c9769a",
   "metadata": {},
   "source": [
    "### Show results"
   ]
  },
  {
   "cell_type": "markdown",
   "id": "533ad9a4",
   "metadata": {},
   "source": [
    "Get data."
   ]
  },
  {
   "cell_type": "code",
   "execution_count": 145,
   "id": "abb7cc8b",
   "metadata": {},
   "outputs": [],
   "source": [
    "data = simulator.get_data('test_1')"
   ]
  },
  {
   "cell_type": "markdown",
   "id": "739ba920",
   "metadata": {},
   "source": [
    "Plot results (position only)."
   ]
  },
  {
   "cell_type": "code",
   "execution_count": 146,
   "id": "31c6a703",
   "metadata": {},
   "outputs": [
    {
     "data": {
      "image/png": "[encoded data removed]",
      "text/plain": [
       "<Figure size 1200x800 with 3 Axes>"
      ]
     },
     "metadata": {},
     "output_type": "display_data"
    }
   ],
   "source": [
    "p_x_est = data['xhat'][:, 0]\n",
    "p_y_est = data['xhat'][:, 1]\n",
    "p_z_est = data['xhat'][:, 2]\n",
    "\n",
    "p_x_des = data['xdes'][:, 0]\n",
    "p_y_des = data['xdes'][:, 1]\n",
    "p_z_des = data['xdes'][:, 2]\n",
    "\n",
    "p_x_ring = data['ring'][:, 0]\n",
    "p_y_ring = data['ring'][:, 1]\n",
    "p_z_ring = data['ring'][:, 2]\n",
    "\n",
    "# Create a figure with subplots that all share the same x-axis\n",
    "fig, (ax_px, ax_py, ax_pz) = plt.subplots(3, 1, figsize=(12, 8), sharex=True)\n",
    "\n",
    "ax_px.plot(data['t'], data['p_x'], label='x (m)', linewidth=3)\n",
    "ax_px.plot(data['t'], p_x_est, '--', label='estimated x (m)', linewidth=4)\n",
    "ax_px.plot(data['t'], p_x_des, ':', label='desired x (m)', linewidth=4)\n",
    "ax_px.plot(data['t'], p_x_ring, '-.', label='ring x (m)', linewidth=3)\n",
    "ax_px.grid()\n",
    "ax_px.legend(fontsize=16, bbox_to_anchor=(1., 1.))\n",
    "ax_px.tick_params(labelsize=14)\n",
    "\n",
    "ax_py.plot(data['t'], data['p_y'], label='y (m)', linewidth=3)\n",
    "ax_py.plot(data['t'], p_y_est, '--', label='estimated y (m)', linewidth=4)\n",
    "ax_py.plot(data['t'], p_y_des, ':', label='desired y (m)', linewidth=4)\n",
    "ax_py.plot(data['t'], p_y_ring, '-.', label='ring y (m)', linewidth=3)\n",
    "ax_py.grid()\n",
    "ax_py.legend(fontsize=16, bbox_to_anchor=(1., 1.))\n",
    "ax_py.tick_params(labelsize=14)\n",
    "\n",
    "ax_pz.plot(data['t'], data['p_z'], label='z (m)', linewidth=3)\n",
    "ax_pz.plot(data['t'], p_z_est, '--', label='estimated z (m)', linewidth=4)\n",
    "ax_pz.plot(data['t'], p_z_des, ':', label='desired z (m)', linewidth=4)\n",
    "ax_pz.plot(data['t'], p_z_ring, '-.', label='ring z (m)', linewidth=3)\n",
    "ax_pz.grid()\n",
    "ax_pz.legend(fontsize=16, bbox_to_anchor=(1., 1.))\n",
    "ax_pz.tick_params(labelsize=14)\n",
    "\n",
    "# Set shared x-axis properties\n",
    "ax_pz.set_xlabel('time (s)', fontsize=20)\n",
    "ax_pz.set_xlim([data['t'][0], data['t'][-1]])\n",
    "\n",
    "# Make the arrangement of subplots look nice\n",
    "fig.tight_layout()\n",
    "plt.show()"
   ]
  },
  {
   "cell_type": "code",
   "execution_count": null,
   "id": "14b43b47",
   "metadata": {},
   "outputs": [],
   "source": []
  }
 ],
 "metadata": {
  "kernelspec": {
   "display_name": "Python 3",
   "language": "python",
   "name": "python3"
  },
  "language_info": {
   "codemirror_mode": {
    "name": "ipython",
    "version": 3
   },
   "file_extension": ".py",
   "mimetype": "text/x-python",
   "name": "python",
   "nbconvert_exporter": "python",
   "pygments_lexer": "ipython3",
   "version": "3.13.1"
  }
 },
 "nbformat": 4,
 "nbformat_minor": 5
}
