{
 "cells": [
  {
   "cell_type": "markdown",
   "id": "middle-acoustic",
   "metadata": {},
   "source": [
    "# Collision avoidance — drone"
   ]
  },
  {
   "cell_type": "markdown",
   "id": "future-divide",
   "metadata": {},
   "source": [
    "## Setup"
   ]
  },
  {
   "cell_type": "markdown",
   "id": "faced-least",
   "metadata": {},
   "source": [
    "Import modules."
   ]
  },
  {
   "cell_type": "code",
   "execution_count": 377,
   "id": "informed-qatar",
   "metadata": {},
   "outputs": [],
   "source": [
    "import numpy as np\n",
    "from sympy import *\n",
    "import sympy as sym\n",
    "import matplotlib.pyplot as plt\n",
    "import scipy.linalg as linalg\n",
    "\n",
    "import secrets\n",
    "import ae353_drone\n",
    "#import ae353_dronecontrol           # <--- must have a working controller\n",
    "\n",
    "# Suppress the use of scientific notation when printing small numbers\n",
    "np.set_printoptions(suppress=True)"
   ]
  },
  {
   "cell_type": "markdown",
   "id": "final-distinction",
   "metadata": {},
   "source": [
    "Create and print a seed for the random number generator so it is possible to reproduce the results."
   ]
  },
  {
   "cell_type": "code",
   "execution_count": 378,
   "id": "ceramic-evanescence",
   "metadata": {},
   "outputs": [
    {
     "name": "stdout",
     "output_type": "stream",
     "text": [
      "1823831506\n"
     ]
    }
   ],
   "source": [
    "seed = secrets.randbits(32)\n",
    "print(seed)"
   ]
  },
  {
   "cell_type": "markdown",
   "id": "environmental-refrigerator",
   "metadata": {},
   "source": [
    "Create simulator with seed."
   ]
  },
  {
   "cell_type": "code",
   "execution_count": 379,
   "id": "needed-motion",
   "metadata": {},
   "outputs": [],
   "source": [
    "simulator = ae353_drone.Simulator(seed=seed, display=True)"
   ]
  },
  {
   "cell_type": "markdown",
   "id": "c3c358c6",
   "metadata": {},
   "source": [
    "Add camera views, displayed in their own browser windows."
   ]
  },
  {
   "cell_type": "code",
   "execution_count": 380,
   "id": "3a92a1ff",
   "metadata": {},
   "outputs": [
    {
     "name": "stdout",
     "output_type": "stream",
     "text": [
      "You can open the visualizer by visiting the following URL:\n",
      "http://127.0.0.1:7008/static/\n"
     ]
    }
   ],
   "source": [
    "# Start view\n",
    "simulator.add_view('my_start_view', 'start')\n",
    "\n",
    "# Ring 1 view\n",
    "#simulator.add_ring_view('my_ring_view', 1)\n",
    "\n",
    "# Top view\n",
    "#simulator.add_view('my_top_view', 'top')"
   ]
  },
  {
   "cell_type": "markdown",
   "id": "b8a4c13b",
   "metadata": {},
   "source": [
    "Allow print statements and long computation times (only for development)."
   ]
  },
  {
   "cell_type": "code",
   "execution_count": 381,
   "id": "31e51dec",
   "metadata": {},
   "outputs": [],
   "source": [
    "simulator.set_rules(\n",
    "    error_on_print=False,\n",
    "    error_on_timeout=False,\n",
    "    error_on_inactive=False,\n",
    ")"
   ]
  },
  {
   "cell_type": "code",
   "execution_count": 382,
   "id": "923e09c2",
   "metadata": {},
   "outputs": [],
   "source": [
    "params = {\n",
    "    'm': 0.5,\n",
    "    'Jx': 0.0023,\n",
    "    'Jy': 0.0023,\n",
    "    'Jz': 0.0040,\n",
    "    'l': 0.175,\n",
    "    'g': 9.81,\n",
    "}"
   ]
  },
  {
   "cell_type": "code",
   "execution_count": 383,
   "id": "bd737560",
   "metadata": {},
   "outputs": [],
   "source": [
    "# components of position (meters)\n",
    "p_x, p_y, p_z = sym.symbols('p_x, p_y, p_z')\n",
    "\n",
    "# yaw, pitch, roll angles (radians)\n",
    "psi, theta, phi = sym.symbols('psi, theta, phi')\n",
    "\n",
    "# components of linear velocity (meters / second)\n",
    "v_x, v_y, v_z = sym.symbols('v_x, v_y, v_z')\n",
    "v_in_body = sym.Matrix([v_x, v_y, v_z])\n",
    "\n",
    "# components of angular velocity (radians / second)\n",
    "w_x, w_y, w_z = sym.symbols('w_x, w_y, w_z')\n",
    "w_in_body = sym.Matrix([w_x, w_y, w_z])\n",
    "\n",
    "# components of net rotor torque\n",
    "tau_x, tau_y, tau_z = sym.symbols('tau_x, tau_y, tau_z')\n",
    "\n",
    "# net rotor force\n",
    "f_z = sym.symbols('f_z')\n",
    "\n",
    "# parameters\n",
    "m = sym.nsimplify(params['m'])\n",
    "Jx = sym.nsimplify(params['Jx'])\n",
    "Jy = sym.nsimplify(params['Jy'])\n",
    "Jz = sym.nsimplify(params['Jz'])\n",
    "l = sym.nsimplify(params['l'])\n",
    "g = sym.nsimplify(params['g'])\n",
    "J = sym.diag(Jx, Jy, Jz)\n",
    "\n",
    "# rotation matrices\n",
    "Rz = sym.Matrix([[sym.cos(psi), -sym.sin(psi), 0], [sym.sin(psi), sym.cos(psi), 0], [0, 0, 1]])\n",
    "Ry = sym.Matrix([[sym.cos(theta), 0, sym.sin(theta)], [0, 1, 0], [-sym.sin(theta), 0, sym.cos(theta)]])\n",
    "Rx = sym.Matrix([[1, 0, 0], [0, sym.cos(phi), -sym.sin(phi)], [0, sym.sin(phi), sym.cos(phi)]])\n",
    "R_body_in_world = Rz @ Ry @ Rx\n",
    "\n",
    "# angular velocity to angular rates\n",
    "ex = sym.Matrix([[1], [0], [0]])\n",
    "ey = sym.Matrix([[0], [1], [0]])\n",
    "ez = sym.Matrix([[0], [0], [1]])\n",
    "M = sym.simplify(sym.Matrix.hstack((Ry @ Rx).T @ ez, Rx.T @ ey, ex).inv(), full=True)\n",
    "\n",
    "# applied forces\n",
    "f_in_body = R_body_in_world.T @ sym.Matrix([[0], [0], [-m * g]]) + sym.Matrix([[0], [0], [f_z]])\n",
    "\n",
    "# applied torques\n",
    "tau_in_body = sym.Matrix([[tau_x], [tau_y], [tau_z]])\n",
    "\n",
    "# equations of motion\n",
    "f = sym.Matrix.vstack(\n",
    "    R_body_in_world @ v_in_body,\n",
    "    M @ w_in_body,\n",
    "    (1 / m) * (f_in_body - w_in_body.cross(m * v_in_body)),\n",
    "    J.inv() @ (tau_in_body - w_in_body.cross(J @ w_in_body)),\n",
    ")\n",
    "\n",
    "f = sym.simplify(f, full=True)"
   ]
  },
  {
   "cell_type": "code",
   "execution_count": 384,
   "id": "3d530d23",
   "metadata": {},
   "outputs": [],
   "source": [
    "# Position of drone in world frame\n",
    "p_in_world = sym.Matrix([p_x, p_y, p_z])\n",
    "\n",
    "# Position of markers in body frame\n",
    "a_in_body = sym.Matrix([0, l, 0])  # <-- marker on left rotor\n",
    "b_in_body = sym.Matrix([0, -l, 0]) # <-- marker on right rotor\n",
    "\n",
    "# Position of markers in world frame\n",
    "a_in_world = p_in_world + R_body_in_world @ a_in_body\n",
    "b_in_world = p_in_world + R_body_in_world @ b_in_body\n",
    "\n",
    "# Sensor model\n",
    "g = sym.simplify(sym.Matrix.vstack(a_in_world, b_in_world))"
   ]
  },
  {
   "cell_type": "code",
   "execution_count": 385,
   "id": "89a3fc3a",
   "metadata": {},
   "outputs": [
    {
     "name": "stdout",
     "output_type": "stream",
     "text": [
      "[[ 0.    0.    0.    0.    0.    0.    1.    0.    0.    0.    0.    0.  ]\n",
      " [ 0.    0.    0.    0.    0.    0.    0.    1.    0.    0.    0.    0.  ]\n",
      " [ 0.    0.    0.    0.    0.    0.    0.    0.    1.    0.    0.    0.  ]\n",
      " [ 0.    0.    0.    0.    0.    0.    0.    0.    0.    0.    0.    1.  ]\n",
      " [ 0.    0.    0.    0.    0.    0.    0.    0.    0.    0.    1.    0.  ]\n",
      " [ 0.    0.    0.    0.    0.    0.    0.    0.    0.    1.    0.    0.  ]\n",
      " [ 0.    0.    0.    0.    9.81  0.    0.    0.    0.    0.    0.    0.  ]\n",
      " [ 0.    0.    0.    0.    0.   -9.81  0.    0.    0.    0.    0.    0.  ]\n",
      " [ 0.    0.    0.    0.    0.    0.    0.    0.    0.    0.    0.    0.  ]\n",
      " [ 0.    0.    0.    0.    0.    0.    0.    0.    0.    0.    0.    0.  ]\n",
      " [ 0.    0.    0.    0.    0.    0.    0.    0.    0.    0.    0.    0.  ]\n",
      " [ 0.    0.    0.    0.    0.    0.    0.    0.    0.    0.    0.    0.  ]]\n",
      "[[  0.          0.          0.          0.       ]\n",
      " [  0.          0.          0.          0.       ]\n",
      " [  0.          0.          0.          0.       ]\n",
      " [  0.          0.          0.          0.       ]\n",
      " [  0.          0.          0.          0.       ]\n",
      " [  0.          0.          0.          0.       ]\n",
      " [  0.          0.          0.          0.       ]\n",
      " [  0.          0.          0.          0.       ]\n",
      " [  0.          0.          0.          2.       ]\n",
      " [434.7826087   0.          0.          0.       ]\n",
      " [  0.        434.7826087   0.          0.       ]\n",
      " [  0.          0.        250.          0.       ]]\n",
      "W_c rank: 12, col num: 12\n"
     ]
    }
   ],
   "source": [
    "m = np.array([p_x,p_y,p_z,psi,theta,phi,v_x, v_y,v_z,w_x,w_y,w_z])\n",
    "n = np.array([tau_x,tau_y,tau_z,f_z])\n",
    "\n",
    "p_xe = p_ye = p_ze = psi_e = theta_e = phi_e = v_xe = v_ye = v_ze =  w_xe = w_ye = w_ze = 0.\n",
    "tau_xe = tau_ye = tau_ze = 0.\n",
    "f_ze = 4.905\n",
    "A = np.array(f.jacobian(m).subs({p_x:p_xe,p_y:p_ye,p_z:p_ze,psi:psi_e,theta:theta_e,phi:phi_e,v_x:v_xe,v_y:v_ye,v_z:v_ze,w_x:w_xe,w_y:w_ye,w_z:w_ze,\\\n",
    "                        tau_x:tau_xe,tau_y:tau_ye,tau_z:tau_ze,f_z:f_ze})).astype(np.float64)\n",
    "B = np.array(f.jacobian(n).subs({p_x:p_xe,p_y:p_ye,p_z:p_ze,psi:psi_e,theta:theta_e,phi:phi_e,v_x:v_xe,v_y:v_ye,v_z:v_ze,w_x:w_xe,w_y:w_ye,w_z:w_ze,\\\n",
    "                        tau_x:tau_xe,tau_y:tau_ye,tau_z:tau_ze,f_z:f_ze})).astype(np.float64)\n",
    "print(A)\n",
    "print(B)\n",
    "W_c = np.block([B,A@B,np.linalg.matrix_power(A,2)@B,np.linalg.matrix_power(A,3)@B,\n",
    "                np.linalg.matrix_power(A,4)@B,np.linalg.matrix_power(A,5)@B,np.linalg.matrix_power(A,6)@B,np.linalg.matrix_power(A,7)@B,\n",
    "                np.linalg.matrix_power(A,8)@B,np.linalg.matrix_power(A,9)@B,np.linalg.matrix_power(A,10)@B,np.linalg.matrix_power(A,11)@B])\n",
    "print(f'W_c rank: {np.linalg.matrix_rank(W_c)}, col num: {A.shape[0]}')"
   ]
  },
  {
   "cell_type": "code",
   "execution_count": 386,
   "id": "dc5dcf3c",
   "metadata": {},
   "outputs": [
    {
     "name": "stdout",
     "output_type": "stream",
     "text": [
      "[[ 1.     0.     0.    -0.175  0.     0.     0.     0.     0.     0.\n",
      "   0.     0.   ]\n",
      " [ 0.     1.     0.     0.     0.     0.     0.     0.     0.     0.\n",
      "   0.     0.   ]\n",
      " [ 0.     0.     1.     0.     0.     0.175  0.     0.     0.     0.\n",
      "   0.     0.   ]\n",
      " [ 1.     0.     0.     0.175  0.     0.     0.     0.     0.     0.\n",
      "   0.     0.   ]\n",
      " [ 0.     1.     0.     0.     0.     0.     0.     0.     0.     0.\n",
      "   0.     0.   ]\n",
      " [ 0.     0.     1.     0.     0.    -0.175  0.     0.     0.     0.\n",
      "   0.     0.   ]]\n",
      "[[0. 0. 0. 0.]\n",
      " [0. 0. 0. 0.]\n",
      " [0. 0. 0. 0.]\n",
      " [0. 0. 0. 0.]\n",
      " [0. 0. 0. 0.]\n",
      " [0. 0. 0. 0.]]\n",
      "W_o rank: 12, col num: 12\n"
     ]
    }
   ],
   "source": [
    "m = sym.Matrix([p_x,p_y,p_z,psi,theta,phi,v_x, v_y,v_z,w_x,w_y,w_z])\n",
    "n = sym.Matrix([tau_x,tau_y,tau_z,f_z])\n",
    "C_sym = g.jacobian(m)\n",
    "D_sym = g.jacobian(n)\n",
    "\n",
    "subs_dict = {\n",
    "    p_x: 0.0, p_y: 0.0, p_z: 0.0,\n",
    "    psi: 0.0, theta: 0.0, phi: 0.0,\n",
    "    v_x: 0.0, v_y: 0.0, v_z: 0.0,\n",
    "    w_x: 0.0, w_y: 0.0, w_z: 0.0\n",
    "}\n",
    "C_eval = C_sym.evalf(subs=subs_dict)\n",
    "D_eval = D_sym.evalf(subs=subs_dict)\n",
    "\n",
    "C = np.array(C_eval.tolist()).astype(np.float64)\n",
    "D = np.array(D_eval.tolist()).astype(np.float64)\n",
    "print(C)\n",
    "print(D)\n",
    "\n",
    "W_o = np.block([[C],[C@A], [C@np.linalg.matrix_power(A,2)],[C@np.linalg.matrix_power(A,3)],\\\n",
    "                 [C@np.linalg.matrix_power(A,4)],[C@np.linalg.matrix_power(A,5)], [C@np.linalg.matrix_power(A,6)],\n",
    "                 [C@np.linalg.matrix_power(A,7)], [C@np.linalg.matrix_power(A,8)], [C@np.linalg.matrix_power(A,9)],\n",
    "                 [C@np.linalg.matrix_power(A,10)], [C@np.linalg.matrix_power(A,11)]])\n",
    "print(f'W_o rank: {np.linalg.matrix_rank(W_o)}, col num: {A.shape[0]}')"
   ]
  },
  {
   "cell_type": "code",
   "execution_count": 387,
   "id": "1402b6c2",
   "metadata": {},
   "outputs": [
    {
     "name": "stdout",
     "output_type": "stream",
     "text": [
      "K matrix\n",
      "[[-0.         -0.1         0.          0.         -0.          0.58989632\n",
      "  -0.         -0.11413338  0.          0.11275426 -0.          0.        ]\n",
      " [ 0.1         0.         -0.         -0.          0.58989632  0.\n",
      "   0.11413338  0.          0.         -0.          0.11275426 -0.        ]\n",
      " [-0.         -0.         -0.          0.31622777 -0.          0.\n",
      "  -0.         -0.         -0.          0.         -0.          0.11193669]\n",
      " [ 0.         -0.          0.4472136   0.          0.          0.\n",
      "   0.         -0.          0.68353024  0.          0.         -0.        ]]\n",
      "L matrix\n",
      "[[ 2.97537602 -0.          0.          2.97537602 -0.         -0.        ]\n",
      " [-0.          2.92711379 -0.21976816 -0.          2.92711379  0.21976816]\n",
      " [ 0.          0.          1.09868411 -0.          0.          1.09868411]\n",
      " [-2.13087076  0.         -0.          2.13087076  0.          0.        ]\n",
      " [ 1.30543174 -0.          0.          1.30543174 -0.         -0.        ]\n",
      " [ 0.         -1.25581808  0.30429738  0.         -1.25581808 -0.30429738]\n",
      " [ 8.35286245 -0.          0.          8.35286245 -0.         -0.        ]\n",
      " [-0.          8.1162932  -1.19153357 -0.          8.1162932   1.19153357]\n",
      " [-0.          0.          0.70710678  0.          0.          0.70710678]\n",
      " [ 0.         -0.67683134  0.20469329  0.         -0.67683134 -0.20469329]\n",
      " [ 0.70710678 -0.          0.          0.70710678 -0.         -0.        ]\n",
      " [-0.70710678  0.         -0.          0.70710678  0.          0.        ]]\n"
     ]
    }
   ],
   "source": [
    "Qc = np.diag([1,1,1,10,10,10,.1,.1,.1,1,1,1])\n",
    "Rc = np.diag([100,100,100,5])\n",
    "\n",
    "\n",
    "Pc = linalg.solve_continuous_are(A,B,Qc,Rc)\n",
    "K = linalg.inv(Rc)@B.T@Pc\n",
    "Ro = np.diag([1,1,1,1,1,1,1,1,1,1,1,1])\n",
    "Qo = np.diag([1,1,1,1,1,1])\n",
    "\n",
    "def lqr(A, B, Q, R):\n",
    "    P = linalg.solve_continuous_are(A, B, Q, R)\n",
    "    K = linalg.inv(R) @ B.T @ P\n",
    "    return K\n",
    "\n",
    "\n",
    "K = lqr(A, B, Qc, Rc)\n",
    "L = lqr(A.T, C.T, linalg.inv(Ro), linalg.inv(Qo)).T\n",
    "\n",
    "print(f'K matrix')\n",
    "print(K)\n",
    "print(f'L matrix')\n",
    "print(L)"
   ]
  },
  {
   "cell_type": "markdown",
   "id": "c4348369",
   "metadata": {},
   "source": [
    "Show controller template. The actual controller used in this example comes from `ae353_dronecontrol.py`.\n",
    "\n",
    "**NOTE. I didn't publish the version of `ae353_dronecontrol.py` that was used in class, rather just the template version. If you want this notebook to work, you'll need to modify `ae353_dronecontrol.py` so that it works!**"
   ]
  },
  {
   "cell_type": "markdown",
   "id": "8a15ea6d",
   "metadata": {},
   "source": [
    "## Trying Without Collision Avoidance"
   ]
  },
  {
   "cell_type": "code",
   "execution_count": 423,
   "id": "fe69a80e",
   "metadata": {},
   "outputs": [],
   "source": [
    "import numpy as np\n",
    "\n",
    "class Controller:\n",
    "    def __init__(self):\n",
    "\n",
    "        # System matrices and LQR/Observer gains\n",
    "        self.A = np.array([[  0,   0,   0,   0,   0,   0,   1,   0,   0,    0,    0,    0  ],\n",
    "            [ 0,    0,    0,    0,    0,    0,    0,    1,    0,    0,    0,    0  ],\n",
    "            [ 0,    0,    0,    0,    0,    0,    0,    0,    1,    0,    0,    0  ],\n",
    "            [ 0,    0,    0,    0,    0,    0,    0,    0,    0,    0,    0,    1  ],\n",
    "            [ 0,    0,    0,    0,    0,    0,    0,    0,    0,    0,    0,    0  ],\n",
    "            [ 0,    0,    0,    0,    0,    0,    0,    0,    0,    1,    0,    0  ],\n",
    "            [ 0,    0,    0,    0,    9.81,  0,    0,    0,    0,    0,    0,    0  ],\n",
    "            [ 0,    0,    0,    0,    0,   -9.81,  0,    0,    0,    0,    0,    0  ],\n",
    "            [ 0,    0,    0,    0,    0,    0,    0,    0,    0,    0,    0,    0  ],\n",
    "            [ 0,    0,    0,    0,    0,    0,    0,    0,    0,    0,    0,    0  ],\n",
    "            [ 0,    0,    0,    0,    0,    0,    0,    0,    0,    0,    0,    0  ],\n",
    "            [ 0,    0,    0,    0,    0,    0,    0,    0,    0,    0,    0,    0  ]])\n",
    "        self.B = np.array([[  0,          0,          0,          0      ],\n",
    "            [  0,          0,          0,          0       ],\n",
    "            [  0,          0,          0,          0       ],\n",
    "            [  0,          0,          0,          0       ],\n",
    "            [  0,          0,          0,          0       ],\n",
    "            [  0,          0,          0,          0       ],\n",
    "            [  0,          0,          0,          0       ],\n",
    "            [  0,          0,          0,          0       ],\n",
    "            [  0,          0,          0,          2       ],\n",
    "            [434.7826087,   0,          0,          0       ],\n",
    "            [  0,        434.7826087,   0,          0       ],\n",
    "            [  0,          0,        250,          0      ]])\n",
    "        self.C = np.array([[ 1,     0,     0,    -0.175,  0,     0,     0,     0,     0,     0,\n",
    "            0,     0  ],\n",
    "            [ 0,     1,     0,     0,     0,     0,     0,     0,     0,     0,\n",
    "            0,     0   ],\n",
    "            [ 0,     0,     1,     0,     0,     0.175,  0,     0,     0,     0,\n",
    "            0,     0   ],\n",
    "            [ 1,     0,     0,     0.175,  0,     0,     0,     0,     0,     0,\n",
    "             0,     0  ],\n",
    "            [ 0,     1,     0,     0,     0,     0,     0,     0,     0,     0,\n",
    "             0,     0   ],\n",
    "            [ 0,     0,     1,     0,     0,    -0.175,  0,     0,     0,     0,\n",
    "              0,     0   ]])\n",
    "        self.K = np.array([[0,         -0.1,         0,          0,         0,          0.58989632,\n",
    "             0,         -0.11413338,  0,          0.11275426, 0,          0       ],\n",
    "            [ 0.1,         0,         0,         0,          0.58989632,  0,\n",
    "              0.11413338,  0,          0,         0,          0.11275426, 0        ],\n",
    "            [0,         0,         0,          0.31622777, 0,          0,\n",
    "             0,         0,         0,          0,         0,          0.11193669],\n",
    "            [ 0,         0,          0.4472136,   0,          0,          0,\n",
    "              0,         0,          0.68353024,  0,          0,         0        ]])\n",
    "        self.L = np.array([[ 2.97537602, 0,          0,          2.97537602, 0,         0        ],\n",
    "            [0.,          2.92711379, -0.21976816, 0,          2.92711379,  0.21976816],\n",
    "            [ 0,          0,          1.09868411, 0,          0,          1.09868411],\n",
    "            [-2.13087076,  0,         0,          2.13087076,  0,          0        ],\n",
    "            [ 1.30543174, 0,          0,          1.30543174, 0,         0       ],\n",
    "            [ 0,         -1.25581808,  0.30429738,  0,         -1.25581808, -0.30429738],\n",
    "            [ 8.35286245, 0,          0,          8.35286245, 0,         0        ],\n",
    "            [0,          8.1162932,  -1.19153357, 0,          8.1162932,   1.19153357],\n",
    "            [0,          0.,          0.70710678,  0,          0,          0.70710678],\n",
    "            [ 0,         -0.67683134,  0.20469329,  0,         -0.67683134, -0.20469329],\n",
    "            [ 0.70710678, 0,          0,          0.70710678, 0,         0        ],\n",
    "            [-0.70710678,  0,         0,          0.70710678,  0,          0       ]])\n",
    "\n",
    "        # Equilibrium states and inputs\n",
    "        self.me = np.zeros(12)                      \n",
    "        self.ne = np.array([0., 0., 0., 4.905])  # Corrected equilibrium thrust (m*g = 0.5*9.81)\n",
    "        self.markere = np.array([0., 0.175, 0., 0., -0.175, 0.])\n",
    "\n",
    "        #Extras\n",
    "        self.xhat = np.array([0.,0.,0.5,0.,0.,0.,0.,0.,0.,0.,0.,0.])\n",
    "        self.emax = 2\n",
    "        self.dt = 0.4\n",
    "        self.t = 0\n",
    "\n",
    "        self.variables_to_log = ['xhat', 'xdes', 'ring']\n",
    "\n",
    "    def get_color(self):\n",
    "        return [3., 1., 2.]  # Pink drone color\n",
    "\n",
    "    def reset(self, p_x, p_y, p_z, yaw):\n",
    "        self.xhat = np.array([p_x,p_y,p_z,\n",
    "                              yaw,0,0,\n",
    "                              0,0,0,\n",
    "                              0,0,0])\n",
    "        self.t = 0\n",
    "\n",
    "    def get_xdes(self, t, xhat, pos_ring, dir_ring, is_last_ring, pos_others):\n",
    "        phat = self.xhat[0:3]\n",
    "        x_des = pos_ring - dir_ring\n",
    "\n",
    "        if np.linalg.norm(pos_ring - phat) < 1.25:\n",
    "            x_des = pos_ring + dir_ring\n",
    "        else:\n",
    "            x_des = pos_ring - dir_ring\n",
    "        if phat[2] < 1 and not is_last_ring:\n",
    "            x_des += np.array([0,0,2])\n",
    "\n",
    "        x_des = phat + ((self.emax * (x_des - phat)) / np.linalg.norm(x_des - phat))\n",
    "\n",
    "        return np.concatenate([x_des, np.zeros(9)])\n",
    "\n",
    "    def run(self, pos_markers, pos_ring, dir_ring, is_last_ring, pos_others):\n",
    "\n",
    "        xdes = self.get_xdes(self.t, self.xhat, pos_ring, dir_ring, is_last_ring, pos_others)\n",
    "\n",
    "        u = -self.K @ (self.xhat - xdes)\n",
    "        y = pos_markers - self.markere\n",
    "\n",
    "        self.xhat += ((self.A @ self.xhat) + (self.B @ u) - self.L@(self.C @ self.xhat - y))*0.04\n",
    "\n",
    "        tau = u + self.ne\n",
    "        self.t += self.dt\n",
    "\n",
    "\n",
    "        return tau[0], tau[1], tau[2], tau[3]"
   ]
  },
  {
   "cell_type": "markdown",
   "id": "ec385b4a",
   "metadata": {},
   "source": [
    "Rearrange the rings."
   ]
  },
  {
   "cell_type": "code",
   "execution_count": 424,
   "id": "4242f8a2",
   "metadata": {},
   "outputs": [],
   "source": [
    "simulator.place_rings()"
   ]
  },
  {
   "cell_type": "markdown",
   "id": "3c6c501b",
   "metadata": {},
   "source": [
    "## Without collision avoidance"
   ]
  },
  {
   "cell_type": "markdown",
   "id": "057d1740",
   "metadata": {},
   "source": [
    "This controller is what we might start with before adding a planner with collision avoidance."
   ]
  },
  {
   "cell_type": "markdown",
   "id": "4b05a4da",
   "metadata": {},
   "source": [
    "Clear all drones."
   ]
  },
  {
   "cell_type": "code",
   "execution_count": 425,
   "id": "4627ccc1",
   "metadata": {},
   "outputs": [],
   "source": [
    "simulator.clear_drones()"
   ]
  },
  {
   "cell_type": "markdown",
   "id": "6592519f",
   "metadata": {},
   "source": [
    "Add drones to simulator."
   ]
  },
  {
   "cell_type": "code",
   "execution_count": 426,
   "id": "5f31a4c0",
   "metadata": {},
   "outputs": [],
   "source": [
    "num_drones = 1\n",
    "for i in range(num_drones):\n",
    "    simulator.add_drone(Controller, f'test_{i + 1}', 'AE353FINALPROJ.png')"
   ]
  },
  {
   "cell_type": "markdown",
   "id": "5a3542fe",
   "metadata": {},
   "source": [
    "Reset the simulator."
   ]
  },
  {
   "cell_type": "code",
   "execution_count": 427,
   "id": "42819485",
   "metadata": {},
   "outputs": [],
   "source": [
    "simulator.reset()"
   ]
  },
  {
   "cell_type": "markdown",
   "id": "961d3dc0",
   "metadata": {},
   "source": [
    "Run the simulator."
   ]
  },
  {
   "cell_type": "code",
   "execution_count": 428,
   "id": "38bb3770",
   "metadata": {},
   "outputs": [
    {
     "ename": "KeyboardInterrupt",
     "evalue": "",
     "output_type": "error",
     "traceback": [
      "\u001b[1;31m---------------------------------------------------------------------------\u001b[0m",
      "\u001b[1;31mKeyboardInterrupt\u001b[0m                         Traceback (most recent call last)",
      "Cell \u001b[1;32mIn[428], line 1\u001b[0m\n\u001b[1;32m----> 1\u001b[0m \u001b[43msimulator\u001b[49m\u001b[38;5;241;43m.\u001b[39;49m\u001b[43mrun\u001b[49m\u001b[43m(\u001b[49m\u001b[43mmax_time\u001b[49m\u001b[38;5;241;43m=\u001b[39;49m\u001b[38;5;241;43m25.\u001b[39;49m\u001b[43m,\u001b[49m\u001b[43m \u001b[49m\u001b[43mprint_debug\u001b[49m\u001b[38;5;241;43m=\u001b[39;49m\u001b[38;5;28;43;01mTrue\u001b[39;49;00m\u001b[43m)\u001b[49m\n",
      "File \u001b[1;32mc:\\Users\\ellay\\OneDrive\\Desktop\\AE_353\\ae353-sp25\\projects\\04_drone\\ae353_drone.py:840\u001b[0m, in \u001b[0;36mSimulator.run\u001b[1;34m(self, max_time, videos, print_debug)\u001b[0m\n\u001b[0;32m    837\u001b[0m         video[\u001b[38;5;124m'\u001b[39m\u001b[38;5;124mwriter\u001b[39m\u001b[38;5;124m'\u001b[39m]\u001b[38;5;241m.\u001b[39mappend_data(rgba)\n\u001b[0;32m    839\u001b[0m \u001b[38;5;28;01mwhile\u001b[39;00m \u001b[38;5;28;01mTrue\u001b[39;00m:\n\u001b[1;32m--> 840\u001b[0m     all_done \u001b[38;5;241m=\u001b[39m \u001b[38;5;28;43mself\u001b[39;49m\u001b[38;5;241;43m.\u001b[39;49m\u001b[43mstep\u001b[49m\u001b[43m(\u001b[49m\u001b[43mprint_debug\u001b[49m\u001b[38;5;241;43m=\u001b[39;49m\u001b[43mprint_debug\u001b[49m\u001b[43m)\u001b[49m\n\u001b[0;32m    842\u001b[0m     \u001b[38;5;28;01mif\u001b[39;00m \u001b[38;5;28mself\u001b[39m\u001b[38;5;241m.\u001b[39mdisplay_meshcat:\n\u001b[0;32m    843\u001b[0m         \u001b[38;5;28mself\u001b[39m\u001b[38;5;241m.\u001b[39mmeshcat_update()\n",
      "File \u001b[1;32mc:\\Users\\ellay\\OneDrive\\Desktop\\AE_353\\ae353-sp25\\projects\\04_drone\\ae353_drone.py:1108\u001b[0m, in \u001b[0;36mSimulator.step\u001b[1;34m(self, print_debug)\u001b[0m\n\u001b[0;32m   1106\u001b[0m     time_to_wait \u001b[38;5;241m=\u001b[39m t \u001b[38;5;241m-\u001b[39m time\u001b[38;5;241m.\u001b[39mtime()\n\u001b[0;32m   1107\u001b[0m     \u001b[38;5;28;01mwhile\u001b[39;00m time_to_wait \u001b[38;5;241m>\u001b[39m \u001b[38;5;241m0\u001b[39m:\n\u001b[1;32m-> 1108\u001b[0m         \u001b[43mtime\u001b[49m\u001b[38;5;241;43m.\u001b[39;49m\u001b[43msleep\u001b[49m\u001b[43m(\u001b[49m\u001b[38;5;241;43m0.9\u001b[39;49m\u001b[43m \u001b[49m\u001b[38;5;241;43m*\u001b[39;49m\u001b[43m \u001b[49m\u001b[43mtime_to_wait\u001b[49m\u001b[43m)\u001b[49m\n\u001b[0;32m   1109\u001b[0m         time_to_wait \u001b[38;5;241m=\u001b[39m t \u001b[38;5;241m-\u001b[39m time\u001b[38;5;241m.\u001b[39mtime()\n\u001b[0;32m   1111\u001b[0m \u001b[38;5;66;03m# take a simulation step\u001b[39;00m\n",
      "\u001b[1;31mKeyboardInterrupt\u001b[0m: "
     ]
    }
   ],
   "source": [
    "simulator.run(max_time=25., print_debug=True)"
   ]
  },
  {
   "cell_type": "code",
   "execution_count": null,
   "id": "a469752f",
   "metadata": {},
   "outputs": [],
   "source": [
    "simulator.clear_drones()"
   ]
  },
  {
   "cell_type": "markdown",
   "id": "3b4361aa",
   "metadata": {},
   "source": [
    "Add drones to simulator."
   ]
  },
  {
   "cell_type": "code",
   "execution_count": null,
   "id": "68b7514c",
   "metadata": {},
   "outputs": [],
   "source": [
    "num_drones = 5\n",
    "for i in range(num_drones):\n",
    "    simulator.add_drone(AvoidanceController, f'test_{i + 1}', 'template.png')"
   ]
  },
  {
   "cell_type": "markdown",
   "id": "1d36a2fa",
   "metadata": {},
   "source": [
    "Reset the simulator."
   ]
  },
  {
   "cell_type": "code",
   "execution_count": null,
   "id": "37d87af5",
   "metadata": {},
   "outputs": [],
   "source": [
    "simulator.reset()"
   ]
  },
  {
   "cell_type": "markdown",
   "id": "4ccc3158",
   "metadata": {},
   "source": [
    "Run the simulator."
   ]
  },
  {
   "cell_type": "code",
   "execution_count": null,
   "id": "93d43d57",
   "metadata": {},
   "outputs": [],
   "source": [
    "simulator.run(max_time=5., print_debug=True)"
   ]
  },
  {
   "cell_type": "markdown",
   "id": "c2c9769a",
   "metadata": {},
   "source": [
    "### Show results"
   ]
  },
  {
   "cell_type": "markdown",
   "id": "533ad9a4",
   "metadata": {},
   "source": [
    "Get data."
   ]
  },
  {
   "cell_type": "code",
   "execution_count": null,
   "id": "abb7cc8b",
   "metadata": {},
   "outputs": [],
   "source": [
    "data = simulator.get_data('test_1')"
   ]
  },
  {
   "cell_type": "code",
   "execution_count": null,
   "id": "77b91294",
   "metadata": {},
   "outputs": [
    {
     "data": {
      "text/plain": [
       "array([nan, nan, nan, nan, nan, nan, nan, nan, nan, nan, nan, nan, nan,\n",
       "       nan, nan, nan, nan, nan, nan, nan, nan, nan, nan, nan, nan, nan,\n",
       "       nan, nan, nan, nan, nan, nan, nan, nan, nan, nan, nan, nan, nan,\n",
       "       nan, nan, nan, nan, nan, nan, nan, nan, nan, nan, nan, nan, nan,\n",
       "       nan, nan, nan, nan, nan, nan, nan, nan, nan, nan, nan, nan, nan,\n",
       "       nan, nan, nan, nan, nan])"
      ]
     },
     "execution_count": 52,
     "metadata": {},
     "output_type": "execute_result"
    }
   ],
   "source": [
    "data['ring']"
   ]
  },
  {
   "cell_type": "markdown",
   "id": "739ba920",
   "metadata": {},
   "source": [
    "Plot results (position only)."
   ]
  },
  {
   "cell_type": "code",
   "execution_count": null,
   "id": "9e0bdb51",
   "metadata": {},
   "outputs": [
    {
     "data": {
      "text/plain": [
       "array([[ 4.41926658e-02, -2.00181854e-02,  2.86188933e-01,\n",
       "        -1.30325714e-02, -2.61936406e-03,  2.65438450e-03,\n",
       "        -1.67601163e-02, -7.87397825e-03,  3.17624154e-02,\n",
       "        -8.71907747e+00,  8.56802087e+00,  2.72139710e-02],\n",
       "       [ 3.72825808e-02, -1.73759331e-02,  2.83859317e-01,\n",
       "        -1.52271537e-02,  3.37851941e-01, -3.43345572e-01,\n",
       "        -3.21816655e-02, -1.76379886e-02,  6.11493496e-02,\n",
       "         1.10915987e+02, -1.08784734e+02, -1.60762378e-01],\n",
       "       [ 4.98424327e-02, -2.19363311e-02,  3.01991054e-01,\n",
       "        -2.61501609e-02, -4.01656795e+00,  4.09757913e+00,\n",
       "         8.10004426e-02,  1.02835785e-01,  8.77013270e-02,\n",
       "        -1.50893084e+03,  1.48015850e+03,  1.23336218e+00],\n",
       "       [ 5.97130703e-02,  1.12398535e-02,  3.51081029e-01,\n",
       "         1.85007047e-02,  5.51864247e+01, -5.62728158e+01,\n",
       "        -1.51651829e+00, -1.45318772e+00,  1.10635914e-01,\n",
       "         2.04418902e+04, -2.00519057e+04, -9.02317614e+00],\n",
       "       [ 1.45237115e-02, -2.31862187e-01,  4.00236835e-01,\n",
       "        -3.50252313e-01, -7.46894259e+02,  7.61647734e+02,\n",
       "         2.01101210e+01,  1.96687012e+01,  1.30237104e-01,\n",
       "        -2.77001319e+05,  2.71719787e+05,  6.65453250e+01],\n",
       "       [ 8.87672406e-01,  3.13187154e+00,  4.80806660e-01,\n",
       "         2.31395339e+00,  1.01218923e+04, -1.03216434e+04,\n",
       "        -2.73002766e+02, -2.66522416e+02,  1.45673436e-01,\n",
       "         3.75349384e+06, -3.68196359e+06, -4.90109583e+02],\n",
       "       [-1.08338508e+01, -4.23903828e+01,  5.56129870e-01,\n",
       "        -1.73678058e+01, -1.37156656e+05,  1.39862091e+05,\n",
       "         3.69879505e+03,  3.61147079e+03,  1.57489328e-01,\n",
       "        -5.08616022e+07,  4.98928376e+07,  3.61050142e+03],\n",
       "       [ 1.48065100e+02,  5.74849837e+02,  6.72390212e-01,\n",
       "         1.27559409e+02,  1.85855684e+06, -1.89519782e+06,\n",
       "        -5.01215199e+04, -4.89373695e+04,  1.64703143e-01,\n",
       "         6.89198517e+08, -6.76078127e+08, -2.65965671e+04],\n",
       "       [-2.00473199e+03, -7.78846269e+03,  8.20682699e-01,\n",
       "        -9.40121111e+02, -2.51845683e+07,  2.56808167e+07,\n",
       "         6.79176135e+05,  6.63123493e+05,  1.66478976e-01,\n",
       "        -9.33896256e+09,  9.16126761e+09,  1.95923372e+05],\n",
       "       [ 2.71671877e+04,  1.05538633e+05,  9.52169213e-01,\n",
       "         6.92484589e+03,  3.41266136e+08, -3.47987090e+08,\n",
       "        -9.20324850e+06, -8.98563532e+06,  1.63835126e-01,\n",
       "         1.26547315e+11, -1.24140718e+11, -1.44326635e+06],\n",
       "       [-3.68129777e+05, -1.43009603e+06,  1.12805275e+00,\n",
       "        -5.10124074e+04, -4.62436258e+09,  4.71538798e+09,\n",
       "         1.24709583e+08,  1.21759563e+08,  1.55557326e-01,\n",
       "        -1.71477536e+12,  1.68218182e+12,  1.06317999e+07],\n",
       "       [ 4.98838350e+06,  1.93784729e+07,  1.29873144e+00,\n",
       "         3.75781384e+05,  6.26629104e+10, -6.38957147e+10,\n",
       "        -1.68989029e+09, -1.64989908e+09,  1.42278075e-01,\n",
       "         2.32360089e+13, -2.27945813e+13, -7.83189924e+07],\n",
       "       [-6.75956116e+07, -2.62587377e+08,  1.50747603e+00,\n",
       "        -2.76818871e+06, -8.49120342e+11,  8.65816847e+11,\n",
       "         2.28990357e+10,  2.23569049e+10,  1.22958510e-01,\n",
       "        -3.14858799e+14,  3.08880366e+14,  5.76935669e+08],\n",
       "       [ 9.15961430e+08,  3.55818190e+09,  1.72987393e+00,\n",
       "         2.03918192e+07,  1.15060943e+13, -1.17322236e+13,\n",
       "        -3.10295787e+11, -3.02946528e+11,  9.74898874e-02,\n",
       "         4.26648412e+15, -4.18551581e+15, -4.24998785e+09],\n",
       "       [-1.24118315e+10, -4.82150305e+10,  1.96047563e+00,\n",
       "        -1.50216027e+08, -1.55914538e+14,  1.58977123e+14,\n",
       "         4.20469562e+12,  4.10506728e+12,  6.83322061e-02,\n",
       "        -5.78128572e+16,  5.67162711e+16,  3.13074710e+10],\n",
       "       [ 1.68187825e+11,  6.53336235e+11,  2.21667334e+00,\n",
       "         1.10656409e+09,  2.11273631e+15, -2.15421444e+15,\n",
       "        -5.69761691e+13, -5.56255835e+13,  1.95715691e-03,\n",
       "         7.83391281e+17, -7.68539783e+17, -2.30626010e+11],\n",
       "       [-2.27904676e+12, -8.85301185e+12,  2.48308051e+00,\n",
       "        -8.15148754e+09, -2.86288550e+16,  2.91906141e+16,\n",
       "         7.72061558e+14,  7.53752698e+14,  3.43829990e-01,\n",
       "        -1.06153186e+19,  1.04141790e+19,  1.69890300e+12],\n",
       "       [ 3.08824623e+13,  1.19962455e+14,  2.78817454e+00,\n",
       "         6.00478093e+10,  3.87938304e+17, -3.95546487e+17,\n",
       "        -1.04619012e+16, -1.02137019e+16, -4.94131370e+00,\n",
       "         1.43842537e+20, -1.41118425e+20, -1.25149432e+13],\n",
       "       [-4.18476046e+14, -1.62554743e+15,  3.00617540e+00,\n",
       "        -4.42341277e+11, -5.25679869e+18,  5.35984007e+18,\n",
       "         1.41765089e+17,  1.38400443e+17,  6.60425647e+01,\n",
       "        -1.94913371e+21,  1.91224002e+21,  9.21911396e+13],\n",
       "       [ 5.67060357e+15,  2.20269287e+16,  6.18155575e+00,\n",
       "         3.25850032e+12,  7.12328023e+19, -7.26283422e+19,\n",
       "        -1.92100272e+18, -1.87539079e+18, -8.95356223e+02,\n",
       "         2.64116743e+22, -2.59120091e+22, -6.79124635e+14],\n",
       "       [-7.68401087e+16, -2.98475195e+17, -3.19336232e+01,\n",
       "        -2.40036933e+13, -9.65247561e+20,  9.84148038e+20,\n",
       "         2.60307489e+19,  2.54124232e+19,  1.21325079e+04,\n",
       "        -3.57890552e+23,  3.51123398e+23,  5.00276139e+15],\n",
       "       [ 1.04122996e+18,  4.04447863e+18,  4.89532880e+02,\n",
       "         1.76822845e+14,  1.30796884e+22, -1.33356667e+22,\n",
       "        -3.52732394e+20, -3.44350231e+20, -1.64401681e+05,\n",
       "         4.84958452e+24, -4.75793445e+24, -3.68527667e+16],\n",
       "       [-1.41092958e+19, -5.48045789e+19, -6.57146107e+03,\n",
       "        -1.30256284e+15, -1.77237690e+23,  1.80704526e+23,\n",
       "         4.77973732e+21,  4.66610684e+21,  2.22773107e+06,\n",
       "        -6.57141406e+25,  6.44728900e+25,  2.71475359e+17],\n",
       "       [ 1.91189493e+20,  7.42627700e+20,  8.91142040e+04,\n",
       "         9.59530982e+15,  2.40167791e+24, -2.44863093e+24,\n",
       "        -6.47683321e+22, -6.32279321e+22, -3.01869443e+07,\n",
       "         8.90457370e+26, -8.73646661e+26, -1.99981927e+18],\n",
       "       [-2.59073328e+21, -1.00629530e+22, -1.20747241e+06,\n",
       "        -7.06837103e+16, -3.25441885e+25,  3.31800954e+25,\n",
       "         8.77650080e+23,  8.56768081e+23,  4.09049209e+08,\n",
       "        -1.20661142e+28,  1.18384407e+28,  1.47316406e+19],\n",
       "       [ 3.51060032e+22,  1.36357724e+23,  1.63619741e+07,\n",
       "         5.20690562e+17,  4.40993441e+26, -4.49605826e+26,\n",
       "        -1.18926895e+25, -1.16096086e+25, -5.54283510e+09,\n",
       "         1.63501497e+29, -1.60418033e+29, -1.08520437e+20],\n",
       "       [-4.75707580e+23, -1.84771100e+24, -2.21713398e+08,\n",
       "        -3.83566025e+18, -5.97572790e+27,  6.09236943e+27,\n",
       "         1.61153137e+26,  1.57315632e+26,  7.51083740e+10,\n",
       "        -2.21552182e+30,  2.17376140e+30,  7.99414561e+20],\n",
       "       [ 6.44612547e+24,  2.50373491e+25,  3.00433497e+09,\n",
       "         2.82553484e+19,  8.09747279e+28, -8.25544580e+28,\n",
       "        -2.18372249e+27, -2.13170046e+27, -1.01775856e+12,\n",
       "         3.00213579e+31, -2.94557819e+31, -5.88888079e+21],\n",
       "       [-8.73488996e+25, -3.39267801e+26, -4.07103422e+10,\n",
       "        -2.08142802e+20, -1.09725655e+30,  1.11865155e+30,\n",
       "         2.95907607e+28,  2.88855391e+28,  1.37911716e+13,\n",
       "        -4.06803454e+32,  3.99143663e+32,  4.33804263e+22],\n",
       "       [ 1.18363043e+27,  4.59723753e+27,  5.51646866e+11,\n",
       "         1.53328361e+21,  1.48684900e+31, -1.51582523e+31,\n",
       "        -4.00972708e+29, -3.91412578e+29, -1.86877736e+14,\n",
       "         5.51237725e+33, -5.40863809e+33, -3.19562272e+23],\n",
       "       [-1.60389083e+28, -6.22947208e+28, -7.47510946e+12,\n",
       "        -1.12949485e+22, -2.01477033e+32,  2.05401414e+32,\n",
       "         5.43342276e+30,  5.30382368e+30,  2.53229307e+15,\n",
       "        -7.46952924e+34,  7.32903179e+34,  2.35406446e+24],\n",
       "       [ 2.17336910e+29,  8.44122630e+29,  1.01291723e+14,\n",
       "         8.32045833e+22,  2.73013568e+33, -2.78328532e+33,\n",
       "        -7.36261652e+31, -7.18692938e+31, -3.43139227e+16,\n",
       "         1.01215618e+36, -9.93128143e+35, -1.73413675e+25],\n",
       "       [-2.94504661e+30, -1.14382568e+31, -1.37255691e+15,\n",
       "        -6.12932298e+23, -3.69949900e+34,  3.77148192e+34,\n",
       "         9.97679077e+32,  9.73862577e+32,  4.64971966e+17,\n",
       "        -1.37151901e+37,  1.34574871e+37,  1.27747459e+26],\n",
       "       [ 3.99071631e+31,  1.54993735e+32,  1.85988787e+16,\n",
       "         4.51525130e+24,  5.01304494e+35, -5.11053456e+35,\n",
       "        -1.35191550e+34, -1.31962938e+34, -6.30061831e+18,\n",
       "         1.85847247e+38, -1.82357091e+38, -9.41084127e+26],\n",
       "       [-5.40766201e+32, -2.10023767e+33, -2.52024733e+17,\n",
       "        -3.32628151e+25, -6.79297915e+36,  6.92501358e+36,\n",
       "         1.83192729e+35,  1.78815959e+35,  8.53767410e+19,\n",
       "        -2.51831720e+39,  2.47104890e+39,  6.93294816e+27],\n",
       "       [ 7.32770914e+33,  2.84592036e+34,  3.41506964e+18,\n",
       "         2.45047435e+26,  9.20489767e+37, -9.38371760e+37,\n",
       "        -2.48237229e+36, -2.42303996e+36, -1.15690041e+21,\n",
       "         3.41243770e+40, -3.34842074e+40, -5.10777750e+28],\n",
       "       [-9.92948916e+34, -3.85635532e+35, -4.62760163e+19,\n",
       "        -1.80537415e+27, -1.24731932e+39,  1.27153766e+39,\n",
       "         3.36376462e+37,  3.28333259e+37,  1.56766180e+22,\n",
       "        -4.62401283e+41,  4.53731265e+41,  3.76349261e+29],\n",
       "       [ 1.34550585e+36,  5.22554200e+36,  6.27064720e+20,\n",
       "         1.33024583e+28,  1.69019313e+40, -1.72299306e+40,\n",
       "        -4.55810454e+38, -4.44906936e+38, -2.12426541e+23,\n",
       "         6.26575387e+42, -6.14833312e+42, -2.77353114e+30],\n",
       "       [-1.82324182e+37, -7.08085405e+37, -8.49706164e+21,\n",
       "        -9.80356798e+28, -2.29031393e+41,  2.33473626e+41,\n",
       "         6.17650739e+39,  6.02869727e+39,  2.87849301e+24,\n",
       "        -8.49038982e+43,  8.33136331e+43,  2.04468939e+31],\n",
       "       [ 2.47060295e+38,  9.59488873e+38,  1.15139720e+23,\n",
       "         7.22765387e+29,  3.10351393e+42, -3.16367694e+42,\n",
       "        -8.36954114e+40, -8.16916704e+40, -3.90051166e+25,\n",
       "         1.15048757e+45, -1.12895013e+45, -1.50834732e+32],\n",
       "       [-3.34781646e+39, -1.30015234e+40, -1.56020466e+24,\n",
       "        -5.33219494e+30, -4.20544911e+43,  4.28693036e+43,\n",
       "         1.13412345e+42,  1.10696038e+42,  5.28540148e+26,\n",
       "        -1.55896452e+46,  1.52979572e+46,  1.11400800e+33],\n",
       "       [ 4.53649382e+40,  1.76176729e+41,  2.11416059e+25,\n",
       "         3.93873233e+31,  5.69863795e+44, -5.80899133e+44,\n",
       "        -1.53680589e+43, -1.49998314e+43, -7.16200111e+27,\n",
       "         2.11246990e+47, -2.07296574e+47, -8.24543303e+33],\n",
       "       [-6.14722355e+41, -2.38727716e+42, -2.86480044e+26,\n",
       "        -2.91606731e+32, -7.72199915e+45,  7.87145521e+45,\n",
       "         2.08246494e+44,  2.03254737e+44,  9.70489376e+28,\n",
       "        -2.86249562e+48,  2.80899397e+48,  6.12698179e+34],\n",
       "       [ 8.32985977e+42,  3.23487231e+43,  3.88195750e+27,\n",
       "         2.16790860e+33,  1.04637760e+47, -1.06661903e+47,\n",
       "        -2.82186597e+45, -2.75419684e+45, -1.31506490e+30,\n",
       "         3.87881557e+49, -3.80635675e+49, -4.58524424e+35],\n",
       "       [-1.12874639e+44, -4.38340342e+44, -5.26025961e+28,\n",
       "        -1.62380582e+34, -1.41790494e+48,  1.44531872e+48,\n",
       "         3.82379909e+46,  3.73206566e+46,  1.78198313e+31,\n",
       "        -5.25597668e+50,  5.15784366e+50,  3.47502270e+36],\n",
       "       [ 1.52951964e+45,  5.93971684e+45,  7.12793253e+29,\n",
       "         1.23251554e+35,  1.92134697e+49, -1.95847453e+49,\n",
       "        -5.18147908e+47, -5.05712369e+47, -2.41468225e+32,\n",
       "         7.12209446e+51, -6.98919017e+51, -2.69172957e+37],\n",
       "       [-2.07259163e+46, -8.04859439e+46, -9.65872902e+30,\n",
       "        -9.57175233e+35, -2.60354137e+50,  2.65382467e+50,\n",
       "         7.02121760e+48,  6.85263935e+48,  3.27202333e+33,\n",
       "        -9.65077142e+52,  9.47077548e+52,  2.16153474e+38],\n",
       "       [ 2.80848704e+47,  1.09062222e+48,  1.30880933e+32,\n",
       "         7.71830555e+36,  3.52795605e+51, -3.59605667e+51,\n",
       "        -9.51417458e+49, -9.28564712e+49, -4.43376626e+34,\n",
       "         1.30772471e+54, -1.28334737e+54, -1.83440677e+39],\n",
       "       [-3.80566983e+48, -1.47784417e+49, -1.77350650e+33,\n",
       "        -6.58988862e+37, -4.78059387e+52,  4.87282514e+52,\n",
       "         1.28922821e+51,  1.25824866e+51,  6.00798992e+35,\n",
       "        -1.77202820e+55,  1.73901332e+55,  1.67939190e+40],\n",
       "       [ 5.15691284e+49,  2.00254803e+50,  2.40319597e+34,\n",
       "         6.07968325e+38,  6.47799388e+53, -6.60290619e+53,\n",
       "        -1.74698221e+52, -1.70498583e+52, -8.14114701e+36,\n",
       "         2.40118117e+56, -2.35646824e+56, -1.68168534e+41],\n",
       "       [-6.98792885e+50, -2.71354633e+51, -3.25645881e+35,\n",
       "        -6.13886867e+39, -8.77807358e+54,  8.94724701e+54,\n",
       "         2.36726658e+53,  2.31033563e+53,  1.10316887e+38,\n",
       "        -3.25371290e+57,  3.19315702e+57,  1.84121783e+42],\n",
       "       [ 9.46906631e+51,  3.67698231e+52,  4.41267549e+36,\n",
       "         6.77195205e+40,  1.18948207e+56, -1.21239386e+56,\n",
       "        -3.20778942e+54, -3.13061293e+54, -1.49485270e+39,\n",
       "         4.40893330e+58, -4.32692092e+58, -2.17262262e+43],\n",
       "       [-1.28311577e+53, -4.98248318e+53, -5.97941081e+37,\n",
       "        -8.03709382e+41, -1.61182016e+57,  1.64285043e+57,\n",
       "         4.34674871e+55,  4.24212708e+55,  2.02560520e+40,\n",
       "        -5.97431103e+59,  5.86323960e+59,  2.70657722e+44],\n",
       "       [ 1.73869948e+54,  6.75149796e+54,  8.10242079e+38,\n",
       "         1.00514491e+43,  2.18411382e+58, -2.22613925e+58,\n",
       "        -5.89010744e+56, -5.74828080e+56, -2.74480316e+41,\n",
       "         8.09547114e+60, -7.94504434e+60, -3.49264289e+45],\n",
       "       [-2.35604298e+55, -9.14859581e+55, -1.09792126e+40,\n",
       "        -1.30020157e+44, -2.95960635e+59,  3.01652290e+59,\n",
       "         7.98145190e+57,  7.78918959e+57,  3.71935478e+42,\n",
       "        -1.09697424e+62,  1.07660157e+62,  4.60386471e+46],\n",
       "       [ 3.19258076e+56,  1.23967756e+57,  1.48774191e+41,\n",
       "         1.71629930e+45,  4.01044564e+60, -4.08752975e+60,\n",
       "        -1.08153501e+59, -1.05547165e+59, -5.03992424e+43,\n",
       "         1.48645145e+63, -1.45886025e+63, -6.14355926e+47],\n",
       "       [-4.32614006e+57, -1.67982113e+58, -2.01596969e+42,\n",
       "        -2.29212635e+46, -5.43439645e+61,  5.53879417e+61,\n",
       "         1.46554537e+60,  1.43021350e+60,  6.82936634e+44,\n",
       "        -2.01421130e+64,  1.97684389e+64,  8.25492039e+48],\n",
       "       [ 5.86218148e+58,  2.27623628e+59,  2.73174654e+43,\n",
       "         3.08123640e+47,  7.36393593e+62, -7.50532540e+62,\n",
       "        -1.98590263e+61, -1.93800625e+61, -9.25415590e+45,\n",
       "         2.72935061e+65, -2.67874306e+65, -1.11343365e+50],\n",
       "       [-7.94361052e+59, -3.08440672e+60, -3.70166236e+44,\n",
       "        -4.15702925e+48, -9.97857865e+63,  1.01700673e+64,\n",
       "         2.69101820e+62,  2.62608920e+62,  1.25398752e+47,\n",
       "        -3.69839785e+66,  3.62985889e+66,  1.50496574e+51],\n",
       "       [ 1.07640728e+61,  4.17951550e+61,  5.01595007e+45,\n",
       "         5.61957810e+49,  1.35215777e+65, -1.37809173e+65,\n",
       "        -3.64649244e+63, -3.55847381e+63, -1.69922002e+48,\n",
       "         5.01150223e+67, -4.91867838e+67, -2.03651106e+52],\n",
       "       [-1.45859698e+62, -5.66343916e+62, -6.79688006e+46,\n",
       "        -7.60493867e+50, -1.83225557e+66,  1.86737881e+66,\n",
       "         4.94121785e+64,  4.82189860e+64,  2.30253381e+49,\n",
       "        -6.79082014e+68,  6.66510675e+68,  2.75751836e+53],\n",
       "       [ 1.97648714e+63,  7.67422520e+63,  9.21013526e+47,\n",
       "         1.02978059e+52,  2.48281714e+67, -2.53038571e+67,\n",
       "        -6.69564909e+65, -6.53389835e+65, -3.12005621e+50,\n",
       "         9.20187920e+69, -9.03162283e+69, -3.73506255e+54],\n",
       "       [-2.67825964e+64, -1.03989344e+65, -1.24802249e+49,\n",
       "        -1.39486961e+53, -3.36436742e+68,  3.42879109e+68,\n",
       "         9.07300955e+66,  8.85373815e+66,  4.22784270e+51,\n",
       "        -1.24689771e+71,  1.22383953e+71,  5.06008464e+55],\n",
       "       [ 3.62920382e+65,  1.40910430e+66,  1.69113708e+50,\n",
       "         1.88972518e+54,  4.55892137e+69, -4.64617245e+69,\n",
       "        -1.22944768e+68, -1.19972297e+68, -5.72895251e+52,\n",
       "         1.68960477e+72, -1.65837659e+72, -6.85585197e+56],\n",
       "       [-4.91779072e+66, -1.90940229e+67, -2.29158101e+51,\n",
       "        -2.56038393e+55, -6.17761424e+70,  6.29578119e+70,\n",
       "         1.66597598e+69,  1.62568079e+69,  7.76303643e+53,\n",
       "        -2.28949357e+73,  2.24720061e+73,  9.28942583e+57],\n",
       "       [ 6.66390391e+67,  2.58732949e+68,  3.10521457e+52,\n",
       "         3.46923764e+56,  8.37104100e+71, -8.53107825e+71,\n",
       "        -2.25749823e+70, -2.20287357e+70, -1.05193287e+55,\n",
       "         3.10237096e+74, -3.04509276e+74, -1.25872033e+59],\n",
       "       [-9.02999292e+68, -3.50595259e+69, -4.20773148e+53,\n",
       "        -4.70083760e+57, -1.13432669e+73,  1.15600104e+73,\n",
       "         3.05904666e+71,  2.98499682e+71,  1.42542519e+56,\n",
       "        -4.20385790e+75,  4.12628490e+75,  1.70559789e+60],\n",
       "       [ 1.22361867e+70,  4.75072989e+70,  5.70170074e+54,\n",
       "         6.36976048e+58,  1.53708129e+74, -1.56643553e+74,\n",
       "        -4.14519328e+72, -4.04481044e+72, -1.93152721e+57,\n",
       "         5.69642425e+76, -5.59136564e+76, -2.31114865e+61],\n",
       "       [-1.65807731e+71, -6.43746141e+71, -7.72610883e+55,\n",
       "        -8.63126746e+59, -2.08283813e+75,  2.12259348e+75,\n",
       "         5.61698765e+73,  5.48090750e+73,  2.61732246e+58,\n",
       "        -7.71892154e+77,  7.57663868e+77,  3.13170747e+62],\n",
       "       [ 2.24679506e+72,  8.72306159e+72,  1.04692898e+57,\n",
       "         1.16957483e+61,  2.82237166e+76, -2.87621353e+76,\n",
       "        -7.61135805e+74, -7.42688625e+74, -3.54661163e+59,\n",
       "         1.04595001e+79, -1.02668037e+79, -4.24361157e+63]])"
      ]
     },
     "execution_count": 64,
     "metadata": {},
     "output_type": "execute_result"
    }
   ],
   "source": [
    "data['xhat']"
   ]
  },
  {
   "cell_type": "code",
   "execution_count": null,
   "id": "31c6a703",
   "metadata": {},
   "outputs": [
    {
     "ename": "ValueError",
     "evalue": "x and y must have same first dimension, but have shapes (70,) and (40,)",
     "output_type": "error",
     "traceback": [
      "\u001b[1;31m---------------------------------------------------------------------------\u001b[0m",
      "\u001b[1;31mValueError\u001b[0m                                Traceback (most recent call last)",
      "Cell \u001b[1;32mIn[63], line 32\u001b[0m\n\u001b[0;32m     29\u001b[0m ax_px\u001b[38;5;241m.\u001b[39mtick_params(labelsize\u001b[38;5;241m=\u001b[39m\u001b[38;5;241m14\u001b[39m)\n\u001b[0;32m     31\u001b[0m ax_py\u001b[38;5;241m.\u001b[39mplot(data[\u001b[38;5;124m'\u001b[39m\u001b[38;5;124mt\u001b[39m\u001b[38;5;124m'\u001b[39m], data[\u001b[38;5;124m'\u001b[39m\u001b[38;5;124mp_y\u001b[39m\u001b[38;5;124m'\u001b[39m], label\u001b[38;5;241m=\u001b[39m\u001b[38;5;124m'\u001b[39m\u001b[38;5;124my (m)\u001b[39m\u001b[38;5;124m'\u001b[39m, linewidth\u001b[38;5;241m=\u001b[39m\u001b[38;5;241m3\u001b[39m)\n\u001b[1;32m---> 32\u001b[0m \u001b[43max_py\u001b[49m\u001b[38;5;241;43m.\u001b[39;49m\u001b[43mplot\u001b[49m\u001b[43m(\u001b[49m\u001b[43mdata\u001b[49m\u001b[43m[\u001b[49m\u001b[38;5;124;43m'\u001b[39;49m\u001b[38;5;124;43mt\u001b[39;49m\u001b[38;5;124;43m'\u001b[39;49m\u001b[43m]\u001b[49m\u001b[43m,\u001b[49m\u001b[43m \u001b[49m\u001b[43mp_y_est\u001b[49m\u001b[43m,\u001b[49m\u001b[43m \u001b[49m\u001b[38;5;124;43m'\u001b[39;49m\u001b[38;5;124;43m--\u001b[39;49m\u001b[38;5;124;43m'\u001b[39;49m\u001b[43m,\u001b[49m\u001b[43m \u001b[49m\u001b[43mlabel\u001b[49m\u001b[38;5;241;43m=\u001b[39;49m\u001b[38;5;124;43m'\u001b[39;49m\u001b[38;5;124;43mestimated y (m)\u001b[39;49m\u001b[38;5;124;43m'\u001b[39;49m\u001b[43m,\u001b[49m\u001b[43m \u001b[49m\u001b[43mlinewidth\u001b[49m\u001b[38;5;241;43m=\u001b[39;49m\u001b[38;5;241;43m4\u001b[39;49m\u001b[43m)\u001b[49m\n\u001b[0;32m     33\u001b[0m ax_py\u001b[38;5;241m.\u001b[39mplot(data[\u001b[38;5;124m'\u001b[39m\u001b[38;5;124mt\u001b[39m\u001b[38;5;124m'\u001b[39m], p_y_des, \u001b[38;5;124m'\u001b[39m\u001b[38;5;124m:\u001b[39m\u001b[38;5;124m'\u001b[39m, label\u001b[38;5;241m=\u001b[39m\u001b[38;5;124m'\u001b[39m\u001b[38;5;124mdesired y (m)\u001b[39m\u001b[38;5;124m'\u001b[39m, linewidth\u001b[38;5;241m=\u001b[39m\u001b[38;5;241m4\u001b[39m)\n\u001b[0;32m     34\u001b[0m \u001b[38;5;66;03m# ax_py.plot(data['t'], p_y_ring, '-.', label='ring y (m)', linewidth=3)\u001b[39;00m\n",
      "File \u001b[1;32mc:\\Users\\ellay\\miniconda3\\envs\\ae353\\Lib\\site-packages\\matplotlib\\axes\\_axes.py:1777\u001b[0m, in \u001b[0;36mAxes.plot\u001b[1;34m(self, scalex, scaley, data, *args, **kwargs)\u001b[0m\n\u001b[0;32m   1534\u001b[0m \u001b[38;5;250m\u001b[39m\u001b[38;5;124;03m\"\"\"\u001b[39;00m\n\u001b[0;32m   1535\u001b[0m \u001b[38;5;124;03mPlot y versus x as lines and/or markers.\u001b[39;00m\n\u001b[0;32m   1536\u001b[0m \n\u001b[1;32m   (...)\u001b[0m\n\u001b[0;32m   1774\u001b[0m \u001b[38;5;124;03m(``'green'``) or hex strings (``'#008000'``).\u001b[39;00m\n\u001b[0;32m   1775\u001b[0m \u001b[38;5;124;03m\"\"\"\u001b[39;00m\n\u001b[0;32m   1776\u001b[0m kwargs \u001b[38;5;241m=\u001b[39m cbook\u001b[38;5;241m.\u001b[39mnormalize_kwargs(kwargs, mlines\u001b[38;5;241m.\u001b[39mLine2D)\n\u001b[1;32m-> 1777\u001b[0m lines \u001b[38;5;241m=\u001b[39m [\u001b[38;5;241m*\u001b[39m\u001b[38;5;28mself\u001b[39m\u001b[38;5;241m.\u001b[39m_get_lines(\u001b[38;5;28mself\u001b[39m, \u001b[38;5;241m*\u001b[39margs, data\u001b[38;5;241m=\u001b[39mdata, \u001b[38;5;241m*\u001b[39m\u001b[38;5;241m*\u001b[39mkwargs)]\n\u001b[0;32m   1778\u001b[0m \u001b[38;5;28;01mfor\u001b[39;00m line \u001b[38;5;129;01min\u001b[39;00m lines:\n\u001b[0;32m   1779\u001b[0m     \u001b[38;5;28mself\u001b[39m\u001b[38;5;241m.\u001b[39madd_line(line)\n",
      "File \u001b[1;32mc:\\Users\\ellay\\miniconda3\\envs\\ae353\\Lib\\site-packages\\matplotlib\\axes\\_base.py:297\u001b[0m, in \u001b[0;36m_process_plot_var_args.__call__\u001b[1;34m(self, axes, data, return_kwargs, *args, **kwargs)\u001b[0m\n\u001b[0;32m    295\u001b[0m     this \u001b[38;5;241m+\u001b[39m\u001b[38;5;241m=\u001b[39m args[\u001b[38;5;241m0\u001b[39m],\n\u001b[0;32m    296\u001b[0m     args \u001b[38;5;241m=\u001b[39m args[\u001b[38;5;241m1\u001b[39m:]\n\u001b[1;32m--> 297\u001b[0m \u001b[38;5;28;01myield from\u001b[39;00m \u001b[38;5;28;43mself\u001b[39;49m\u001b[38;5;241;43m.\u001b[39;49m\u001b[43m_plot_args\u001b[49m\u001b[43m(\u001b[49m\n\u001b[0;32m    298\u001b[0m \u001b[43m    \u001b[49m\u001b[43maxes\u001b[49m\u001b[43m,\u001b[49m\u001b[43m \u001b[49m\u001b[43mthis\u001b[49m\u001b[43m,\u001b[49m\u001b[43m \u001b[49m\u001b[43mkwargs\u001b[49m\u001b[43m,\u001b[49m\u001b[43m \u001b[49m\u001b[43mambiguous_fmt_datakey\u001b[49m\u001b[38;5;241;43m=\u001b[39;49m\u001b[43mambiguous_fmt_datakey\u001b[49m\u001b[43m,\u001b[49m\n\u001b[0;32m    299\u001b[0m \u001b[43m    \u001b[49m\u001b[43mreturn_kwargs\u001b[49m\u001b[38;5;241;43m=\u001b[39;49m\u001b[43mreturn_kwargs\u001b[49m\n\u001b[0;32m    300\u001b[0m \u001b[43m\u001b[49m\u001b[43m)\u001b[49m\n",
      "File \u001b[1;32mc:\\Users\\ellay\\miniconda3\\envs\\ae353\\Lib\\site-packages\\matplotlib\\axes\\_base.py:494\u001b[0m, in \u001b[0;36m_process_plot_var_args._plot_args\u001b[1;34m(self, axes, tup, kwargs, return_kwargs, ambiguous_fmt_datakey)\u001b[0m\n\u001b[0;32m    491\u001b[0m     axes\u001b[38;5;241m.\u001b[39myaxis\u001b[38;5;241m.\u001b[39mupdate_units(y)\n\u001b[0;32m    493\u001b[0m \u001b[38;5;28;01mif\u001b[39;00m x\u001b[38;5;241m.\u001b[39mshape[\u001b[38;5;241m0\u001b[39m] \u001b[38;5;241m!=\u001b[39m y\u001b[38;5;241m.\u001b[39mshape[\u001b[38;5;241m0\u001b[39m]:\n\u001b[1;32m--> 494\u001b[0m     \u001b[38;5;28;01mraise\u001b[39;00m \u001b[38;5;167;01mValueError\u001b[39;00m(\u001b[38;5;124mf\u001b[39m\u001b[38;5;124m\"\u001b[39m\u001b[38;5;124mx and y must have same first dimension, but \u001b[39m\u001b[38;5;124m\"\u001b[39m\n\u001b[0;32m    495\u001b[0m                      \u001b[38;5;124mf\u001b[39m\u001b[38;5;124m\"\u001b[39m\u001b[38;5;124mhave shapes \u001b[39m\u001b[38;5;132;01m{\u001b[39;00mx\u001b[38;5;241m.\u001b[39mshape\u001b[38;5;132;01m}\u001b[39;00m\u001b[38;5;124m and \u001b[39m\u001b[38;5;132;01m{\u001b[39;00my\u001b[38;5;241m.\u001b[39mshape\u001b[38;5;132;01m}\u001b[39;00m\u001b[38;5;124m\"\u001b[39m)\n\u001b[0;32m    496\u001b[0m \u001b[38;5;28;01mif\u001b[39;00m x\u001b[38;5;241m.\u001b[39mndim \u001b[38;5;241m>\u001b[39m \u001b[38;5;241m2\u001b[39m \u001b[38;5;129;01mor\u001b[39;00m y\u001b[38;5;241m.\u001b[39mndim \u001b[38;5;241m>\u001b[39m \u001b[38;5;241m2\u001b[39m:\n\u001b[0;32m    497\u001b[0m     \u001b[38;5;28;01mraise\u001b[39;00m \u001b[38;5;167;01mValueError\u001b[39;00m(\u001b[38;5;124mf\u001b[39m\u001b[38;5;124m\"\u001b[39m\u001b[38;5;124mx and y can be no greater than 2D, but have \u001b[39m\u001b[38;5;124m\"\u001b[39m\n\u001b[0;32m    498\u001b[0m                      \u001b[38;5;124mf\u001b[39m\u001b[38;5;124m\"\u001b[39m\u001b[38;5;124mshapes \u001b[39m\u001b[38;5;132;01m{\u001b[39;00mx\u001b[38;5;241m.\u001b[39mshape\u001b[38;5;132;01m}\u001b[39;00m\u001b[38;5;124m and \u001b[39m\u001b[38;5;132;01m{\u001b[39;00my\u001b[38;5;241m.\u001b[39mshape\u001b[38;5;132;01m}\u001b[39;00m\u001b[38;5;124m\"\u001b[39m)\n",
      "\u001b[1;31mValueError\u001b[0m: x and y must have same first dimension, but have shapes (70,) and (40,)"
     ]
    },
    {
     "data": {
      "image/png": "[encoded data removed]",
      "text/plain": [
       "<Figure size 1200x800 with 3 Axes>"
      ]
     },
     "metadata": {},
     "output_type": "display_data"
    }
   ],
   "source": [
    "p_x_est = data['xhat'][:, 0]\n",
    "p_y_est = data['xhat'][:, 1]\n",
    "p_z_est = data['xhat'][:, 2]\n",
    "\n",
    "p_x_des = data['xdes'][:, 0]\n",
    "p_y_des = data['xdes'][:, 1]\n",
    "p_z_des = data['xdes'][:, 2]\n",
    "\n",
    "p_x_est = p_x_est[:-30]\n",
    "p_y_est = p_y_est[:-30]\n",
    "p_z_est = p_z_est[:-30]\n",
    "p_x_des = p_x_des[:-30]\n",
    "p_y_des = p_y_des[:-30]\n",
    "p_z_des = p_z_des[:-30]\n",
    "\n",
    "#p_x_ring = data['ring'][:, 0]\n",
    "#p_y_ring = data['ring'][:, 1]\n",
    "#p_z_ring = data['ring'][:, 2]\n",
    "\n",
    "# Create a figure with subplots that all share the same x-axis\n",
    "fig, (ax_px, ax_py, ax_pz) = plt.subplots(3, 1, figsize=(12, 8), sharex=True)\n",
    "\n",
    "ax_px.plot(data['t'][:-30], data['p_x'][:-30], label='x (m)', linewidth=3)\n",
    "ax_px.plot(data['t'][:-30], p_x_est, '--', label='estimated x (m)', linewidth=4)\n",
    "ax_px.plot(data['t'][:-30], p_x_des, ':', label='desired x (m)', linewidth=4)\n",
    "# ax_px.plot(data['t'], p_x_ring, '-.', label='ring x (m)', linewidth=3)\n",
    "ax_px.grid()\n",
    "ax_px.legend(fontsize=16, bbox_to_anchor=(1., 1.))\n",
    "ax_px.tick_params(labelsize=14)\n",
    "\n",
    "ax_py.plot(data['t'], data['p_y'], label='y (m)', linewidth=3)\n",
    "ax_py.plot(data['t'], p_y_est, '--', label='estimated y (m)', linewidth=4)\n",
    "ax_py.plot(data['t'], p_y_des, ':', label='desired y (m)', linewidth=4)\n",
    "# ax_py.plot(data['t'], p_y_ring, '-.', label='ring y (m)', linewidth=3)\n",
    "ax_py.grid()\n",
    "ax_py.legend(fontsize=16, bbox_to_anchor=(1., 1.))\n",
    "ax_py.tick_params(labelsize=14)\n",
    "\n",
    "ax_pz.plot(data['t'], data['p_z'], label='z (m)', linewidth=3)\n",
    "ax_pz.plot(data['t'], p_z_est, '--', label='estimated z (m)', linewidth=4)\n",
    "ax_pz.plot(data['t'], p_z_des, ':', label='desired z (m)', linewidth=4)\n",
    "# ax_pz.plot(data['t'], p_z_ring, '-.', label='ring z (m)', linewidth=3)\n",
    "ax_pz.grid()\n",
    "ax_pz.legend(fontsize=16, bbox_to_anchor=(1., 1.))\n",
    "ax_pz.tick_params(labelsize=14)\n",
    "\n",
    "# Set shared x-axis properties\n",
    "ax_pz.set_xlabel('time (s)', fontsize=20)\n",
    "# ax_pz.set_xlim([data['t'][0], data['t'][-1]])\n",
    "\n",
    "# Make the arrangement of subplots look nice\n",
    "fig.tight_layout()\n",
    "plt.show()"
   ]
  },
  {
   "cell_type": "code",
   "execution_count": null,
   "id": "14b43b47",
   "metadata": {},
   "outputs": [
    {
     "name": "stdout",
     "output_type": "stream",
     "text": [
      "3658317019\n",
      "Failed to add wark because of the following error:\n",
      "\n",
      "==========\n",
      "Traceback (most recent call last):\n",
      "  File \"c:\\Users\\ellay\\OneDrive\\Desktop\\AE_353\\ae353-sp25\\projects\\04_drone\\ae353_drone.py\", line 190, in add_drone\n",
      "    texture_id = self.bullet_client.loadTexture(image)\n",
      "pybullet.error: Error loading texture\n",
      "==========\n",
      "\n",
      "The simulator has no drone with name \"wark\". The simulator has no drones at all, in fact.\n"
     ]
    },
    {
     "ename": "TypeError",
     "evalue": "cannot unpack non-iterable NoneType object",
     "output_type": "error",
     "traceback": [
      "\u001b[1;31m---------------------------------------------------------------------------\u001b[0m",
      "\u001b[1;31mTypeError\u001b[0m                                 Traceback (most recent call last)",
      "Cell \u001b[1;32mIn[375], line 23\u001b[0m\n\u001b[0;32m     20\u001b[0m simulator\u001b[38;5;241m.\u001b[39mreset()\n\u001b[0;32m     21\u001b[0m simulator\u001b[38;5;241m.\u001b[39mrun(max_time\u001b[38;5;241m=\u001b[39m\u001b[38;5;241m70.\u001b[39m, print_debug\u001b[38;5;241m=\u001b[39m\u001b[38;5;28;01mFalse\u001b[39;00m)\n\u001b[1;32m---> 23\u001b[0m did_fail, did_finish, t_finish \u001b[38;5;241m=\u001b[39m simulator\u001b[38;5;241m.\u001b[39mget_result(\u001b[38;5;124m'\u001b[39m\u001b[38;5;124mwark\u001b[39m\u001b[38;5;124m'\u001b[39m)\n\u001b[0;32m     24\u001b[0m data \u001b[38;5;241m=\u001b[39m simulator\u001b[38;5;241m.\u001b[39mget_data(\u001b[38;5;124m'\u001b[39m\u001b[38;5;124mwark\u001b[39m\u001b[38;5;124m'\u001b[39m)\n\u001b[0;32m     26\u001b[0m \u001b[38;5;66;03m# Compute time\u001b[39;00m\n",
      "\u001b[1;31mTypeError\u001b[0m: cannot unpack non-iterable NoneType object"
     ]
    }
   ],
   "source": [
    "import numpy as np\n",
    "import matplotlib.pyplot as plt\n",
    "import secrets\n",
    "import ae353_drone\n",
    "\n",
    "# Logging containers\n",
    "compute_times = []\n",
    "finish_times = []\n",
    "success_flags = []\n",
    "controller_errors = []\n",
    "observer_errors = []\n",
    "\n",
    "num_trials = 100  \n",
    "\n",
    "for _ in range(num_trials):\n",
    "    seed = secrets.randbits(32)\n",
    "    print(seed)\n",
    "    simulator = ae353_drone.Simulator(seed=seed, display_pybullet=False)\n",
    "    simulator.add_drone(Controller, 'wark', 'AE353FINALPROJ.jpg')\n",
    "    simulator.reset()\n",
    "    simulator.run(max_time=70., print_debug=False)\n",
    "\n",
    "    did_fail, did_finish, t_finish = simulator.get_result('wark')\n",
    "    data = simulator.get_data('wark')\n",
    "\n",
    "    # Compute time\n",
    "    compute_times.extend(data['run_time'])\n",
    "\n",
    "    # Completion\n",
    "    success_flags.append(int(did_finish and not did_fail))\n",
    "    finish_times.append(t_finish if did_finish else np.nan)\n",
    "\n",
    "    # Position logs\n",
    "    actual_pos = np.stack([data['p_x'], data['p_y'], data['p_z']], axis=1)\n",
    "    est_pos = np.array(data['xhat'])[:, :3]\n",
    "\n",
    "    # Handle desired pos\n",
    "    if isinstance(data['pos_ring'], list) or np.ndim(data['pos_ring']) == 2:\n",
    "        desired_array = np.array(data['pos_ring'])  # already a trajectory\n",
    "    else:\n",
    "        desired_array = np.tile(data['pos_ring'], (len(actual_pos), 1))  # constant\n",
    "\n",
    "    # Align lengths\n",
    "    N = min(len(actual_pos), len(est_pos), len(desired_array))\n",
    "    actual_pos = actual_pos[:N]\n",
    "    est_pos = est_pos[:N]\n",
    "    desired_array = desired_array[:N]\n",
    "\n",
    "    # Errors\n",
    "    controller_err = np.linalg.norm(desired_array - actual_pos, axis=1)\n",
    "    observer_err = np.linalg.norm(est_pos - actual_pos, axis=1)\n",
    "    controller_errors.extend(controller_err)\n",
    "    observer_errors.extend(observer_err)\n",
    "\n",
    "# --- Plot 4 Subplots ---\n",
    "fig, axes = plt.subplots(2, 2, figsize=(14, 10))\n",
    "axes = axes.flatten()\n",
    "\n",
    "# 1. Computation Time per Step\n",
    "axes[0].hist(compute_times, bins=30, color='orange', edgecolor='black')\n",
    "axes[0].set_title(\"Computation Time per Step\")\n",
    "axes[0].set_xlabel(\"Time per Step (s)\")\n",
    "axes[0].set_ylabel(\"Frequency\")\n",
    "axes[0].grid(True)\n",
    "\n",
    "# 2. Completion Times\n",
    "valid_times = [t for t in finish_times if not np.isnan(t)]\n",
    "axes[1].hist(valid_times, bins=10, color='salmon', edgecolor='black')\n",
    "axes[1].set_title(\"Completion Times (Successful Flights Only)\")\n",
    "axes[1].set_xlabel(\"Completion Time (s)\")\n",
    "axes[1].set_ylabel(\"Number of Flights\")\n",
    "axes[1].grid(True)\n",
    "\n",
    "# 3. Controller Tracking Error\n",
    "axes[2].hist(controller_errors, bins=30, color='skyblue', edgecolor='black')\n",
    "axes[2].set_title(\"Controller Tracking Error\")\n",
    "axes[2].set_xlabel(\"Position Error (m)\")\n",
    "axes[2].set_ylabel(\"Frequency\")\n",
    "axes[2].grid(True)\n",
    "\n",
    "# 4. Observer Estimation Error\n",
    "axes[3].hist(observer_errors, bins=30, color='lightgreen', edgecolor='black')\n",
    "axes[3].set_title(\"Observer Estimation Error\")\n",
    "axes[3].set_xlabel(\"Estimation Error (m)\")\n",
    "axes[3].set_ylabel(\"Frequency\")\n",
    "axes[3].grid(True)\n",
    "\n",
    "plt.tight_layout()\n",
    "plt.show()\n",
    "\n",
    "# --- Summary Stats ---\n",
    "print(f\"\\nSummary for {num_trials} trials:\")\n",
    "print(f\"Success Rate: {np.mean(success_flags) * 100:.1f}%\")\n",
    "if valid_times:\n",
    "    print(f\"Average Completion Time: {np.mean(valid_times):.2f} s\")\n",
    "    print(f\"Fastest: {np.min(valid_times):.2f} s | Slowest: {np.max(valid_times):.2f} s\")\n",
    "else:\n",
    "    print(\"No successful flights.\")\n",
    "\n"
   ]
  },
  {
   "cell_type": "code",
   "execution_count": null,
   "id": "fa5b4827",
   "metadata": {},
   "outputs": [],
   "source": []
  }
 ],
 "metadata": {
  "kernelspec": {
   "display_name": "Python 3",
   "language": "python",
   "name": "python3"
  },
  "language_info": {
   "codemirror_mode": {
    "name": "ipython",
    "version": 3
   },
   "file_extension": ".py",
   "mimetype": "text/x-python",
   "name": "python",
   "nbconvert_exporter": "python",
   "pygments_lexer": "ipython3",
   "version": "3.13.1"
  }
 },
 "nbformat": 4,
 "nbformat_minor": 5
}
