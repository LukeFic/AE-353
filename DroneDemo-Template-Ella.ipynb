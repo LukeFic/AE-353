{
 "cells": [
  {
   "cell_type": "markdown",
   "id": "middle-acoustic",
   "metadata": {},
   "source": [
    "# Quadrotor (aka \"the drone\")"
   ]
  },
  {
   "cell_type": "markdown",
   "id": "future-divide",
   "metadata": {},
   "source": [
    "## Example of how to set everything up (do this only once)"
   ]
  },
  {
   "cell_type": "markdown",
   "id": "faced-least",
   "metadata": {},
   "source": [
    "Import modules."
   ]
  },
  {
   "cell_type": "code",
   "execution_count": 38,
   "id": "informed-qatar",
   "metadata": {},
   "outputs": [],
   "source": [
    "import numpy as np\n",
    "import matplotlib.pyplot as plt\n",
    "import secrets\n",
    "import ae353_drone\n",
    "\n",
    "# Suppress the use of scientific notation when printing small numbers\n",
    "np.set_printoptions(suppress=True)"
   ]
  },
  {
   "cell_type": "markdown",
   "id": "final-distinction",
   "metadata": {},
   "source": [
    "Create and print a seed for the random number generator so it is possible to reproduce the results. Here are a few best practices:\n",
    "\n",
    "* By default, keep this code unchanged.\n",
    "* When producing final results for your report, (1) run this cell once to create a seed, (2) copy/paste this seed into the line of code that creates a simulator, and (3) replace the code cell that creates a seed with a markdown cell saying that you took this approach to choose a seed for testing."
   ]
  },
  {
   "cell_type": "code",
   "execution_count": 39,
   "id": "ceramic-evanescence",
   "metadata": {},
   "outputs": [
    {
     "name": "stdout",
     "output_type": "stream",
     "text": [
      "2213490577\n"
     ]
    }
   ],
   "source": [
    "seed = secrets.randbits(32)\n",
    "print(seed)"
   ]
  },
  {
   "cell_type": "markdown",
   "id": "environmental-refrigerator",
   "metadata": {},
   "source": [
    "Create simulator with seed.\n",
    "\n",
    "If your simulator runs much slower than real-time, then you can try adding the optional argument `display_pybullet=True` (instead of using meshcat views)."
   ]
  },
  {
   "cell_type": "code",
   "execution_count": 40,
   "id": "needed-motion",
   "metadata": {},
   "outputs": [],
   "source": [
    "simulator = ae353_drone.Simulator(seed=seed)"
   ]
  },
  {
   "cell_type": "markdown",
   "id": "c3c358c6",
   "metadata": {},
   "source": [
    "Add a camera view. This view will be displayed in its own browser window."
   ]
  },
  {
   "cell_type": "code",
   "execution_count": 41,
   "id": "3a92a1ff",
   "metadata": {},
   "outputs": [
    {
     "name": "stdout",
     "output_type": "stream",
     "text": [
      "You can open the visualizer by visiting the following URL:\n",
      "http://127.0.0.1:7011/static/\n"
     ]
    }
   ],
   "source": [
    "simulator.add_view(\n",
    "    'my_start_view',  # name of view (must be unique)\n",
    "    'start',          # type of view (start, top, right, left, or back)\n",
    ")"
   ]
  },
  {
   "cell_type": "markdown",
   "id": "strategic-moore",
   "metadata": {},
   "source": [
    "## Example of how to add a drone and run a simulation"
   ]
  },
  {
   "cell_type": "markdown",
   "id": "f0f1d092",
   "metadata": {},
   "source": [
    "Clear all drones (there aren't any yet, if you are running this notebook from the start, but we call this function just in case)."
   ]
  },
  {
   "cell_type": "code",
   "execution_count": 42,
   "id": "69d0a794",
   "metadata": {},
   "outputs": [],
   "source": [
    "simulator.clear_drones()"
   ]
  },
  {
   "cell_type": "markdown",
   "id": "electronic-repository",
   "metadata": {},
   "source": [
    "Define a controller for the drone."
   ]
  },
  {
   "cell_type": "code",
   "execution_count": 43,
   "id": "mathematical-emphasis",
   "metadata": {},
   "outputs": [],
   "source": [
    "import numpy as np\n",
    "\n",
    "class Controller:\n",
    "    def __init__(self):\n",
    "\n",
    "        # System matrices and LQR/Observer gains\n",
    "        self.A = np.array([[  0,   0,   0,   0,   0,   0,   1,   0,   0,    0,    0,    0  ],\n",
    "            [ 0,    0,    0,    0,    0,    0,    0,    1,    0,    0,    0,    0  ],\n",
    "            [ 0,    0,    0,    0,    0,    0,    0,    0,    1,    0,    0,    0  ],\n",
    "            [ 0,    0,    0,    0,    0,    0,    0,    0,    0,    0,    0,    1  ],\n",
    "            [ 0,    0,    0,    0,    0,    0,    0,    0,    0,    0,    0,    0  ],\n",
    "            [ 0,    0,    0,    0,    0,    0,    0,    0,    0,    1,    0,    0  ],\n",
    "            [ 0,    0,    0,    0,    9.81,  0,    0,    0,    0,    0,    0,    0  ],\n",
    "            [ 0,    0,    0,    0,    0,   -9.81,  0,    0,    0,    0,    0,    0  ],\n",
    "            [ 0,    0,    0,    0,    0,    0,    0,    0,    0,    0,    0,    0  ],\n",
    "            [ 0,    0,    0,    0,    0,    0,    0,    0,    0,    0,    0,    0  ],\n",
    "            [ 0,    0,    0,    0,    0,    0,    0,    0,    0,    0,    0,    0  ],\n",
    "            [ 0,    0,    0,    0,    0,    0,    0,    0,    0,    0,    0,    0  ]])\n",
    "        self.B = np.array([[  0,          0,          0,          0      ],\n",
    "            [  0,          0,          0,          0       ],\n",
    "            [  0,          0,          0,          0       ],\n",
    "            [  0,          0,          0,          0       ],\n",
    "            [  0,          0,          0,          0       ],\n",
    "            [  0,          0,          0,          0       ],\n",
    "            [  0,          0,          0,          0       ],\n",
    "            [  0,          0,          0,          0       ],\n",
    "            [  0,          0,          0,          2       ],\n",
    "            [434.7826087,   0,          0,          0       ],\n",
    "            [  0,        434.7826087,   0,          0       ],\n",
    "            [  0,          0,        250,          0      ]])\n",
    "        self.C = np.array([[ 1,     0,     0,    -0.175,  0,     0,     0,     0,     0,     0,\n",
    "            0,     0  ],\n",
    "            [ 0,     1,     0,     0,     0,     0,     0,     0,     0,     0,\n",
    "            0,     0   ],\n",
    "            [ 0,     0,     1,     0,     0,     0.175,  0,     0,     0,     0,\n",
    "            0,     0   ],\n",
    "            [ 1,     0,     0,     0.175,  0,     0,     0,     0,     0,     0,\n",
    "             0,     0  ],\n",
    "            [ 0,     1,     0,     0,     0,     0,     0,     0,     0,     0,\n",
    "             0,     0   ],\n",
    "            [ 0,     0,     1,     0,     0,    -0.175,  0,     0,     0,     0,\n",
    "              0,     0   ]])\n",
    "        self.K = np.array([[0,         -0.1,         0,          0,         0,          0.58989632,\n",
    "             0,         -0.11413338,  0,          0.11275426, 0,          0       ],\n",
    "            [ 0.1,         0,         0,         0,          0.58989632,  0,\n",
    "              0.11413338,  0,          0,         0,          0.11275426, 0        ],\n",
    "            [0,         0,         0,          0.31622777, 0,          0,\n",
    "             0,         0,         0,          0,         0,          0.11193669],\n",
    "            [ 0,         0,          0.4472136,   0,          0,          0,\n",
    "              0,         0,          0.68353024,  0,          0,         0        ]])\n",
    "        self.L = np.array([[ 2.97537602, 0,          0,          2.97537602, 0,         0        ],\n",
    "            [0.,          2.92711379, -0.21976816, 0,          2.92711379,  0.21976816],\n",
    "            [ 0,          0,          1.09868411, 0,          0,          1.09868411],\n",
    "            [-2.13087076,  0,         0,          2.13087076,  0,          0        ],\n",
    "            [ 1.30543174, 0,          0,          1.30543174, 0,         0       ],\n",
    "            [ 0,         -1.25581808,  0.30429738,  0,         -1.25581808, -0.30429738],\n",
    "            [ 8.35286245, 0,          0,          8.35286245, 0,         0        ],\n",
    "            [0,          8.1162932,  -1.19153357, 0,          8.1162932,   1.19153357],\n",
    "            [0,          0.,          0.70710678,  0,          0,          0.70710678],\n",
    "            [ 0,         -0.67683134,  0.20469329,  0,         -0.67683134, -0.20469329],\n",
    "            [ 0.70710678, 0,          0,          0.70710678, 0,         0        ],\n",
    "            [-0.70710678,  0,         0,          0.70710678,  0,          0       ]])\n",
    "\n",
    "        # Equilibrium states and inputs\n",
    "        self.me = np.zeros(12)                      \n",
    "        self.ne = np.array([0., 0., 0., 4.905])  # Corrected equilibrium thrust (m*g = 0.5*9.81)\n",
    "        self.markere = np.array([0., 0.175, 0., 0., -0.175, 0.])\n",
    "\n",
    "        #Extras\n",
    "        self.xhat = np.array([0.,0.,0.5,0.,0.,0.,0.,0.,0.,0.,0.,0.])\n",
    "        self.emax = 2\n",
    "        self.dt = 0.4\n",
    "        self.t = 0\n",
    "\n",
    "        self.variables_to_log = ['xhat', 'xdes', 'ring']\n",
    "\n",
    "    def get_color(self):\n",
    "        return [3., 1., 2.]  # Pink drone color\n",
    "\n",
    "    def reset(self, p_x, p_y, p_z, yaw):\n",
    "        self.xhat = np.array([p_x,p_y,p_z,\n",
    "                              yaw,0,0,\n",
    "                              0,0,0,\n",
    "                              0,0,0])\n",
    "        self.t = 0\n",
    "\n",
    "    def get_xdes(self, t, xhat, pos_ring, dir_ring, is_last_ring, pos_others):\n",
    "        phat = self.xhat[0:3]\n",
    "        x_des = pos_ring - dir_ring\n",
    "\n",
    "        if np.linalg.norm(pos_ring - phat) < 1.25:\n",
    "            x_des = pos_ring + dir_ring\n",
    "        else:\n",
    "            x_des = pos_ring - dir_ring\n",
    "        if phat[2] < 1 and not is_last_ring:\n",
    "            x_des += np.array([0,0,2])\n",
    "\n",
    "        x_des = phat + ((self.emax * (x_des - phat)) / np.linalg.norm(x_des - phat))\n",
    "\n",
    "        return np.concatenate([x_des, np.zeros(9)])\n",
    "\n",
    "    def run(self, pos_markers, pos_ring, dir_ring, is_last_ring, pos_others):\n",
    "\n",
    "        xdes = self.get_xdes(self.t, self.xhat, pos_ring, dir_ring, is_last_ring, pos_others)\n",
    "\n",
    "        u = -self.K @ (self.xhat - xdes)\n",
    "        y = pos_markers - self.markere\n",
    "\n",
    "        self.xhat += ((self.A @ self.xhat) + (self.B @ u) - self.L@(self.C @ self.xhat - y))*0.04\n",
    "\n",
    "        tau = u + self.ne\n",
    "        self.t += self.dt\n",
    "\n",
    "        tau_x = tau[0]\n",
    "        tau_y = tau[1]\n",
    "        tau_z = tau[2]\n",
    "        f_z = tau[3]\n",
    "\n",
    "        return tau_x, tau_y, tau_z, f_z"
   ]
  },
  {
   "cell_type": "markdown",
   "id": "9f1dd2ee",
   "metadata": {},
   "source": [
    "Add the drone to the simulator. There are three arguments:\n",
    "\n",
    "* `Controller` is the class definition\n",
    "* `'template'` is the name of the drone\n",
    "* `'template.png'` is the name of an image to use as a label (can be `None`, can be a file path)\n",
    "\n",
    "You can call this function more than once, so long as you call it with a different drone name each time. An exception will be raised if you try to add two drones of the same name to the simulator."
   ]
  },
  {
   "cell_type": "code",
   "execution_count": 44,
   "id": "164c306e",
   "metadata": {},
   "outputs": [],
   "source": [
    "simulator.add_drone(Controller, 'template', 'template.png')"
   ]
  },
  {
   "cell_type": "markdown",
   "id": "basic-variance",
   "metadata": {},
   "source": [
    "Reset the drone (i.e., place it at a random location in the start ring)."
   ]
  },
  {
   "cell_type": "code",
   "execution_count": 45,
   "id": "scientific-friendly",
   "metadata": {},
   "outputs": [],
   "source": [
    "simulator.reset()"
   ]
  },
  {
   "cell_type": "markdown",
   "id": "dress-product",
   "metadata": {},
   "source": [
    "Run simulation until `max_time` is reached or until the drone has either reached the finish ring or been disqualified."
   ]
  },
  {
   "cell_type": "code",
   "execution_count": 46,
   "id": "streaming-narrative",
   "metadata": {},
   "outputs": [
    {
     "name": "stdout",
     "output_type": "stream",
     "text": [
      "Simulated 126 time steps in 5.0455 seconds (24.9727 time steps per second)\n"
     ]
    }
   ],
   "source": [
    "simulator.run(\n",
    "    max_time=5.,       # <-- if None, then simulation will run until all drones fail or finish\n",
    "    print_debug=True,  # <-- if False, then nothing will be printed (good for data collection)\n",
    ")"
   ]
  },
  {
   "cell_type": "markdown",
   "id": "registered-faith",
   "metadata": {},
   "source": [
    "## Example of how to get and plot results\n",
    "\n",
    "Assume that we already did two things:\n",
    "\n",
    "* Added a drone with the name `template` to the simulator\n",
    "* Ran the simulation"
   ]
  },
  {
   "cell_type": "markdown",
   "id": "ec57964f",
   "metadata": {},
   "source": [
    "Get result."
   ]
  },
  {
   "cell_type": "code",
   "execution_count": 21,
   "id": "e41d5a61",
   "metadata": {},
   "outputs": [],
   "source": [
    "(\n",
    "    did_it_fail,\n",
    "    did_it_finish,\n",
    "    what_time_did_it_finish,\n",
    ") = simulator.get_result('template')"
   ]
  },
  {
   "cell_type": "markdown",
   "id": "8967e6bd",
   "metadata": {},
   "source": [
    "Show result."
   ]
  },
  {
   "cell_type": "code",
   "execution_count": 22,
   "id": "7d2272c6",
   "metadata": {},
   "outputs": [
    {
     "name": "stdout",
     "output_type": "stream",
     "text": [
      "The drone did not finish (yet).\n"
     ]
    }
   ],
   "source": [
    "if did_it_fail:\n",
    "    print('The drone failed before finishing.')\n",
    "elif did_it_finish:\n",
    "    print(f'The drone finished at time {what_time_did_it_finish}')\n",
    "else:\n",
    "    print('The drone did not finish (yet).')"
   ]
  },
  {
   "cell_type": "markdown",
   "id": "polished-advisory",
   "metadata": {},
   "source": [
    "Get data."
   ]
  },
  {
   "cell_type": "code",
   "execution_count": 23,
   "id": "liked-handle",
   "metadata": {},
   "outputs": [],
   "source": [
    "data = simulator.get_data('template')"
   ]
  },
  {
   "cell_type": "markdown",
   "id": "cognitive-nomination",
   "metadata": {},
   "source": [
    "Plot data."
   ]
  },
  {
   "cell_type": "code",
   "execution_count": 24,
   "id": "57d41980",
   "metadata": {},
   "outputs": [
    {
     "data": {
      "image/png": "[encoded data removed]",
      "text/plain": [
       "<Figure size 1200x1200 with 4 Axes>"
      ]
     },
     "metadata": {},
     "output_type": "display_data"
    }
   ],
   "source": [
    "# Create a figure with subplots that all share the same x-axis\n",
    "fig, (ax_meas, ax_pos, ax_ori, ax_act) = plt.subplots(4, 1, figsize=(12, 12), sharex=True)\n",
    "\n",
    "# Measurements\n",
    "ax_meas.plot(data['t'], data['pos_markers'][:, 0], '.', markersize=4, label=r'$p_{L, x}$')\n",
    "ax_meas.plot(data['t'], data['pos_markers'][:, 1], '.', markersize=4, label=r'$p_{L, y}$')\n",
    "ax_meas.plot(data['t'], data['pos_markers'][:, 2], '.', markersize=4, label=r'$p_{L, z}$')\n",
    "ax_meas.plot(data['t'], data['pos_markers'][:, 3], '.', markersize=4, label=r'$p_{R, x}$')\n",
    "ax_meas.plot(data['t'], data['pos_markers'][:, 4], '.', markersize=4, label=r'$p_{R, y}$')\n",
    "ax_meas.plot(data['t'], data['pos_markers'][:, 5], '.', markersize=4, label=r'$p_{R, z}$')\n",
    "ax_meas.grid()\n",
    "ax_meas.legend(fontsize=16, bbox_to_anchor=(1., 1.))\n",
    "ax_meas.tick_params(labelsize=14)\n",
    "\n",
    "# Position\n",
    "ax_pos.plot(data['t'], data['p_x'], label='x (m)', linewidth=3, color='C0')\n",
    "ax_pos.plot(data['t'], data['p_y'], label='y (m)', linewidth=3, color='C1')\n",
    "ax_pos.plot(data['t'], data['p_z'], label='z (m)', linewidth=3, color='C2')\n",
    "ax_pos.grid()\n",
    "ax_pos.legend(fontsize=16, bbox_to_anchor=(1., 1.))\n",
    "ax_pos.tick_params(labelsize=14)\n",
    "\n",
    "# Orientation\n",
    "ax_ori.plot(data['t'], data['yaw'], label='yaw (rad)', linewidth=3)\n",
    "ax_ori.plot(data['t'], data['pitch'], label='pitch (rad)', linewidth=3)\n",
    "ax_ori.plot(data['t'], data['roll'], label='roll (rad)', linewidth=3)\n",
    "ax_ori.grid()\n",
    "ax_ori.legend(fontsize=16, bbox_to_anchor=(1., 1.))\n",
    "ax_ori.tick_params(labelsize=14)\n",
    "\n",
    "# Actuator commands\n",
    "ax_act.plot(data['t'], data['tau_x'], label='tau_x (N-m)', linewidth=4)\n",
    "ax_act.plot(data['t'], data['tau_x_cmd'], '--', label='commanded tau_x (N-m)', linewidth=4)\n",
    "ax_act.plot(data['t'], data['tau_y'], label='tau_y (N-m)', linewidth=4)\n",
    "ax_act.plot(data['t'], data['tau_y_cmd'], '--', label='commanded tau_y (N-m)', linewidth=4)\n",
    "ax_act.plot(data['t'], data['tau_z'], label='tau_z (N-m)', linewidth=4)\n",
    "ax_act.plot(data['t'], data['tau_z_cmd'], '--', label='commanded tau_z (N-m)', linewidth=4)\n",
    "ax_act.plot(data['t'], data['f_z'] - (0.5 * 9.81), label='f_z - m g (N)', linewidth=4) # <-- FIXME\n",
    "ax_act.plot(data['t'], data['f_z_cmd'] - (0.5 * 9.81), '--', label='commanded f_z - m g (N)', linewidth=4) # <-- FIXME\n",
    "ax_act.grid()\n",
    "ax_act.legend(fontsize=16, bbox_to_anchor=(1., 1.))\n",
    "ax_act.tick_params(labelsize=14)\n",
    "\n",
    "# Set shared x-axis properties\n",
    "ax_act.set_xlabel('time (s)', fontsize=20)\n",
    "ax_act.set_xlim([data['t'][0], data['t'][-1]])\n",
    "\n",
    "# Make the arrangement of subplots look nice\n",
    "fig.tight_layout()\n",
    "plt.show()"
   ]
  },
  {
   "cell_type": "markdown",
   "id": "03d089f6",
   "metadata": {},
   "source": [
    "Save the figure (without transparent background). Here are some best practices:\n",
    "\n",
    "* Use the extension `.png` for rasterized, low-res images (e.g., to include in a notebook or on a website).\n",
    "* Use the extension `.pdf` for vectorized, high-res images (e.g., to include in a report)."
   ]
  },
  {
   "cell_type": "code",
   "execution_count": null,
   "id": "8a97dcec",
   "metadata": {},
   "outputs": [],
   "source": [
    "#fig.savefig('my_figure.png', facecolor='white', transparent=False)"
   ]
  },
  {
   "cell_type": "markdown",
   "id": "0439cf3a",
   "metadata": {},
   "source": [
    "Plot histogram of controller run times."
   ]
  },
  {
   "cell_type": "code",
   "execution_count": 25,
   "id": "4921eddc",
   "metadata": {},
   "outputs": [
    {
     "data": {
      "image/png": "[encoded data removed]",
      "text/plain": [
       "<Figure size 640x480 with 1 Axes>"
      ]
     },
     "metadata": {},
     "output_type": "display_data"
    }
   ],
   "source": [
    "plt.hist(data['run_time'])\n",
    "plt.ticklabel_format(style='scientific', scilimits=(0, 0), axis='x')\n",
    "plt.tick_params(labelsize=14)\n",
    "plt.xlabel('run time (s)', fontsize=14)\n",
    "plt.ylabel('count', fontsize=14)\n",
    "plt.tight_layout()\n",
    "plt.show()"
   ]
  },
  {
   "cell_type": "markdown",
   "id": "9155e43b",
   "metadata": {},
   "source": [
    "Note that it is required to also plot state estimates (in comparison to states) in order to check that your observer is working - no example is provided here, since no state estimates are being generated by the template `Controller` class."
   ]
  },
  {
   "cell_type": "markdown",
   "id": "secondary-condition",
   "metadata": {},
   "source": [
    "## Example of how to load drones from the \"students\" directory"
   ]
  },
  {
   "cell_type": "markdown",
   "id": "2cb89282",
   "metadata": {},
   "source": [
    "Clear all drones."
   ]
  },
  {
   "cell_type": "code",
   "execution_count": 26,
   "id": "9658851c",
   "metadata": {},
   "outputs": [],
   "source": [
    "simulator.clear_drones()"
   ]
  },
  {
   "cell_type": "markdown",
   "id": "proprietary-camel",
   "metadata": {},
   "source": [
    "Load drones from `students` directory."
   ]
  },
  {
   "cell_type": "code",
   "execution_count": 27,
   "id": "adolescent-anime",
   "metadata": {},
   "outputs": [
    {
     "name": "stdout",
     "output_type": "stream",
     "text": [
      "Try to import controllers from the directory \"./students\":\n",
      " ./students/template.py\n",
      "\n",
      "\n",
      "The following controllers failed to import and were ignored:\n",
      "\n"
     ]
    }
   ],
   "source": [
    "failures = simulator.load_drones()"
   ]
  },
  {
   "cell_type": "markdown",
   "id": "progressive-catch",
   "metadata": {},
   "source": [
    "Reset drones (places drones at random positions within the start ring)."
   ]
  },
  {
   "cell_type": "code",
   "execution_count": 28,
   "id": "noted-filter",
   "metadata": {},
   "outputs": [],
   "source": [
    "simulator.reset()"
   ]
  },
  {
   "cell_type": "markdown",
   "id": "broke-water",
   "metadata": {},
   "source": [
    "Run simulation for `max_time` seconds or until all drones finish."
   ]
  },
  {
   "cell_type": "code",
   "execution_count": 29,
   "id": "russian-thunder",
   "metadata": {},
   "outputs": [
    {
     "ename": "KeyboardInterrupt",
     "evalue": "",
     "output_type": "error",
     "traceback": [
      "\u001b[1;31m---------------------------------------------------------------------------\u001b[0m",
      "\u001b[1;31mKeyboardInterrupt\u001b[0m                         Traceback (most recent call last)",
      "Cell \u001b[1;32mIn[29], line 1\u001b[0m\n\u001b[1;32m----> 1\u001b[0m \u001b[43msimulator\u001b[49m\u001b[38;5;241;43m.\u001b[39;49m\u001b[43mrun\u001b[49m\u001b[43m(\u001b[49m\u001b[43mmax_time\u001b[49m\u001b[38;5;241;43m=\u001b[39;49m\u001b[38;5;241;43m5.0\u001b[39;49m\u001b[43m)\u001b[49m\n",
      "File \u001b[1;32mc:\\Users\\ellay\\OneDrive\\Desktop\\AE_353\\ae353-sp25\\projects\\04_drone\\ae353_drone.py:840\u001b[0m, in \u001b[0;36mSimulator.run\u001b[1;34m(self, max_time, videos, print_debug)\u001b[0m\n\u001b[0;32m    837\u001b[0m         video[\u001b[38;5;124m'\u001b[39m\u001b[38;5;124mwriter\u001b[39m\u001b[38;5;124m'\u001b[39m]\u001b[38;5;241m.\u001b[39mappend_data(rgba)\n\u001b[0;32m    839\u001b[0m \u001b[38;5;28;01mwhile\u001b[39;00m \u001b[38;5;28;01mTrue\u001b[39;00m:\n\u001b[1;32m--> 840\u001b[0m     all_done \u001b[38;5;241m=\u001b[39m \u001b[38;5;28;43mself\u001b[39;49m\u001b[38;5;241;43m.\u001b[39;49m\u001b[43mstep\u001b[49m\u001b[43m(\u001b[49m\u001b[43mprint_debug\u001b[49m\u001b[38;5;241;43m=\u001b[39;49m\u001b[43mprint_debug\u001b[49m\u001b[43m)\u001b[49m\n\u001b[0;32m    842\u001b[0m     \u001b[38;5;28;01mif\u001b[39;00m \u001b[38;5;28mself\u001b[39m\u001b[38;5;241m.\u001b[39mdisplay_meshcat:\n\u001b[0;32m    843\u001b[0m         \u001b[38;5;28mself\u001b[39m\u001b[38;5;241m.\u001b[39mmeshcat_update()\n",
      "File \u001b[1;32mc:\\Users\\ellay\\OneDrive\\Desktop\\AE_353\\ae353-sp25\\projects\\04_drone\\ae353_drone.py:1009\u001b[0m, in \u001b[0;36mSimulator.step\u001b[1;34m(self, print_debug)\u001b[0m\n\u001b[0;32m   1001\u001b[0m     \u001b[38;5;28;01mif\u001b[39;00m (drone[\u001b[38;5;124m'\u001b[39m\u001b[38;5;124mnum_run_time_violations\u001b[39m\u001b[38;5;124m'\u001b[39m] \u001b[38;5;241m>\u001b[39m\u001b[38;5;241m=\u001b[39m \u001b[38;5;28mself\u001b[39m\u001b[38;5;241m.\u001b[39mmax_run_time_violations) \u001b[38;5;129;01mand\u001b[39;00m \u001b[38;5;28mself\u001b[39m\u001b[38;5;241m.\u001b[39merror_on_timeout:\n\u001b[0;32m   1002\u001b[0m         \u001b[38;5;28;01mraise\u001b[39;00m \u001b[38;5;167;01mException\u001b[39;00m(\u001b[38;5;124mf\u001b[39m\u001b[38;5;124m'\u001b[39m\u001b[38;5;124mMaximum run time of \u001b[39m\u001b[38;5;132;01m{\u001b[39;00m\u001b[38;5;28mself\u001b[39m\u001b[38;5;241m.\u001b[39mmax_controller_run_time\u001b[38;5;132;01m}\u001b[39;00m\u001b[38;5;124m was exceeded on \u001b[39m\u001b[38;5;132;01m{\u001b[39;00m\u001b[38;5;28mself\u001b[39m\u001b[38;5;241m.\u001b[39mmax_run_time_violations\u001b[38;5;132;01m}\u001b[39;00m\u001b[38;5;124m occasions\u001b[39m\u001b[38;5;124m'\u001b[39m)\n\u001b[0;32m   1004\u001b[0m     (\n\u001b[0;32m   1005\u001b[0m         tau_x,\n\u001b[0;32m   1006\u001b[0m         tau_y,\n\u001b[0;32m   1007\u001b[0m         tau_z,\n\u001b[0;32m   1008\u001b[0m         f_z,\n\u001b[1;32m-> 1009\u001b[0m     ) \u001b[38;5;241m=\u001b[39m \u001b[38;5;28;43mself\u001b[39;49m\u001b[38;5;241;43m.\u001b[39;49m\u001b[43mset_actuator_commands\u001b[49m\u001b[43m(\u001b[49m\n\u001b[0;32m   1010\u001b[0m \u001b[43m        \u001b[49m\u001b[43mtau_x_cmd\u001b[49m\u001b[43m,\u001b[49m\n\u001b[0;32m   1011\u001b[0m \u001b[43m        \u001b[49m\u001b[43mtau_y_cmd\u001b[49m\u001b[43m,\u001b[49m\n\u001b[0;32m   1012\u001b[0m \u001b[43m        \u001b[49m\u001b[43mtau_z_cmd\u001b[49m\u001b[43m,\u001b[49m\n\u001b[0;32m   1013\u001b[0m \u001b[43m        \u001b[49m\u001b[43mf_z_cmd\u001b[49m\u001b[43m,\u001b[49m\n\u001b[0;32m   1014\u001b[0m \u001b[43m        \u001b[49m\u001b[43mdrone\u001b[49m\u001b[43m,\u001b[49m\n\u001b[0;32m   1015\u001b[0m \u001b[43m    \u001b[49m\u001b[43m)\u001b[49m\n\u001b[0;32m   1016\u001b[0m \u001b[38;5;28;01mexcept\u001b[39;00m \u001b[38;5;167;01mException\u001b[39;00m \u001b[38;5;28;01mas\u001b[39;00m err:\n\u001b[0;32m   1017\u001b[0m     \u001b[38;5;28;01mif\u001b[39;00m print_debug:\n",
      "File \u001b[1;32mc:\\Users\\ellay\\OneDrive\\Desktop\\AE_353\\ae353-sp25\\projects\\04_drone\\ae353_drone.py:704\u001b[0m, in \u001b[0;36mSimulator.set_actuator_commands\u001b[1;34m(self, tau_x_des, tau_y_des, tau_z_des, f_z_des, drone)\u001b[0m\n\u001b[0;32m    703\u001b[0m \u001b[38;5;28;01mdef\u001b[39;00m\u001b[38;5;250m \u001b[39m\u001b[38;5;21mset_actuator_commands\u001b[39m(\u001b[38;5;28mself\u001b[39m, tau_x_des, tau_y_des, tau_z_des, f_z_des, drone):\n\u001b[1;32m--> 704\u001b[0m     tau_x, tau_y, tau_z, f_z \u001b[38;5;241m=\u001b[39m \u001b[38;5;28;43mself\u001b[39;49m\u001b[38;5;241;43m.\u001b[39;49m\u001b[43menforce_motor_limits\u001b[49m\u001b[43m(\u001b[49m\u001b[43mtau_x_des\u001b[49m\u001b[43m,\u001b[49m\u001b[43m \u001b[49m\u001b[43mtau_y_des\u001b[49m\u001b[43m,\u001b[49m\u001b[43m \u001b[49m\u001b[43mtau_z_des\u001b[49m\u001b[43m,\u001b[49m\u001b[43m \u001b[49m\u001b[43mf_z_des\u001b[49m\u001b[43m)\u001b[49m\n\u001b[0;32m    705\u001b[0m     drone[\u001b[38;5;124m'\u001b[39m\u001b[38;5;124mu\u001b[39m\u001b[38;5;124m'\u001b[39m] \u001b[38;5;241m=\u001b[39m np\u001b[38;5;241m.\u001b[39marray([tau_x, tau_y, tau_z, f_z])\n\u001b[0;32m    706\u001b[0m     \u001b[38;5;28;01mreturn\u001b[39;00m tau_x, tau_y, tau_z, f_z\n",
      "File \u001b[1;32mc:\\Users\\ellay\\OneDrive\\Desktop\\AE_353\\ae353-sp25\\projects\\04_drone\\ae353_drone.py:700\u001b[0m, in \u001b[0;36mSimulator.enforce_motor_limits\u001b[1;34m(self, tau_x_des, tau_y_des, tau_z_des, f_z_des)\u001b[0m\n\u001b[0;32m    698\u001b[0m s \u001b[38;5;241m=\u001b[39m np\u001b[38;5;241m.\u001b[39mclip(\u001b[38;5;28mself\u001b[39m\u001b[38;5;241m.\u001b[39mM \u001b[38;5;241m@\u001b[39m u, \u001b[38;5;28mself\u001b[39m\u001b[38;5;241m.\u001b[39ms_min, \u001b[38;5;28mself\u001b[39m\u001b[38;5;241m.\u001b[39ms_max)\n\u001b[0;32m    699\u001b[0m \u001b[38;5;66;03m# recompute inputs\u001b[39;00m\n\u001b[1;32m--> 700\u001b[0m u \u001b[38;5;241m=\u001b[39m \u001b[43mlinalg\u001b[49m\u001b[38;5;241;43m.\u001b[39;49m\u001b[43msolve\u001b[49m\u001b[43m(\u001b[49m\u001b[38;5;28;43mself\u001b[39;49m\u001b[38;5;241;43m.\u001b[39;49m\u001b[43mM\u001b[49m\u001b[43m,\u001b[49m\u001b[43m \u001b[49m\u001b[43ms\u001b[49m\u001b[43m)\u001b[49m\n\u001b[0;32m    701\u001b[0m \u001b[38;5;28;01mreturn\u001b[39;00m u[\u001b[38;5;241m0\u001b[39m], u[\u001b[38;5;241m1\u001b[39m], u[\u001b[38;5;241m2\u001b[39m], u[\u001b[38;5;241m3\u001b[39m]\n",
      "File \u001b[1;32mc:\\Users\\ellay\\miniconda3\\envs\\ae353\\Lib\\site-packages\\scipy\\linalg\\_basic.py:269\u001b[0m, in \u001b[0;36msolve\u001b[1;34m(a, b, lower, overwrite_a, overwrite_b, check_finite, assume_a, transposed)\u001b[0m\n\u001b[0;32m    266\u001b[0m     x, info \u001b[38;5;241m=\u001b[39m getrs(lu, ipvt, b1,\n\u001b[0;32m    267\u001b[0m                     trans\u001b[38;5;241m=\u001b[39mtrans, overwrite_b\u001b[38;5;241m=\u001b[39moverwrite_b)\n\u001b[0;32m    268\u001b[0m     _solve_check(n, info)\n\u001b[1;32m--> 269\u001b[0m     rcond, info \u001b[38;5;241m=\u001b[39m \u001b[43mgecon\u001b[49m\u001b[43m(\u001b[49m\u001b[43mlu\u001b[49m\u001b[43m,\u001b[49m\u001b[43m \u001b[49m\u001b[43manorm\u001b[49m\u001b[43m,\u001b[49m\u001b[43m \u001b[49m\u001b[43mnorm\u001b[49m\u001b[38;5;241;43m=\u001b[39;49m\u001b[43mnorm\u001b[49m\u001b[43m)\u001b[49m\n\u001b[0;32m    270\u001b[0m \u001b[38;5;66;03m# Hermitian case 'hesv'\u001b[39;00m\n\u001b[0;32m    271\u001b[0m \u001b[38;5;28;01melif\u001b[39;00m assume_a \u001b[38;5;129;01min\u001b[39;00m {\u001b[38;5;124m'\u001b[39m\u001b[38;5;124mhermitian\u001b[39m\u001b[38;5;124m'\u001b[39m, \u001b[38;5;124m'\u001b[39m\u001b[38;5;124mher\u001b[39m\u001b[38;5;124m'\u001b[39m}:\n",
      "\u001b[1;31mKeyboardInterrupt\u001b[0m: "
     ]
    }
   ],
   "source": [
    "simulator.run(max_time=5.0)"
   ]
  },
  {
   "cell_type": "markdown",
   "id": "small-nation",
   "metadata": {},
   "source": [
    "## Example of how to show results and keep running"
   ]
  },
  {
   "cell_type": "markdown",
   "id": "engaged-award",
   "metadata": {},
   "source": [
    "Show results (so far)."
   ]
  },
  {
   "cell_type": "code",
   "execution_count": 30,
   "id": "exclusive-orlando",
   "metadata": {},
   "outputs": [
    {
     "name": "stdout",
     "output_type": "stream",
     "text": [
      "FINISHED\n",
      "\n",
      "STILL RUNNING\n",
      " template            \n",
      "\n",
      "FAILED\n"
     ]
    }
   ],
   "source": [
    "simulator.show_results()"
   ]
  },
  {
   "cell_type": "markdown",
   "id": "american-corpus",
   "metadata": {},
   "source": [
    "Continue running simulation from same point for `max_time` seconds or until all drones either finish or are disqualified."
   ]
  },
  {
   "cell_type": "code",
   "execution_count": null,
   "id": "known-retail",
   "metadata": {},
   "outputs": [],
   "source": [
    "simulator.run(max_time=10.0)"
   ]
  },
  {
   "cell_type": "markdown",
   "id": "engaged-indonesian",
   "metadata": {},
   "source": [
    "Show results (so far)."
   ]
  },
  {
   "cell_type": "code",
   "execution_count": null,
   "id": "minor-superintendent",
   "metadata": {},
   "outputs": [],
   "source": [
    "simulator.show_results()"
   ]
  },
  {
   "cell_type": "markdown",
   "id": "earned-somewhere",
   "metadata": {},
   "source": [
    "## Example of how to clear and reload drones"
   ]
  },
  {
   "cell_type": "markdown",
   "id": "civilian-interface",
   "metadata": {},
   "source": [
    "Clear all drones."
   ]
  },
  {
   "cell_type": "code",
   "execution_count": 31,
   "id": "economic-miller",
   "metadata": {},
   "outputs": [],
   "source": [
    "simulator.clear_drones()"
   ]
  },
  {
   "cell_type": "markdown",
   "id": "smoking-animation",
   "metadata": {},
   "source": [
    "Load drones again from `students` directory."
   ]
  },
  {
   "cell_type": "code",
   "execution_count": 32,
   "id": "rental-member",
   "metadata": {},
   "outputs": [
    {
     "name": "stdout",
     "output_type": "stream",
     "text": [
      "Try to import controllers from the directory \"./students\":\n",
      " ./students/template.py\n",
      "\n",
      "\n",
      "The following controllers failed to import and were ignored:\n",
      "\n"
     ]
    }
   ],
   "source": [
    "failures = simulator.load_drones()"
   ]
  },
  {
   "cell_type": "markdown",
   "id": "democratic-advocacy",
   "metadata": {},
   "source": [
    "Reset drones (places drones at random positions within the start ring)."
   ]
  },
  {
   "cell_type": "code",
   "execution_count": null,
   "id": "every-times",
   "metadata": {},
   "outputs": [],
   "source": [
    "simulator.reset()"
   ]
  },
  {
   "cell_type": "markdown",
   "id": "special-camel",
   "metadata": {},
   "source": [
    "Run simulation until `max_time` is reached or until all drones finish."
   ]
  },
  {
   "cell_type": "code",
   "execution_count": null,
   "id": "present-analyst",
   "metadata": {},
   "outputs": [],
   "source": [
    "simulator.run(max_time=5.0)"
   ]
  },
  {
   "cell_type": "markdown",
   "id": "aquatic-saint",
   "metadata": {},
   "source": [
    "## Example of how to rearrange the rings"
   ]
  },
  {
   "cell_type": "markdown",
   "id": "natural-drunk",
   "metadata": {},
   "source": [
    "Rearrange the rings."
   ]
  },
  {
   "cell_type": "code",
   "execution_count": null,
   "id": "premium-mexico",
   "metadata": {},
   "outputs": [],
   "source": [
    "simulator.place_rings()"
   ]
  },
  {
   "cell_type": "markdown",
   "id": "allied-genealogy",
   "metadata": {},
   "source": [
    "Reset drones (places drones at random positions within the start ring)."
   ]
  },
  {
   "cell_type": "code",
   "execution_count": null,
   "id": "reasonable-writer",
   "metadata": {},
   "outputs": [],
   "source": [
    "simulator.reset()"
   ]
  },
  {
   "cell_type": "markdown",
   "id": "strange-provision",
   "metadata": {},
   "source": [
    "Run simulation until `max_time` is reached or until all drones finish."
   ]
  },
  {
   "cell_type": "code",
   "execution_count": null,
   "id": "narrative-worse",
   "metadata": {},
   "outputs": [],
   "source": [
    "simulator.run(max_time=5.0)"
   ]
  },
  {
   "cell_type": "markdown",
   "id": "dbf26e86",
   "metadata": {},
   "source": [
    "## Example of how to add and remove views"
   ]
  },
  {
   "cell_type": "markdown",
   "id": "53f8c9ec",
   "metadata": {},
   "source": [
    "Add another static view in a new browser window."
   ]
  },
  {
   "cell_type": "code",
   "execution_count": null,
   "id": "6c1a883d",
   "metadata": {},
   "outputs": [],
   "source": [
    "simulator.add_view(\n",
    "    'my_top_view',  # name of view (must be unique)\n",
    "    'top',          # type of view (start, top, right, left, or back)\n",
    ")"
   ]
  },
  {
   "cell_type": "markdown",
   "id": "3f5b7684",
   "metadata": {},
   "source": [
    "Add a view of a ring in a new browser window."
   ]
  },
  {
   "cell_type": "code",
   "execution_count": null,
   "id": "cac98247",
   "metadata": {},
   "outputs": [],
   "source": [
    "simulator.add_ring_view(\n",
    "    'my_ring_view', # name of view (must be unique)\n",
    "    1,              # index of ring (between 1 and 14)\n",
    "    yaw=180.,       # yaw angle in degrees (0 looks forward, 180 looks backward, etc.)\n",
    "    distance=2.5,   # how far away the camera is from the center of the ring\n",
    ")"
   ]
  },
  {
   "cell_type": "markdown",
   "id": "fff1f55e",
   "metadata": {},
   "source": [
    "Add a view of a drone in a new browser window."
   ]
  },
  {
   "cell_type": "code",
   "execution_count": null,
   "id": "28484af9",
   "metadata": {},
   "outputs": [],
   "source": [
    "simulator.add_drone_view(\n",
    "    'my_drone_view',    # name of view (must be unique)\n",
    "    'template',         # name of drone\n",
    "    yaw=0.,             # yaw angle in degrees (0 looks forward, 180 looks backward, etc.)\n",
    "    pitch=15.,          # pitch angle in degrees,\n",
    "    distance=2.,        # how far away the camera is from the center of the drone\n",
    ")"
   ]
  },
  {
   "cell_type": "markdown",
   "id": "97b08885",
   "metadata": {},
   "source": [
    "Reset drones (places drones at random positions within the start ring)."
   ]
  },
  {
   "cell_type": "code",
   "execution_count": null,
   "id": "18b19a39",
   "metadata": {},
   "outputs": [],
   "source": [
    "simulator.reset()"
   ]
  },
  {
   "cell_type": "markdown",
   "id": "037da711",
   "metadata": {},
   "source": [
    "Run simulation until `max_time` is reached or until all drones finish."
   ]
  },
  {
   "cell_type": "code",
   "execution_count": null,
   "id": "11dcfd91",
   "metadata": {},
   "outputs": [],
   "source": [
    "simulator.run(max_time=5.0)"
   ]
  },
  {
   "cell_type": "markdown",
   "id": "b02a9e79",
   "metadata": {},
   "source": [
    "Remove the top view. The browser window that contains this view will no longer be updated."
   ]
  },
  {
   "cell_type": "code",
   "execution_count": null,
   "id": "4ac5248f",
   "metadata": {},
   "outputs": [],
   "source": [
    "simulator.remove_view(\n",
    "    'my_top_view',      # name of view to remove\n",
    ")"
   ]
  },
  {
   "cell_type": "markdown",
   "id": "c83d18e7",
   "metadata": {},
   "source": [
    "Reset drones (places drones at random positions within the start ring). Notice that the top view isn't updated, because it no longer exists."
   ]
  },
  {
   "cell_type": "code",
   "execution_count": null,
   "id": "210c07b6",
   "metadata": {},
   "outputs": [],
   "source": [
    "simulator.reset()"
   ]
  },
  {
   "cell_type": "markdown",
   "id": "2fa8cb7b",
   "metadata": {},
   "source": [
    "Add another static view — from the right this time instead of from the top. This new view should appear in the same browser window that formerly contained the top view."
   ]
  },
  {
   "cell_type": "code",
   "execution_count": null,
   "id": "b379db25",
   "metadata": {},
   "outputs": [],
   "source": [
    "simulator.add_view(\n",
    "    'my_right_view',    # name of view (must be unique)\n",
    "    'right',            # type of view (start, top, right, left, or back)\n",
    ")"
   ]
  },
  {
   "cell_type": "markdown",
   "id": "b29937fd",
   "metadata": {},
   "source": [
    "Reset drones (places drones at random positions within the start ring). Notice that the (new) right view *is* updated,"
   ]
  },
  {
   "cell_type": "code",
   "execution_count": null,
   "id": "471253cf",
   "metadata": {},
   "outputs": [],
   "source": [
    "simulator.reset()"
   ]
  },
  {
   "cell_type": "markdown",
   "id": "realistic-virgin",
   "metadata": {},
   "source": [
    "## Example of how to take a snapshot"
   ]
  },
  {
   "cell_type": "markdown",
   "id": "instant-scott",
   "metadata": {},
   "source": [
    "Display a snapshot."
   ]
  },
  {
   "cell_type": "code",
   "execution_count": null,
   "id": "thrown-harvard",
   "metadata": {},
   "outputs": [],
   "source": [
    "# Set the width and height of the snapshot (must be multiples of 16)\n",
    "simulator.set_snapshot_size(\n",
    "    640, # <-- width\n",
    "    480, # <-- height\n",
    ")\n",
    "\n",
    "# Get snapshot as height x width x 4 numpy array of RGBA values\n",
    "rgba = simulator.snapshot(\n",
    "    'my_start_view',    # name of view from which to take a snapshot\n",
    ")\n",
    "\n",
    "# Display snapshot\n",
    "plt.figure(figsize=(8, 8))\n",
    "plt.imshow(rgba)"
   ]
  },
  {
   "cell_type": "markdown",
   "id": "frequent-housing",
   "metadata": {},
   "source": [
    "Save the snapshot."
   ]
  },
  {
   "cell_type": "code",
   "execution_count": null,
   "id": "serial-tampa",
   "metadata": {},
   "outputs": [],
   "source": [
    "plt.imsave('my_snapshot.png', rgba)"
   ]
  },
  {
   "cell_type": "markdown",
   "id": "preliminary-washington",
   "metadata": {},
   "source": [
    "## Example of how to record a movie"
   ]
  },
  {
   "cell_type": "markdown",
   "id": "missing-administrator",
   "metadata": {},
   "source": [
    "Reset drones (places drones at random positions within the start ring)."
   ]
  },
  {
   "cell_type": "code",
   "execution_count": null,
   "id": "economic-tribe",
   "metadata": {},
   "outputs": [],
   "source": [
    "simulator.reset()"
   ]
  },
  {
   "cell_type": "markdown",
   "id": "cutting-guide",
   "metadata": {},
   "source": [
    "Run simulation until `max_time` is reached or until all drones finish, saving movies from two different views. You can add or remove elements to the list of `videos` to save more or fewer movies."
   ]
  },
  {
   "cell_type": "code",
   "execution_count": null,
   "id": "comprehensive-taxation",
   "metadata": {},
   "outputs": [],
   "source": [
    "simulator.run(\n",
    "    max_time=1.0,\n",
    "    videos=[\n",
    "        {\n",
    "            'view_name': 'my_start_view',       # name of view from which to record a video\n",
    "            'file_name': 'my_start_video.mp4',  # name of file to which video will be saved\n",
    "        },\n",
    "        {\n",
    "            'view_name': 'my_drone_view',       # name of view from which to record a video\n",
    "            'file_name': 'my_drone_video.mp4',  # name of file to which video will be saved\n",
    "        }\n",
    "    ],\n",
    "    print_debug=True,   # this option is recommended when saving videos to track progress\n",
    ")"
   ]
  },
  {
   "cell_type": "markdown",
   "id": "190e07f5",
   "metadata": {},
   "source": [
    "## Example of how to allow print statements, long run times, and inactivity"
   ]
  },
  {
   "cell_type": "markdown",
   "id": "c686ae49",
   "metadata": {},
   "source": [
    "By default, your controller will fail if any of the following conditions is met:\n",
    "\n",
    "* It prints something to `stdout`.\n",
    "* It exceeds the maximum runtime of `1` second for `init`, `1` second for `reset`, and `1e-2` seconds for `run` (on more than 10 occasions).\n",
    "* It moves less than `0.1` meters in `10.0` seconds.\n",
    "\n",
    "You can relax these rules for the purpose of development if you want, as follows."
   ]
  },
  {
   "cell_type": "code",
   "execution_count": null,
   "id": "6b070406",
   "metadata": {},
   "outputs": [],
   "source": [
    "simulator.set_rules(\n",
    "    error_on_print=False,    # <-- allow print statements in controller code\n",
    "    error_on_timeout=False,  # <-- allow long runtimes in controller code\n",
    "    error_on_inactive=False, # <-- allow inactivity\n",
    ")"
   ]
  },
  {
   "cell_type": "markdown",
   "id": "07868924",
   "metadata": {},
   "source": [
    "## Example of how to find the position, orientation, and radius of each ring"
   ]
  },
  {
   "cell_type": "markdown",
   "id": "58365d59",
   "metadata": {},
   "source": [
    "This information should only be used for analysis."
   ]
  },
  {
   "cell_type": "code",
   "execution_count": null,
   "id": "53e0118c",
   "metadata": {},
   "outputs": [],
   "source": [
    "for i, ring in enumerate(simulator.rings):\n",
    "    p = ring['p']        # <--- position of ring\n",
    "    v = ring['R'][:, 0]  # <--- unit vector normal to ring (pointing through it)\n",
    "    r = ring['radius']   # <--- radius of ring\n",
    "    s = f'ring {i:2d}' + \\\n",
    "        f' : p ({p[0]:6.2f}, {p[1]:6.2f}, {p[2]:6.2f})' + \\\n",
    "        f' : v ({v[0]:6.2f}, {v[1]:6.2f}, {v[2]:6.2f})' + \\\n",
    "        f' : r ({r:6.2f})'\n",
    "    print(s)"
   ]
  },
  {
   "cell_type": "markdown",
   "id": "721be42f",
   "metadata": {},
   "source": [
    "## Example of how to specify initial conditions"
   ]
  },
  {
   "cell_type": "markdown",
   "id": "c6019bb7",
   "metadata": {},
   "source": [
    "Reset the simulator with given initial conditions. The argument `initial_conditions` must be a dictionary. This dictionary must have an key/value pair for each drone in the simulator. The key must be the name of the corresponding drone. The value must, itself, be a dictionary with a key/value pair for each initial state and each initial measurement."
   ]
  },
  {
   "cell_type": "code",
   "execution_count": null,
   "id": "6ddb776b",
   "metadata": {},
   "outputs": [],
   "source": [
    "simulator.reset(\n",
    "    initial_conditions={\n",
    "        'template': {\n",
    "            'p_x': 0.,\n",
    "            'p_y': 0.,\n",
    "            'p_z': 0.5,\n",
    "            'yaw': 0.,\n",
    "            'pitch': 0.,\n",
    "            'roll': 0.,\n",
    "            'v_x': 0.,\n",
    "            'v_y': 0.,\n",
    "            'v_z': 0.,\n",
    "            'w_x': 0.,\n",
    "            'w_y': 0.,\n",
    "            'w_z': 0.,\n",
    "            'p_x_meas': 0.,\n",
    "            'p_y_meas': 0.,\n",
    "            'p_z_meas': 0.5,\n",
    "            'yaw_meas': 0.,\n",
    "        },\n",
    "    },\n",
    ")"
   ]
  },
  {
   "cell_type": "markdown",
   "id": "ae8346ee",
   "metadata": {},
   "source": [
    "Run simulation for `max_time` seconds or until all drones finish."
   ]
  },
  {
   "cell_type": "code",
   "execution_count": null,
   "id": "f4a6d547",
   "metadata": {},
   "outputs": [],
   "source": [
    "simulator.run(max_time=5.0)"
   ]
  },
  {
   "cell_type": "markdown",
   "id": "b5362c7c",
   "metadata": {},
   "source": [
    "## Example of how to disable and enable views"
   ]
  },
  {
   "cell_type": "markdown",
   "id": "bffd94e5",
   "metadata": {},
   "source": [
    "Disable views so they aren't updated while running simulations. These simulations will then run as fast as possible (much faster than real time), so this option is a good choice when collecting lots of data."
   ]
  },
  {
   "cell_type": "code",
   "execution_count": null,
   "id": "ac530300",
   "metadata": {},
   "outputs": [],
   "source": [
    "simulator.disable_views()"
   ]
  },
  {
   "cell_type": "markdown",
   "id": "64220135",
   "metadata": {},
   "source": [
    "Reset drones (places drones at random positions within the start ring). Note that views are still updated — it is only when running simulations that views aren't updated."
   ]
  },
  {
   "cell_type": "code",
   "execution_count": null,
   "id": "8775f465",
   "metadata": {},
   "outputs": [],
   "source": [
    "simulator.reset()"
   ]
  },
  {
   "cell_type": "markdown",
   "id": "28dad5e5",
   "metadata": {},
   "source": [
    "Run simulation for `max_time` seconds or until all drones finish (should take much less than `max_time` seconds to run)."
   ]
  },
  {
   "cell_type": "code",
   "execution_count": null,
   "id": "9ff2bfe4",
   "metadata": {},
   "outputs": [],
   "source": [
    "simulator.run(max_time=5.0)"
   ]
  },
  {
   "cell_type": "markdown",
   "id": "d1aa1607",
   "metadata": {},
   "source": [
    "Enable views again."
   ]
  },
  {
   "cell_type": "code",
   "execution_count": null,
   "id": "46867ce9",
   "metadata": {},
   "outputs": [],
   "source": [
    "simulator.enable_views()"
   ]
  },
  {
   "cell_type": "markdown",
   "id": "419345f3",
   "metadata": {},
   "source": [
    "Run simulation for `max_time` seconds or until all drones finish (should take about `max_time` seconds to run)."
   ]
  },
  {
   "cell_type": "code",
   "execution_count": null,
   "id": "14b95205",
   "metadata": {},
   "outputs": [],
   "source": [
    "simulator.run(max_time=5.0)"
   ]
  }
 ],
 "metadata": {
  "kernelspec": {
   "display_name": "Python 3",
   "language": "python",
   "name": "python3"
  },
  "language_info": {
   "codemirror_mode": {
    "name": "ipython",
    "version": 3
   },
   "file_extension": ".py",
   "mimetype": "text/x-python",
   "name": "python",
   "nbconvert_exporter": "python",
   "pygments_lexer": "ipython3",
   "version": "3.13.1"
  }
 },
 "nbformat": 4,
 "nbformat_minor": 5
}
