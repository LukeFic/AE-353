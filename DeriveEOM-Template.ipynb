{
 "cells": [
  {
   "cell_type": "markdown",
   "id": "bf67731b",
   "metadata": {},
   "source": [
    "# Derive models of spacecraft with star tracker"
   ]
  },
  {
   "cell_type": "markdown",
   "id": "389fec45",
   "metadata": {},
   "source": [
    "Do all imports."
   ]
  },
  {
   "cell_type": "code",
   "execution_count": 53,
   "id": "da735e52-8060-4ce9-bfeb-14490d5fc6f2",
   "metadata": {},
   "outputs": [
    {
     "name": "stdout",
     "output_type": "stream",
     "text": [
      "Collecting control\n",
      "  Downloading control-0.10.1-py3-none-any.whl.metadata (7.6 kB)\n",
      "Requirement already satisfied: numpy>=1.23 in c:\\users\\lafic\\miniforge3\\envs\\ae353\\lib\\site-packages (from control) (2.2.2)\n",
      "Requirement already satisfied: scipy>=1.8 in c:\\users\\lafic\\miniforge3\\envs\\ae353\\lib\\site-packages (from control) (1.15.1)\n",
      "Requirement already satisfied: matplotlib>=3.6 in c:\\users\\lafic\\miniforge3\\envs\\ae353\\lib\\site-packages (from control) (3.10.0)\n",
      "Requirement already satisfied: contourpy>=1.0.1 in c:\\users\\lafic\\miniforge3\\envs\\ae353\\lib\\site-packages (from matplotlib>=3.6->control) (1.3.1)\n",
      "Requirement already satisfied: cycler>=0.10 in c:\\users\\lafic\\miniforge3\\envs\\ae353\\lib\\site-packages (from matplotlib>=3.6->control) (0.12.1)\n",
      "Requirement already satisfied: fonttools>=4.22.0 in c:\\users\\lafic\\miniforge3\\envs\\ae353\\lib\\site-packages (from matplotlib>=3.6->control) (4.55.6)\n",
      "Requirement already satisfied: kiwisolver>=1.3.1 in c:\\users\\lafic\\miniforge3\\envs\\ae353\\lib\\site-packages (from matplotlib>=3.6->control) (1.4.7)\n",
      "Requirement already satisfied: packaging>=20.0 in c:\\users\\lafic\\miniforge3\\envs\\ae353\\lib\\site-packages (from matplotlib>=3.6->control) (24.2)\n",
      "Requirement already satisfied: pillow>=8 in c:\\users\\lafic\\miniforge3\\envs\\ae353\\lib\\site-packages (from matplotlib>=3.6->control) (11.1.0)\n",
      "Requirement already satisfied: pyparsing>=2.3.1 in c:\\users\\lafic\\miniforge3\\envs\\ae353\\lib\\site-packages (from matplotlib>=3.6->control) (3.2.1)\n",
      "Requirement already satisfied: python-dateutil>=2.7 in c:\\users\\lafic\\miniforge3\\envs\\ae353\\lib\\site-packages (from matplotlib>=3.6->control) (2.9.0.post0)\n",
      "Requirement already satisfied: six>=1.5 in c:\\users\\lafic\\miniforge3\\envs\\ae353\\lib\\site-packages (from python-dateutil>=2.7->matplotlib>=3.6->control) (1.17.0)\n",
      "Downloading control-0.10.1-py3-none-any.whl (549 kB)\n",
      "   ---------------------------------------- 0.0/549.6 kB ? eta -:--:--\n",
      "   --------------------------------------- 549.6/549.6 kB 11.5 MB/s eta 0:00:00\n",
      "Installing collected packages: control\n",
      "Successfully installed control-0.10.1\n"
     ]
    }
   ],
   "source": [
    "!pip install control"
   ]
  },
  {
   "cell_type": "code",
   "execution_count": 54,
   "id": "other-peter",
   "metadata": {},
   "outputs": [],
   "source": [
    "import sympy as sym\n",
    "import numpy as np\n",
    "from IPython.display import display, Markdown\n",
    "import ae353_spacecraft_design as design\n",
    "import control\n",
    "\n",
    "# Suppress the use of scientific notation when printing small numbers\n",
    "np.set_printoptions(suppress=True)"
   ]
  },
  {
   "cell_type": "markdown",
   "id": "30f99a8f",
   "metadata": {},
   "source": [
    "## Create spacecraft"
   ]
  },
  {
   "cell_type": "markdown",
   "id": "58060459",
   "metadata": {},
   "source": [
    "Create a visualizer to help with placement of reaction wheels."
   ]
  },
  {
   "cell_type": "code",
   "execution_count": null,
   "id": "c562c7e4-419e-4fcd-ba5d-cd4ca2e9989d",
   "metadata": {},
   "outputs": [],
   "source": []
  },
  {
   "cell_type": "code",
   "execution_count": 31,
   "id": "c4596230",
   "metadata": {},
   "outputs": [
    {
     "name": "stdout",
     "output_type": "stream",
     "text": [
      "You can open the visualizer by visiting the following URL:\n",
      "http://127.0.0.1:7002/static/\n"
     ]
    },
    {
     "data": {
      "text/html": [
       "\n",
       "            <div style=\"height: 400px; width: 100%; overflow-x: auto; overflow-y: hidden; resize: both\">\n",
       "            <iframe src=\"http://127.0.0.1:7002/static/\" style=\"width: 100%; height: 100%; border: none\"></iframe>\n",
       "            </div>\n",
       "            "
      ],
      "text/plain": [
       "<IPython.core.display.HTML object>"
      ]
     },
     "execution_count": 31,
     "metadata": {},
     "output_type": "execute_result"
    }
   ],
   "source": [
    "# Create the visualizer\n",
    "vis = design.create_visualizer()\n",
    "\n",
    "# Show the visualizer in this notebook\n",
    "vis.jupyter_cell()"
   ]
  },
  {
   "cell_type": "markdown",
   "id": "5f3ada47",
   "metadata": {},
   "source": [
    "Specify the location of four reaction wheels in terms of their right ascension $\\alpha$ and declination $\\delta$. You cannot change the number of wheels, but it is likely that you **must** change the location of wheels in order for the system to be controllable."
   ]
  },
  {
   "cell_type": "code",
   "execution_count": 32,
   "id": "6700e408",
   "metadata": {},
   "outputs": [],
   "source": [
    "wheels = [\n",
    "    {'alpha': 1 * np.pi / 2, 'delta': 0.},\n",
    "    {'alpha': np.pi, 'delta': 0.},\n",
    "    {'alpha': 3 * np.pi / 2, 'delta': 0.},\n",
    "    {'alpha': 0, 'delta': -1 * np.pi / 2.},\n",
    "]"
   ]
  },
  {
   "cell_type": "markdown",
   "id": "35d5b68c",
   "metadata": {},
   "source": [
    "Show wheels in the visualizer. You will be warned if any wheel obscures the star tracker (i.e., the \"scope\") or if any two wheels are too close together."
   ]
  },
  {
   "cell_type": "code",
   "execution_count": 33,
   "id": "78f08330",
   "metadata": {},
   "outputs": [],
   "source": [
    "design.show_wheels(vis, wheels)"
   ]
  },
  {
   "cell_type": "markdown",
   "id": "08d304bd",
   "metadata": {},
   "source": [
    "Create a model of the spacecraft in URDF format. This will **overwrite** the file `spacecraft.urdf` in the `urdf` directory. Also, compute the mass $m$ and inertia matrix $J$ of the spacecraft (including all the wheels). These parameters will be used later when deriving equations of motion."
   ]
  },
  {
   "cell_type": "code",
   "execution_count": 34,
   "id": "0020f641",
   "metadata": {},
   "outputs": [
    {
     "data": {
      "text/markdown": [
       "$$m = 19.0 \\qquad\\qquad J = \\left[\\begin{matrix}26.08 & 0.0 & 0.0\\\\0.0 & 23.72 & 0.0\\\\0.0 & 0.0 & 26.08\\end{matrix}\\right]$$"
      ],
      "text/plain": [
       "<IPython.core.display.Markdown object>"
      ]
     },
     "metadata": {},
     "output_type": "display_data"
    }
   ],
   "source": [
    "m, J = design.create_spacecraft(wheels)\n",
    "\n",
    "display(Markdown(\n",
    "       r'$$'\n",
    "    + fr'm = {sym.latex(np.round(m, decimals=2))}'\n",
    "    +  r' \\qquad\\qquad '\n",
    "    + fr'J = {sym.latex(sym.Matrix(J.round(decimals=2)))}'\n",
    "    +  r'$$'\n",
    "))"
   ]
  },
  {
   "cell_type": "markdown",
   "id": "87b011b1",
   "metadata": {},
   "source": [
    "## Create stars"
   ]
  },
  {
   "cell_type": "markdown",
   "id": "2b517fa1",
   "metadata": {},
   "source": [
    "Specify the location of at most ten stars in terms of their right ascension $\\alpha$ and declination $\\delta$. It is likely that you **must** change the number and/or location of stars in order for the system to be observable."
   ]
  },
  {
   "cell_type": "code",
   "execution_count": 35,
   "id": "4d9811cf",
   "metadata": {},
   "outputs": [],
   "source": [
    "stars = [\n",
    "    {'alpha':  0, 'delta':  .1},\n",
    "    {'alpha':  .1, 'delta':  -.1},\n",
    "    {'alpha':  0, 'delta':  -.1},\n",
    "    # <-- To add a star, append a copy of this dict to the list. To change\n",
    "                                      #     the location of a star, change the value of alpha and delta\n",
    "]"
   ]
  },
  {
   "cell_type": "markdown",
   "id": "2d1c5f62",
   "metadata": {},
   "source": [
    "Show where the stars will appear in the scope. The plot on the left shows $\\alpha$ and $\\delta$ gridelines. The plot on the right shows $y_\\text{star}$ and $z_\\text{star}$ gridlines."
   ]
  },
  {
   "cell_type": "code",
   "execution_count": 36,
   "id": "c74f0053",
   "metadata": {},
   "outputs": [
    {
     "data": {
      "image/png": "[encoded data removed]",
      "text/plain": [
       "<Figure size 900x400 with 2 Axes>"
      ]
     },
     "metadata": {},
     "output_type": "display_data"
    }
   ],
   "source": [
    "design.show_stars(stars)"
   ]
  },
  {
   "cell_type": "markdown",
   "id": "b110bce4",
   "metadata": {},
   "source": [
    "Create a file with the location of stars. This will **overwrite** the file `stars.json` in the `urdf` directory."
   ]
  },
  {
   "cell_type": "code",
   "execution_count": 37,
   "id": "dd9cc72a",
   "metadata": {},
   "outputs": [],
   "source": [
    "design.create_stars(stars)"
   ]
  },
  {
   "cell_type": "markdown",
   "id": "nominated-instrument",
   "metadata": {},
   "source": [
    "## Create dynamic model"
   ]
  },
  {
   "cell_type": "markdown",
   "id": "following-implementation",
   "metadata": {},
   "source": [
    "Derive the equations of motion."
   ]
  },
  {
   "cell_type": "code",
   "execution_count": 38,
   "id": "fixed-developer",
   "metadata": {},
   "outputs": [],
   "source": [
    "# Define yaw, pitch, roll angles\n",
    "psi, theta, phi = sym.symbols('psi, theta, phi')\n",
    "\n",
    "# Define angular velocities\n",
    "w_x, w_y, w_z = sym.symbols('w_x, w_y, w_z')\n",
    "\n",
    "# Define torques\n",
    "tau_1, tau_2, tau_3, tau_4 = sym.symbols('tau_1, tau_2, tau_3, tau_4')\n",
    "\n",
    "# Compute resultant torques\n",
    "T1 = - tau_1 * sym.Matrix(wheels[0]['xyz']) / np.linalg.norm(wheels[0]['xyz'])\n",
    "T2 = - tau_2 * sym.Matrix(wheels[1]['xyz']) / np.linalg.norm(wheels[1]['xyz'])\n",
    "T3 = - tau_3 * sym.Matrix(wheels[2]['xyz']) / np.linalg.norm(wheels[2]['xyz'])\n",
    "T4 = - tau_4 * sym.Matrix(wheels[3]['xyz']) / np.linalg.norm(wheels[3]['xyz'])\n",
    "T = sym.nsimplify(T1 + T2 + T3 + T4)\n",
    "\n",
    "# Define rotation matrices\n",
    "Rz = sym.Matrix([[sym.cos(psi), -sym.sin(psi), 0], [sym.sin(psi), sym.cos(psi), 0], [0, 0, 1]])\n",
    "Ry = sym.Matrix([[sym.cos(theta), 0, sym.sin(theta)], [0, 1, 0], [-sym.sin(theta), 0, sym.cos(theta)]])\n",
    "Rx = sym.Matrix([[1, 0, 0], [0, sym.cos(phi), -sym.sin(phi)], [0, sym.sin(phi), sym.cos(phi)]])\n",
    "\n",
    "# Define the transformation from angular velocity to angular rates\n",
    "ex = sym.Matrix([[1], [0], [0]])\n",
    "ey = sym.Matrix([[0], [1], [0]])\n",
    "ez = sym.Matrix([[0], [0], [1]])\n",
    "M = sym.simplify(sym.Matrix.hstack((Ry @ Rx).T @ ez, Rx.T @ ey, ex).inv(), full=True)\n",
    "\n",
    "# Define euler's equations\n",
    "Jx, Jy, Jz = [sym.nsimplify(j) for j in np.diag(J)]\n",
    "euler = sym.Matrix([[(1 / Jx) * (T[0] + (Jy - Jz) * w_y * w_z)],\n",
    "                    [(1 / Jy) * (T[1] + (Jz - Jx) * w_z * w_x)],\n",
    "                    [(1 / Jz) * (T[2] + (Jx - Jy) * w_x * w_y)]])\n",
    "\n",
    "# Define equations of motion\n",
    "f = sym.simplify(sym.Matrix.vstack(M * sym.Matrix([[w_x], [w_y], [w_z]]), euler), full=True)"
   ]
  },
  {
   "cell_type": "markdown",
   "id": "according-occasion",
   "metadata": {},
   "source": [
    "The equations of motion have this form:\n",
    "\n",
    "$$\\begin{bmatrix} \\dot{\\psi} \\\\ \\dot{\\theta} \\\\ \\dot{\\phi} \\\\ \\dot{w_x} \\\\ \\dot{w_y} \\\\ \\dot{w_z} \\end{bmatrix} = f\\left(\\psi, \\theta, \\phi, w_x, w_y, w_z, \\tau_1, \\tau_2, \\tau_3, \\tau_4\\right).$$\n",
    "\n",
    "Here is the function $f$:"
   ]
  },
  {
   "cell_type": "code",
   "execution_count": 71,
   "id": "welsh-passion",
   "metadata": {},
   "outputs": [
    {
     "name": "stdout",
     "output_type": "stream",
     "text": [
      "(6, 4)\n"
     ]
    },
    {
     "data": {
      "text/plain": [
       "array([[ -0.        ,  -7.07106781,  -0.        ,   0.        ,\n",
       "        -14.75593147,  -0.        ],\n",
       "       [  0.        ,  -0.        ,  10.        ,  24.93290998,\n",
       "         -0.        ,   0.        ],\n",
       "       [  0.        ,   7.07106781,   0.        ,  -0.        ,\n",
       "         14.75593147,   0.        ],\n",
       "       [ 10.        ,  -0.        ,   0.        ,   0.        ,\n",
       "          0.        ,  24.93290998]])"
      ]
     },
     "execution_count": 71,
     "metadata": {},
     "output_type": "execute_result"
    }
   ],
   "source": [
    "from scipy.signal import place_poles\n",
    "from scipy import linalg\n",
    "f\n",
    "anum = sym.lambdify((psi,theta,phi,w_x,w_y,w_z,tau_1,tau_2,tau_3,tau_4), f.jacobian((psi,theta,phi,w_x,w_y,w_z)))\n",
    "A = anum(0.0,0.0,0.0,0.0,0.0,0.0,0.0,0.0,0.0,0.0)\n",
    "A\n",
    "bnum = sym.lambdify((psi,theta,phi,w_x,w_y,w_z,tau_1,tau_2,tau_3,tau_4), f.jacobian((tau_1,tau_2,tau_3,tau_4)))\n",
    "B = bnum(0.0,0.0,0.0,0.0,0.0,0.0,0.0,0.0,0.0,0.0)\n",
    "B\n",
    "print(B.shape)\n",
    "W = B\n",
    "for i in range(1,A.shape[0]):\n",
    "    col = np.linalg.matrix_power(A,i) @ B\n",
    "    W = np.block([W,col])\n",
    "np.linalg.matrix_rank(W)\n",
    "a = np.poly(A)[1:]\n",
    "Q = np.eye(6)*100\n",
    "R = np.eye(4)\n",
    "P = linalg.solve_continuous_are(A,B,Q,R)\n",
    "K = linalg.inv(R) @ B.T @ P\n",
    "#latex(f)\\\n",
    "K"
   ]
  },
  {
   "cell_type": "markdown",
   "id": "cultural-penalty",
   "metadata": {},
   "source": [
    "## Create sensor model"
   ]
  },
  {
   "cell_type": "markdown",
   "id": "tested-graham",
   "metadata": {},
   "source": [
    "Create symbolic variables for right ascension $\\alpha$ and declination $\\delta$ of each star."
   ]
  },
  {
   "cell_type": "code",
   "execution_count": null,
   "id": "historic-ending",
   "metadata": {},
   "outputs": [],
   "source": [
    "alpha, delta = sym.symbols('alpha, delta')"
   ]
  },
  {
   "cell_type": "markdown",
   "id": "polish-burning",
   "metadata": {},
   "source": [
    "Derive the sensor model for one star."
   ]
  },
  {
   "cell_type": "code",
   "execution_count": null,
   "id": "diagnostic-authority",
   "metadata": {},
   "outputs": [],
   "source": [
    "# Position of star in space frame\n",
    "p_star_in_space = sym.Matrix([[sym.cos(alpha) * sym.cos(delta)],\n",
    "                              [sym.sin(alpha) * sym.cos(delta)],\n",
    "                              [sym.sin(delta)]])\n",
    "\n",
    "# Orientation of body frame in space frame\n",
    "R_body_in_space = Rz * Ry * Rx\n",
    "\n",
    "# Position of star in body frame (assuming origin of body and space frames are the same)\n",
    "p_star_in_body = R_body_in_space.T * p_star_in_space\n",
    "\n",
    "# Position of star in image frame\n",
    "r = sym.nsimplify(design.scope_radius)\n",
    "p_star_in_image = (1 / r) * sym.Matrix([[p_star_in_body[1] / p_star_in_body[0]],\n",
    "                                        [p_star_in_body[2] / p_star_in_body[0]]])\n",
    "print(sym.latex(g))\n",
    "\n",
    "g = sym.simplify(p_star_in_image, full = True)\n",
    "#print(g)\n",
    "\n",
    "G = g.subs({alpha: 0,delta: .1})\n",
    "\n",
    "for i in range(1, len(stars)):\n",
    "    #print(stars[i]['alpha'],stars[i]['delta'])\n",
    "    G = np.vstack((G,g.subs({alpha:stars[i]['alpha'], delta: stars[i]['delta']})))\n",
    "\n",
    "# Sensor model for each star\n",
    "G = sym.simplify(sym.Matrix(G))\n",
    "G.shape\n",
    "\n",
    "#G"
   ]
  },
  {
   "cell_type": "markdown",
   "id": "continuing-reference",
   "metadata": {},
   "source": [
    "The sensor model has the following form:\n",
    "\n",
    "$$\\begin{bmatrix} y_\\text{star} \\\\ z_\\text{star} \\end{bmatrix} = g(\\psi, \\theta, \\phi, \\alpha, \\delta).$$\n",
    "\n",
    "Here is the function $g$:"
   ]
  },
  {
   "cell_type": "code",
   "execution_count": 72,
   "id": "protected-orlando",
   "metadata": {},
   "outputs": [
    {
     "name": "stdout",
     "output_type": "stream",
     "text": [
      "(6, 6) (6, 6) (6, 6) (4, 4)\n",
      "Matrix([[0], [0.263378514224308], [0.263378514224308], [-0.264700916252661], [0], [-0.263378514224308]])\n"
     ]
    },
    {
     "data": {
      "text/plain": [
       "array([[-0.19792576, -0.02163259,  0.4897433 ,  0.        ,  0.        ,\n",
       "         0.        ],\n",
       "       [ 0.13673611,  0.30632324, -0.0075213 ,  0.        ,  0.        ,\n",
       "         0.        ],\n",
       "       [-0.18380976, -0.07489003, -0.48554779,  0.        ,  0.        ,\n",
       "         0.        ],\n",
       "       [-0.06941481,  0.00500694, -0.07180887,  0.        ,  0.        ,\n",
       "         0.        ],\n",
       "       [ 0.01180116,  0.09919962, -0.00449092,  0.        ,  0.        ,\n",
       "         0.        ],\n",
       "       [-0.07100927,  0.01159164,  0.06945011,  0.        ,  0.        ,\n",
       "         0.        ]])"
      ]
     },
     "execution_count": 72,
     "metadata": {},
     "output_type": "execute_result"
    }
   ],
   "source": [
    "from scipy.signal import place_poles\n",
    "g\n",
    "cnum = sym.lambdify((psi,theta,phi), G.jacobian(([psi,theta,phi,w_x,w_y,w_z])))\n",
    "C = cnum(0,0,0).T\n",
    "print(A.T.shape, C.T.shape,Q.shape,R.shape)\n",
    "Q0 = np.diag((1,1,1,1,1,1))\n",
    "R0 = np.diag((1,1,1,1,1,1))*100\n",
    "\n",
    "P = linalg.solve_continuous_are(A.T,C.T,linalg.inv(R0),linalg.inv(Q0))\n",
    "L = (Q0 @ C @ P).T\n",
    "\n",
    "\n",
    "print(G.subs({(phi,0),(psi,0),(theta,0)}))\n",
    "L"
   ]
  },
  {
   "cell_type": "markdown",
   "id": "42b69da2",
   "metadata": {},
   "source": [
    "Again, this sensor model is for **one star only**. You will have to use a copy of this same model for each star you defined in the \"Create Stars\" section of this notebook."
   ]
  },
  {
   "cell_type": "code",
   "execution_count": null,
   "id": "3d152c80-0ced-40d7-a50b-d315337ec82b",
   "metadata": {},
   "outputs": [],
   "source": []
  }
 ],
 "metadata": {
  "kernelspec": {
   "display_name": "Python 3 (ipykernel)",
   "language": "python",
   "name": "python3"
  },
  "language_info": {
   "codemirror_mode": {
    "name": "ipython",
    "version": 3
   },
   "file_extension": ".py",
   "mimetype": "text/x-python",
   "name": "python",
   "nbconvert_exporter": "python",
   "pygments_lexer": "ipython3",
   "version": "3.13.1"
  }
 },
 "nbformat": 4,
 "nbformat_minor": 5
}
